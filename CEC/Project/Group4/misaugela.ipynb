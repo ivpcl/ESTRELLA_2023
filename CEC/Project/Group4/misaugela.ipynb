{
  "cells": [
    {
      "cell_type": "markdown",
      "source": [
        "# Download files from the internet\n",
        "Here, you can see the files that are being used to build up the assignment."
      ],
      "metadata": {
        "id": "XspBRQHIFh78"
      }
    },
    {
      "cell_type": "code",
      "execution_count": null,
      "metadata": {
        "colab": {
          "base_uri": "https://localhost:8080/"
        },
        "id": "9HharDs_VT5V",
        "outputId": "eeb24b3c-8979-45d3-a482-18a0f0cefc76"
      },
      "outputs": [
        {
          "output_type": "stream",
          "name": "stdout",
          "text": [
            "Looking in indexes: https://pypi.org/simple, https://us-python.pkg.dev/colab-wheels/public/simple/\n",
            "Requirement already satisfied: ipywidgets in /usr/local/lib/python3.9/dist-packages (7.7.1)\n",
            "Requirement already satisfied: ipython-genutils~=0.2.0 in /usr/local/lib/python3.9/dist-packages (from ipywidgets) (0.2.0)\n",
            "Requirement already satisfied: traitlets>=4.3.1 in /usr/local/lib/python3.9/dist-packages (from ipywidgets) (5.7.1)\n",
            "Requirement already satisfied: ipykernel>=4.5.1 in /usr/local/lib/python3.9/dist-packages (from ipywidgets) (5.3.4)\n",
            "Requirement already satisfied: widgetsnbextension~=3.6.0 in /usr/local/lib/python3.9/dist-packages (from ipywidgets) (3.6.2)\n",
            "Requirement already satisfied: jupyterlab-widgets>=1.0.0 in /usr/local/lib/python3.9/dist-packages (from ipywidgets) (3.0.5)\n",
            "Requirement already satisfied: ipython>=4.0.0 in /usr/local/lib/python3.9/dist-packages (from ipywidgets) (7.9.0)\n",
            "Requirement already satisfied: jupyter-client in /usr/local/lib/python3.9/dist-packages (from ipykernel>=4.5.1->ipywidgets) (6.1.12)\n",
            "Requirement already satisfied: tornado>=4.2 in /usr/local/lib/python3.9/dist-packages (from ipykernel>=4.5.1->ipywidgets) (6.2)\n",
            "Requirement already satisfied: pexpect in /usr/local/lib/python3.9/dist-packages (from ipython>=4.0.0->ipywidgets) (4.8.0)\n",
            "Requirement already satisfied: pickleshare in /usr/local/lib/python3.9/dist-packages (from ipython>=4.0.0->ipywidgets) (0.7.5)\n",
            "Requirement already satisfied: prompt-toolkit<2.1.0,>=2.0.0 in /usr/local/lib/python3.9/dist-packages (from ipython>=4.0.0->ipywidgets) (2.0.10)\n",
            "Requirement already satisfied: decorator in /usr/local/lib/python3.9/dist-packages (from ipython>=4.0.0->ipywidgets) (4.4.2)\n",
            "Requirement already satisfied: pygments in /usr/local/lib/python3.9/dist-packages (from ipython>=4.0.0->ipywidgets) (2.6.1)\n",
            "Requirement already satisfied: setuptools>=18.5 in /usr/local/lib/python3.9/dist-packages (from ipython>=4.0.0->ipywidgets) (63.4.3)\n",
            "Collecting jedi>=0.10\n",
            "  Downloading jedi-0.18.2-py2.py3-none-any.whl (1.6 MB)\n",
            "\u001b[2K     \u001b[90m━━━━━━━━━━━━━━━━━━━━━━━━━━━━━━━━━━━━━━━━\u001b[0m \u001b[32m1.6/1.6 MB\u001b[0m \u001b[31m58.6 MB/s\u001b[0m eta \u001b[36m0:00:00\u001b[0m\n",
            "\u001b[?25hRequirement already satisfied: backcall in /usr/local/lib/python3.9/dist-packages (from ipython>=4.0.0->ipywidgets) (0.2.0)\n",
            "Requirement already satisfied: notebook>=4.4.1 in /usr/local/lib/python3.9/dist-packages (from widgetsnbextension~=3.6.0->ipywidgets) (6.3.0)\n",
            "Requirement already satisfied: parso<0.9.0,>=0.8.0 in /usr/local/lib/python3.9/dist-packages (from jedi>=0.10->ipython>=4.0.0->ipywidgets) (0.8.3)\n",
            "Requirement already satisfied: jinja2 in /usr/local/lib/python3.9/dist-packages (from notebook>=4.4.1->widgetsnbextension~=3.6.0->ipywidgets) (3.1.2)\n",
            "Requirement already satisfied: nbconvert in /usr/local/lib/python3.9/dist-packages (from notebook>=4.4.1->widgetsnbextension~=3.6.0->ipywidgets) (6.5.4)\n",
            "Requirement already satisfied: argon2-cffi in /usr/local/lib/python3.9/dist-packages (from notebook>=4.4.1->widgetsnbextension~=3.6.0->ipywidgets) (21.3.0)\n",
            "Requirement already satisfied: prometheus-client in /usr/local/lib/python3.9/dist-packages (from notebook>=4.4.1->widgetsnbextension~=3.6.0->ipywidgets) (0.16.0)\n",
            "Requirement already satisfied: Send2Trash>=1.5.0 in /usr/local/lib/python3.9/dist-packages (from notebook>=4.4.1->widgetsnbextension~=3.6.0->ipywidgets) (1.8.0)\n",
            "Requirement already satisfied: terminado>=0.8.3 in /usr/local/lib/python3.9/dist-packages (from notebook>=4.4.1->widgetsnbextension~=3.6.0->ipywidgets) (0.17.1)\n",
            "Requirement already satisfied: nbformat in /usr/local/lib/python3.9/dist-packages (from notebook>=4.4.1->widgetsnbextension~=3.6.0->ipywidgets) (5.7.3)\n",
            "Requirement already satisfied: pyzmq>=17 in /usr/local/lib/python3.9/dist-packages (from notebook>=4.4.1->widgetsnbextension~=3.6.0->ipywidgets) (23.2.1)\n",
            "Requirement already satisfied: jupyter-core>=4.6.1 in /usr/local/lib/python3.9/dist-packages (from notebook>=4.4.1->widgetsnbextension~=3.6.0->ipywidgets) (5.2.0)\n",
            "Requirement already satisfied: python-dateutil>=2.1 in /usr/local/lib/python3.9/dist-packages (from jupyter-client->ipykernel>=4.5.1->ipywidgets) (2.8.2)\n",
            "Requirement already satisfied: six>=1.9.0 in /usr/local/lib/python3.9/dist-packages (from prompt-toolkit<2.1.0,>=2.0.0->ipython>=4.0.0->ipywidgets) (1.15.0)\n",
            "Requirement already satisfied: wcwidth in /usr/local/lib/python3.9/dist-packages (from prompt-toolkit<2.1.0,>=2.0.0->ipython>=4.0.0->ipywidgets) (0.2.6)\n",
            "Requirement already satisfied: ptyprocess>=0.5 in /usr/local/lib/python3.9/dist-packages (from pexpect->ipython>=4.0.0->ipywidgets) (0.7.0)\n",
            "Requirement already satisfied: platformdirs>=2.5 in /usr/local/lib/python3.9/dist-packages (from jupyter-core>=4.6.1->notebook>=4.4.1->widgetsnbextension~=3.6.0->ipywidgets) (3.1.1)\n",
            "Requirement already satisfied: argon2-cffi-bindings in /usr/local/lib/python3.9/dist-packages (from argon2-cffi->notebook>=4.4.1->widgetsnbextension~=3.6.0->ipywidgets) (21.2.0)\n",
            "Requirement already satisfied: MarkupSafe>=2.0 in /usr/local/lib/python3.9/dist-packages (from jinja2->notebook>=4.4.1->widgetsnbextension~=3.6.0->ipywidgets) (2.1.2)\n",
            "Requirement already satisfied: packaging in /usr/local/lib/python3.9/dist-packages (from nbconvert->notebook>=4.4.1->widgetsnbextension~=3.6.0->ipywidgets) (23.0)\n",
            "Requirement already satisfied: entrypoints>=0.2.2 in /usr/local/lib/python3.9/dist-packages (from nbconvert->notebook>=4.4.1->widgetsnbextension~=3.6.0->ipywidgets) (0.4)\n",
            "Requirement already satisfied: tinycss2 in /usr/local/lib/python3.9/dist-packages (from nbconvert->notebook>=4.4.1->widgetsnbextension~=3.6.0->ipywidgets) (1.2.1)\n",
            "Requirement already satisfied: bleach in /usr/local/lib/python3.9/dist-packages (from nbconvert->notebook>=4.4.1->widgetsnbextension~=3.6.0->ipywidgets) (6.0.0)\n",
            "Requirement already satisfied: pandocfilters>=1.4.1 in /usr/local/lib/python3.9/dist-packages (from nbconvert->notebook>=4.4.1->widgetsnbextension~=3.6.0->ipywidgets) (1.5.0)\n",
            "Requirement already satisfied: beautifulsoup4 in /usr/local/lib/python3.9/dist-packages (from nbconvert->notebook>=4.4.1->widgetsnbextension~=3.6.0->ipywidgets) (4.9.3)\n",
            "Requirement already satisfied: mistune<2,>=0.8.1 in /usr/local/lib/python3.9/dist-packages (from nbconvert->notebook>=4.4.1->widgetsnbextension~=3.6.0->ipywidgets) (0.8.4)\n",
            "Requirement already satisfied: nbclient>=0.5.0 in /usr/local/lib/python3.9/dist-packages (from nbconvert->notebook>=4.4.1->widgetsnbextension~=3.6.0->ipywidgets) (0.7.2)\n",
            "Requirement already satisfied: defusedxml in /usr/local/lib/python3.9/dist-packages (from nbconvert->notebook>=4.4.1->widgetsnbextension~=3.6.0->ipywidgets) (0.7.1)\n",
            "Requirement already satisfied: lxml in /usr/local/lib/python3.9/dist-packages (from nbconvert->notebook>=4.4.1->widgetsnbextension~=3.6.0->ipywidgets) (4.9.2)\n",
            "Requirement already satisfied: jupyterlab-pygments in /usr/local/lib/python3.9/dist-packages (from nbconvert->notebook>=4.4.1->widgetsnbextension~=3.6.0->ipywidgets) (0.2.2)\n",
            "Requirement already satisfied: fastjsonschema in /usr/local/lib/python3.9/dist-packages (from nbformat->notebook>=4.4.1->widgetsnbextension~=3.6.0->ipywidgets) (2.16.3)\n",
            "Requirement already satisfied: jsonschema>=2.6 in /usr/local/lib/python3.9/dist-packages (from nbformat->notebook>=4.4.1->widgetsnbextension~=3.6.0->ipywidgets) (4.3.3)\n",
            "Requirement already satisfied: attrs>=17.4.0 in /usr/local/lib/python3.9/dist-packages (from jsonschema>=2.6->nbformat->notebook>=4.4.1->widgetsnbextension~=3.6.0->ipywidgets) (22.2.0)\n",
            "Requirement already satisfied: pyrsistent!=0.17.0,!=0.17.1,!=0.17.2,>=0.14.0 in /usr/local/lib/python3.9/dist-packages (from jsonschema>=2.6->nbformat->notebook>=4.4.1->widgetsnbextension~=3.6.0->ipywidgets) (0.19.3)\n",
            "Requirement already satisfied: cffi>=1.0.1 in /usr/local/lib/python3.9/dist-packages (from argon2-cffi-bindings->argon2-cffi->notebook>=4.4.1->widgetsnbextension~=3.6.0->ipywidgets) (1.15.1)\n",
            "Requirement already satisfied: soupsieve>1.2 in /usr/local/lib/python3.9/dist-packages (from beautifulsoup4->nbconvert->notebook>=4.4.1->widgetsnbextension~=3.6.0->ipywidgets) (2.4)\n",
            "Requirement already satisfied: webencodings in /usr/local/lib/python3.9/dist-packages (from bleach->nbconvert->notebook>=4.4.1->widgetsnbextension~=3.6.0->ipywidgets) (0.5.1)\n",
            "Requirement already satisfied: pycparser in /usr/local/lib/python3.9/dist-packages (from cffi>=1.0.1->argon2-cffi-bindings->argon2-cffi->notebook>=4.4.1->widgetsnbextension~=3.6.0->ipywidgets) (2.21)\n",
            "Installing collected packages: jedi\n",
            "Successfully installed jedi-0.18.2\n",
            "Looking in indexes: https://pypi.org/simple, https://us-python.pkg.dev/colab-wheels/public/simple/\n",
            "Collecting kaleido\n",
            "  Downloading kaleido-0.2.1-py2.py3-none-manylinux1_x86_64.whl (79.9 MB)\n",
            "\u001b[2K     \u001b[90m━━━━━━━━━━━━━━━━━━━━━━━━━━━━━━━━━━━━━━━━\u001b[0m \u001b[32m79.9/79.9 MB\u001b[0m \u001b[31m11.8 MB/s\u001b[0m eta \u001b[36m0:00:00\u001b[0m\n",
            "\u001b[?25hInstalling collected packages: kaleido\n",
            "Successfully installed kaleido-0.2.1\n",
            "--2023-03-14 20:06:12--  https://raw.githubusercontent.com/pattichis/lineart/main/lineart.py\n",
            "Resolving raw.githubusercontent.com (raw.githubusercontent.com)... 185.199.109.133, 185.199.108.133, 185.199.111.133, ...\n",
            "Connecting to raw.githubusercontent.com (raw.githubusercontent.com)|185.199.109.133|:443... connected.\n",
            "HTTP request sent, awaiting response... 200 OK\n",
            "Length: 20043 (20K) [text/plain]\n",
            "Saving to: ‘lineart.py’\n",
            "\n",
            "lineart.py          100%[===================>]  19.57K  --.-KB/s    in 0s      \n",
            "\n",
            "2023-03-14 20:06:12 (145 MB/s) - ‘lineart.py’ saved [20043/20043]\n",
            "\n"
          ]
        }
      ],
      "source": [
        "# Install the libraries\n",
        "!pip install ipywidgets\n",
        "!pip install kaleido\n",
        "\n",
        "# Grab your libary \n",
        "!wget https://raw.githubusercontent.com/pattichis/lineart/main/lineart.py\n",
        "\n",
        "# You only need to import the functions that you are using.\n",
        "\n",
        "from IPython.display import HTML\n",
        "\n",
        "import lineart \n",
        "from lineart import cuteGraph, CreateVideo"
      ]
    },
    {
      "cell_type": "markdown",
      "source": [
        "# Object Oriented Programming\n",
        "The following code create a <tt>cuteGraph</tt>\n",
        "<b>object</b> and stores it in <tt>NiceGr</tt>.\n",
        "```\n",
        "NiceGr = cuteGraph() \n",
        "```\n",
        "<tt>NiceGr</tt> objects can be used to prepare plots.\n",
        "\n",
        "<tt>NiceGr.point()</tt> can be used to specify a point using:\n",
        "```\n",
        "NiceGr.point(x=4, y=5, color='blue')\n",
        "```\n",
        "In this example, we want to plot a point with coordinates <tt>(4, 5)</tt> and the point is blue. Note that the colors are specified using strings.\n",
        "\n",
        "We can then see the points on the graph using:\n",
        "```\n",
        "NiceGr.plotAll()\n",
        "```\n",
        "\n",
        "\n",
        "## Assignment\n",
        "Run the code below and plot three different points.\n",
        "\n",
        "You can try different colors. Here is a list of colors:\n",
        "* color=\"red\"\n",
        "* color=\"green\"\n",
        "* color=\"blue\"\n",
        "* color=\"yellow\"\n"
      ],
      "metadata": {
        "id": "TRS2iLxlVaFc"
      }
    },
    {
      "cell_type": "code",
      "source": [
        "# Create the object\n",
        "NiceGr = cuteGraph() \n",
        "\n",
        "# Add a point to the graph\n",
        "NiceGr.point(x=4, y=5, color='blue')\n",
        "\n",
        "# Show the graph\n",
        "NiceGr.plotAll() "
      ],
      "metadata": {
        "colab": {
          "base_uri": "https://localhost:8080/"
        },
        "id": "gWhoko87VqxI",
        "outputId": "29fcbc8a-800c-4875-e7b6-4b9c7e512cc7"
      },
      "execution_count": null,
      "outputs": [
        {
          "output_type": "display_data",
          "data": {
            "text/html": [
              "<html>\n",
              "<head><meta charset=\"utf-8\" /></head>\n",
              "<body>\n",
              "    <div>            <script src=\"https://cdnjs.cloudflare.com/ajax/libs/mathjax/2.7.5/MathJax.js?config=TeX-AMS-MML_SVG\"></script><script type=\"text/javascript\">if (window.MathJax) {MathJax.Hub.Config({SVG: {font: \"STIX-Web\"}});}</script>                <script type=\"text/javascript\">window.PlotlyConfig = {MathJaxConfig: 'local'};</script>\n",
              "        <script src=\"https://cdn.plot.ly/plotly-2.8.3.min.js\"></script>                <div id=\"760811e9-4b85-4d99-ab35-bb62565de4c7\" class=\"plotly-graph-div\" style=\"height:525px; width:100%;\"></div>            <script type=\"text/javascript\">                                    window.PLOTLYENV=window.PLOTLYENV || {};                                    if (document.getElementById(\"760811e9-4b85-4d99-ab35-bb62565de4c7\")) {                    Plotly.newPlot(                        \"760811e9-4b85-4d99-ab35-bb62565de4c7\",                        [{\"marker\":{\"color\":\"blue\",\"line\":{\"color\":\"blue\",\"width\":2},\"size\":18,\"symbol\":\"x\"},\"mode\":\"markers\",\"name\":\"Point (4 ,5)\",\"x\":[4],\"y\":[5],\"type\":\"scatter\"}],                        {\"template\":{\"data\":{\"bar\":[{\"error_x\":{\"color\":\"#2a3f5f\"},\"error_y\":{\"color\":\"#2a3f5f\"},\"marker\":{\"line\":{\"color\":\"#E5ECF6\",\"width\":0.5},\"pattern\":{\"fillmode\":\"overlay\",\"size\":10,\"solidity\":0.2}},\"type\":\"bar\"}],\"barpolar\":[{\"marker\":{\"line\":{\"color\":\"#E5ECF6\",\"width\":0.5},\"pattern\":{\"fillmode\":\"overlay\",\"size\":10,\"solidity\":0.2}},\"type\":\"barpolar\"}],\"carpet\":[{\"aaxis\":{\"endlinecolor\":\"#2a3f5f\",\"gridcolor\":\"white\",\"linecolor\":\"white\",\"minorgridcolor\":\"white\",\"startlinecolor\":\"#2a3f5f\"},\"baxis\":{\"endlinecolor\":\"#2a3f5f\",\"gridcolor\":\"white\",\"linecolor\":\"white\",\"minorgridcolor\":\"white\",\"startlinecolor\":\"#2a3f5f\"},\"type\":\"carpet\"}],\"choropleth\":[{\"colorbar\":{\"outlinewidth\":0,\"ticks\":\"\"},\"type\":\"choropleth\"}],\"contour\":[{\"colorbar\":{\"outlinewidth\":0,\"ticks\":\"\"},\"colorscale\":[[0.0,\"#0d0887\"],[0.1111111111111111,\"#46039f\"],[0.2222222222222222,\"#7201a8\"],[0.3333333333333333,\"#9c179e\"],[0.4444444444444444,\"#bd3786\"],[0.5555555555555556,\"#d8576b\"],[0.6666666666666666,\"#ed7953\"],[0.7777777777777778,\"#fb9f3a\"],[0.8888888888888888,\"#fdca26\"],[1.0,\"#f0f921\"]],\"type\":\"contour\"}],\"contourcarpet\":[{\"colorbar\":{\"outlinewidth\":0,\"ticks\":\"\"},\"type\":\"contourcarpet\"}],\"heatmap\":[{\"colorbar\":{\"outlinewidth\":0,\"ticks\":\"\"},\"colorscale\":[[0.0,\"#0d0887\"],[0.1111111111111111,\"#46039f\"],[0.2222222222222222,\"#7201a8\"],[0.3333333333333333,\"#9c179e\"],[0.4444444444444444,\"#bd3786\"],[0.5555555555555556,\"#d8576b\"],[0.6666666666666666,\"#ed7953\"],[0.7777777777777778,\"#fb9f3a\"],[0.8888888888888888,\"#fdca26\"],[1.0,\"#f0f921\"]],\"type\":\"heatmap\"}],\"heatmapgl\":[{\"colorbar\":{\"outlinewidth\":0,\"ticks\":\"\"},\"colorscale\":[[0.0,\"#0d0887\"],[0.1111111111111111,\"#46039f\"],[0.2222222222222222,\"#7201a8\"],[0.3333333333333333,\"#9c179e\"],[0.4444444444444444,\"#bd3786\"],[0.5555555555555556,\"#d8576b\"],[0.6666666666666666,\"#ed7953\"],[0.7777777777777778,\"#fb9f3a\"],[0.8888888888888888,\"#fdca26\"],[1.0,\"#f0f921\"]],\"type\":\"heatmapgl\"}],\"histogram\":[{\"marker\":{\"pattern\":{\"fillmode\":\"overlay\",\"size\":10,\"solidity\":0.2}},\"type\":\"histogram\"}],\"histogram2d\":[{\"colorbar\":{\"outlinewidth\":0,\"ticks\":\"\"},\"colorscale\":[[0.0,\"#0d0887\"],[0.1111111111111111,\"#46039f\"],[0.2222222222222222,\"#7201a8\"],[0.3333333333333333,\"#9c179e\"],[0.4444444444444444,\"#bd3786\"],[0.5555555555555556,\"#d8576b\"],[0.6666666666666666,\"#ed7953\"],[0.7777777777777778,\"#fb9f3a\"],[0.8888888888888888,\"#fdca26\"],[1.0,\"#f0f921\"]],\"type\":\"histogram2d\"}],\"histogram2dcontour\":[{\"colorbar\":{\"outlinewidth\":0,\"ticks\":\"\"},\"colorscale\":[[0.0,\"#0d0887\"],[0.1111111111111111,\"#46039f\"],[0.2222222222222222,\"#7201a8\"],[0.3333333333333333,\"#9c179e\"],[0.4444444444444444,\"#bd3786\"],[0.5555555555555556,\"#d8576b\"],[0.6666666666666666,\"#ed7953\"],[0.7777777777777778,\"#fb9f3a\"],[0.8888888888888888,\"#fdca26\"],[1.0,\"#f0f921\"]],\"type\":\"histogram2dcontour\"}],\"mesh3d\":[{\"colorbar\":{\"outlinewidth\":0,\"ticks\":\"\"},\"type\":\"mesh3d\"}],\"parcoords\":[{\"line\":{\"colorbar\":{\"outlinewidth\":0,\"ticks\":\"\"}},\"type\":\"parcoords\"}],\"pie\":[{\"automargin\":true,\"type\":\"pie\"}],\"scatter\":[{\"marker\":{\"colorbar\":{\"outlinewidth\":0,\"ticks\":\"\"}},\"type\":\"scatter\"}],\"scatter3d\":[{\"line\":{\"colorbar\":{\"outlinewidth\":0,\"ticks\":\"\"}},\"marker\":{\"colorbar\":{\"outlinewidth\":0,\"ticks\":\"\"}},\"type\":\"scatter3d\"}],\"scattercarpet\":[{\"marker\":{\"colorbar\":{\"outlinewidth\":0,\"ticks\":\"\"}},\"type\":\"scattercarpet\"}],\"scattergeo\":[{\"marker\":{\"colorbar\":{\"outlinewidth\":0,\"ticks\":\"\"}},\"type\":\"scattergeo\"}],\"scattergl\":[{\"marker\":{\"colorbar\":{\"outlinewidth\":0,\"ticks\":\"\"}},\"type\":\"scattergl\"}],\"scattermapbox\":[{\"marker\":{\"colorbar\":{\"outlinewidth\":0,\"ticks\":\"\"}},\"type\":\"scattermapbox\"}],\"scatterpolar\":[{\"marker\":{\"colorbar\":{\"outlinewidth\":0,\"ticks\":\"\"}},\"type\":\"scatterpolar\"}],\"scatterpolargl\":[{\"marker\":{\"colorbar\":{\"outlinewidth\":0,\"ticks\":\"\"}},\"type\":\"scatterpolargl\"}],\"scatterternary\":[{\"marker\":{\"colorbar\":{\"outlinewidth\":0,\"ticks\":\"\"}},\"type\":\"scatterternary\"}],\"surface\":[{\"colorbar\":{\"outlinewidth\":0,\"ticks\":\"\"},\"colorscale\":[[0.0,\"#0d0887\"],[0.1111111111111111,\"#46039f\"],[0.2222222222222222,\"#7201a8\"],[0.3333333333333333,\"#9c179e\"],[0.4444444444444444,\"#bd3786\"],[0.5555555555555556,\"#d8576b\"],[0.6666666666666666,\"#ed7953\"],[0.7777777777777778,\"#fb9f3a\"],[0.8888888888888888,\"#fdca26\"],[1.0,\"#f0f921\"]],\"type\":\"surface\"}],\"table\":[{\"cells\":{\"fill\":{\"color\":\"#EBF0F8\"},\"line\":{\"color\":\"white\"}},\"header\":{\"fill\":{\"color\":\"#C8D4E3\"},\"line\":{\"color\":\"white\"}},\"type\":\"table\"}]},\"layout\":{\"annotationdefaults\":{\"arrowcolor\":\"#2a3f5f\",\"arrowhead\":0,\"arrowwidth\":1},\"autotypenumbers\":\"strict\",\"coloraxis\":{\"colorbar\":{\"outlinewidth\":0,\"ticks\":\"\"}},\"colorscale\":{\"diverging\":[[0,\"#8e0152\"],[0.1,\"#c51b7d\"],[0.2,\"#de77ae\"],[0.3,\"#f1b6da\"],[0.4,\"#fde0ef\"],[0.5,\"#f7f7f7\"],[0.6,\"#e6f5d0\"],[0.7,\"#b8e186\"],[0.8,\"#7fbc41\"],[0.9,\"#4d9221\"],[1,\"#276419\"]],\"sequential\":[[0.0,\"#0d0887\"],[0.1111111111111111,\"#46039f\"],[0.2222222222222222,\"#7201a8\"],[0.3333333333333333,\"#9c179e\"],[0.4444444444444444,\"#bd3786\"],[0.5555555555555556,\"#d8576b\"],[0.6666666666666666,\"#ed7953\"],[0.7777777777777778,\"#fb9f3a\"],[0.8888888888888888,\"#fdca26\"],[1.0,\"#f0f921\"]],\"sequentialminus\":[[0.0,\"#0d0887\"],[0.1111111111111111,\"#46039f\"],[0.2222222222222222,\"#7201a8\"],[0.3333333333333333,\"#9c179e\"],[0.4444444444444444,\"#bd3786\"],[0.5555555555555556,\"#d8576b\"],[0.6666666666666666,\"#ed7953\"],[0.7777777777777778,\"#fb9f3a\"],[0.8888888888888888,\"#fdca26\"],[1.0,\"#f0f921\"]]},\"colorway\":[\"#636efa\",\"#EF553B\",\"#00cc96\",\"#ab63fa\",\"#FFA15A\",\"#19d3f3\",\"#FF6692\",\"#B6E880\",\"#FF97FF\",\"#FECB52\"],\"font\":{\"color\":\"#2a3f5f\"},\"geo\":{\"bgcolor\":\"white\",\"lakecolor\":\"white\",\"landcolor\":\"#E5ECF6\",\"showlakes\":true,\"showland\":true,\"subunitcolor\":\"white\"},\"hoverlabel\":{\"align\":\"left\"},\"hovermode\":\"closest\",\"mapbox\":{\"style\":\"light\"},\"paper_bgcolor\":\"white\",\"plot_bgcolor\":\"#E5ECF6\",\"polar\":{\"angularaxis\":{\"gridcolor\":\"white\",\"linecolor\":\"white\",\"ticks\":\"\"},\"bgcolor\":\"#E5ECF6\",\"radialaxis\":{\"gridcolor\":\"white\",\"linecolor\":\"white\",\"ticks\":\"\"}},\"scene\":{\"xaxis\":{\"backgroundcolor\":\"#E5ECF6\",\"gridcolor\":\"white\",\"gridwidth\":2,\"linecolor\":\"white\",\"showbackground\":true,\"ticks\":\"\",\"zerolinecolor\":\"white\"},\"yaxis\":{\"backgroundcolor\":\"#E5ECF6\",\"gridcolor\":\"white\",\"gridwidth\":2,\"linecolor\":\"white\",\"showbackground\":true,\"ticks\":\"\",\"zerolinecolor\":\"white\"},\"zaxis\":{\"backgroundcolor\":\"#E5ECF6\",\"gridcolor\":\"white\",\"gridwidth\":2,\"linecolor\":\"white\",\"showbackground\":true,\"ticks\":\"\",\"zerolinecolor\":\"white\"}},\"shapedefaults\":{\"line\":{\"color\":\"#2a3f5f\"}},\"ternary\":{\"aaxis\":{\"gridcolor\":\"white\",\"linecolor\":\"white\",\"ticks\":\"\"},\"baxis\":{\"gridcolor\":\"white\",\"linecolor\":\"white\",\"ticks\":\"\"},\"bgcolor\":\"#E5ECF6\",\"caxis\":{\"gridcolor\":\"white\",\"linecolor\":\"white\",\"ticks\":\"\"}},\"title\":{\"x\":0.05},\"xaxis\":{\"automargin\":true,\"gridcolor\":\"white\",\"linecolor\":\"white\",\"ticks\":\"\",\"title\":{\"standoff\":15},\"zerolinecolor\":\"white\",\"zerolinewidth\":2},\"yaxis\":{\"automargin\":true,\"gridcolor\":\"white\",\"linecolor\":\"white\",\"ticks\":\"\",\"title\":{\"standoff\":15},\"zerolinecolor\":\"white\",\"zerolinewidth\":2}}},\"font\":{\"family\":\"Courier New, monospace\",\"size\":12,\"color\":\"RebeccaPurple\"},\"title\":{\"text\":\"Plots\"},\"xaxis\":{\"title\":{\"text\":\"X\"},\"visible\":true},\"yaxis\":{\"title\":{\"text\":\"Y\"},\"visible\":true},\"legend\":{\"title\":{\"text\":\"List\"}},\"showlegend\":true},                        {\"responsive\": true}                    ).then(function(){\n",
              "                            \n",
              "var gd = document.getElementById('760811e9-4b85-4d99-ab35-bb62565de4c7');\n",
              "var x = new MutationObserver(function (mutations, observer) {{\n",
              "        var display = window.getComputedStyle(gd).display;\n",
              "        if (!display || display === 'none') {{\n",
              "            console.log([gd, 'removed!']);\n",
              "            Plotly.purge(gd);\n",
              "            observer.disconnect();\n",
              "        }}\n",
              "}});\n",
              "\n",
              "// Listen for the removal of the full notebook cells\n",
              "var notebookContainer = gd.closest('#notebook-container');\n",
              "if (notebookContainer) {{\n",
              "    x.observe(notebookContainer, {childList: true});\n",
              "}}\n",
              "\n",
              "// Listen for the clearing of the current output cell\n",
              "var outputEl = gd.closest('.output');\n",
              "if (outputEl) {{\n",
              "    x.observe(outputEl, {childList: true});\n",
              "}}\n",
              "\n",
              "                        })                };                            </script>        </div>\n",
              "</body>\n",
              "</html>"
            ]
          },
          "metadata": {}
        }
      ]
    },
    {
      "cell_type": "markdown",
      "source": [
        "# Points, lines, rectangles, and text"
      ],
      "metadata": {
        "id": "4oEmchhi9fll"
      }
    },
    {
      "cell_type": "markdown",
      "source": [
        "## Plot points\n",
        "We can plot multiple point by simply repeating the function call with more points:\n",
        "```\n",
        "NiceGr.point(x=1, y=2, color='red')\n",
        "NiceGr.point(x=3, y=4, color='green')\n",
        "```\n",
        "\n",
        "## Assignment\n",
        "\n",
        "Plot three additional points.\n",
        "\n"
      ],
      "metadata": {
        "id": "rzZpUgfQ-hiO"
      }
    },
    {
      "cell_type": "code",
      "source": [
        "# Create the object\n",
        "NiceGr = cuteGraph() \n",
        "\n",
        "# Add a point to the graph\n",
        "NiceGr.point(x=1, y=2, color='red')\n",
        "NiceGr.point(x=3, y=4, color='green')\n",
        "\n",
        "# Show the graph\n",
        "NiceGr.plotAll() "
      ],
      "metadata": {
        "colab": {
          "base_uri": "https://localhost:8080/"
        },
        "id": "eQvSTZDN_AaX",
        "outputId": "8fb4731b-45f4-4d4e-ab73-2ab8d0a79e0a"
      },
      "execution_count": null,
      "outputs": [
        {
          "output_type": "display_data",
          "data": {
            "text/html": [
              "<html>\n",
              "<head><meta charset=\"utf-8\" /></head>\n",
              "<body>\n",
              "    <div>            <script src=\"https://cdnjs.cloudflare.com/ajax/libs/mathjax/2.7.5/MathJax.js?config=TeX-AMS-MML_SVG\"></script><script type=\"text/javascript\">if (window.MathJax) {MathJax.Hub.Config({SVG: {font: \"STIX-Web\"}});}</script>                <script type=\"text/javascript\">window.PlotlyConfig = {MathJaxConfig: 'local'};</script>\n",
              "        <script src=\"https://cdn.plot.ly/plotly-2.8.3.min.js\"></script>                <div id=\"a8fadb1b-5f03-4439-89cf-ae5b94ba24f9\" class=\"plotly-graph-div\" style=\"height:525px; width:100%;\"></div>            <script type=\"text/javascript\">                                    window.PLOTLYENV=window.PLOTLYENV || {};                                    if (document.getElementById(\"a8fadb1b-5f03-4439-89cf-ae5b94ba24f9\")) {                    Plotly.newPlot(                        \"a8fadb1b-5f03-4439-89cf-ae5b94ba24f9\",                        [{\"marker\":{\"color\":\"red\",\"line\":{\"color\":\"red\",\"width\":2},\"size\":18,\"symbol\":\"x\"},\"mode\":\"markers\",\"name\":\"Point (1 ,2)\",\"x\":[1],\"y\":[2],\"type\":\"scatter\"},{\"marker\":{\"color\":\"green\",\"line\":{\"color\":\"green\",\"width\":2},\"size\":18,\"symbol\":\"x\"},\"mode\":\"markers\",\"name\":\"Point (3 ,4)\",\"x\":[3],\"y\":[4],\"type\":\"scatter\"}],                        {\"template\":{\"data\":{\"bar\":[{\"error_x\":{\"color\":\"#2a3f5f\"},\"error_y\":{\"color\":\"#2a3f5f\"},\"marker\":{\"line\":{\"color\":\"#E5ECF6\",\"width\":0.5},\"pattern\":{\"fillmode\":\"overlay\",\"size\":10,\"solidity\":0.2}},\"type\":\"bar\"}],\"barpolar\":[{\"marker\":{\"line\":{\"color\":\"#E5ECF6\",\"width\":0.5},\"pattern\":{\"fillmode\":\"overlay\",\"size\":10,\"solidity\":0.2}},\"type\":\"barpolar\"}],\"carpet\":[{\"aaxis\":{\"endlinecolor\":\"#2a3f5f\",\"gridcolor\":\"white\",\"linecolor\":\"white\",\"minorgridcolor\":\"white\",\"startlinecolor\":\"#2a3f5f\"},\"baxis\":{\"endlinecolor\":\"#2a3f5f\",\"gridcolor\":\"white\",\"linecolor\":\"white\",\"minorgridcolor\":\"white\",\"startlinecolor\":\"#2a3f5f\"},\"type\":\"carpet\"}],\"choropleth\":[{\"colorbar\":{\"outlinewidth\":0,\"ticks\":\"\"},\"type\":\"choropleth\"}],\"contour\":[{\"colorbar\":{\"outlinewidth\":0,\"ticks\":\"\"},\"colorscale\":[[0.0,\"#0d0887\"],[0.1111111111111111,\"#46039f\"],[0.2222222222222222,\"#7201a8\"],[0.3333333333333333,\"#9c179e\"],[0.4444444444444444,\"#bd3786\"],[0.5555555555555556,\"#d8576b\"],[0.6666666666666666,\"#ed7953\"],[0.7777777777777778,\"#fb9f3a\"],[0.8888888888888888,\"#fdca26\"],[1.0,\"#f0f921\"]],\"type\":\"contour\"}],\"contourcarpet\":[{\"colorbar\":{\"outlinewidth\":0,\"ticks\":\"\"},\"type\":\"contourcarpet\"}],\"heatmap\":[{\"colorbar\":{\"outlinewidth\":0,\"ticks\":\"\"},\"colorscale\":[[0.0,\"#0d0887\"],[0.1111111111111111,\"#46039f\"],[0.2222222222222222,\"#7201a8\"],[0.3333333333333333,\"#9c179e\"],[0.4444444444444444,\"#bd3786\"],[0.5555555555555556,\"#d8576b\"],[0.6666666666666666,\"#ed7953\"],[0.7777777777777778,\"#fb9f3a\"],[0.8888888888888888,\"#fdca26\"],[1.0,\"#f0f921\"]],\"type\":\"heatmap\"}],\"heatmapgl\":[{\"colorbar\":{\"outlinewidth\":0,\"ticks\":\"\"},\"colorscale\":[[0.0,\"#0d0887\"],[0.1111111111111111,\"#46039f\"],[0.2222222222222222,\"#7201a8\"],[0.3333333333333333,\"#9c179e\"],[0.4444444444444444,\"#bd3786\"],[0.5555555555555556,\"#d8576b\"],[0.6666666666666666,\"#ed7953\"],[0.7777777777777778,\"#fb9f3a\"],[0.8888888888888888,\"#fdca26\"],[1.0,\"#f0f921\"]],\"type\":\"heatmapgl\"}],\"histogram\":[{\"marker\":{\"pattern\":{\"fillmode\":\"overlay\",\"size\":10,\"solidity\":0.2}},\"type\":\"histogram\"}],\"histogram2d\":[{\"colorbar\":{\"outlinewidth\":0,\"ticks\":\"\"},\"colorscale\":[[0.0,\"#0d0887\"],[0.1111111111111111,\"#46039f\"],[0.2222222222222222,\"#7201a8\"],[0.3333333333333333,\"#9c179e\"],[0.4444444444444444,\"#bd3786\"],[0.5555555555555556,\"#d8576b\"],[0.6666666666666666,\"#ed7953\"],[0.7777777777777778,\"#fb9f3a\"],[0.8888888888888888,\"#fdca26\"],[1.0,\"#f0f921\"]],\"type\":\"histogram2d\"}],\"histogram2dcontour\":[{\"colorbar\":{\"outlinewidth\":0,\"ticks\":\"\"},\"colorscale\":[[0.0,\"#0d0887\"],[0.1111111111111111,\"#46039f\"],[0.2222222222222222,\"#7201a8\"],[0.3333333333333333,\"#9c179e\"],[0.4444444444444444,\"#bd3786\"],[0.5555555555555556,\"#d8576b\"],[0.6666666666666666,\"#ed7953\"],[0.7777777777777778,\"#fb9f3a\"],[0.8888888888888888,\"#fdca26\"],[1.0,\"#f0f921\"]],\"type\":\"histogram2dcontour\"}],\"mesh3d\":[{\"colorbar\":{\"outlinewidth\":0,\"ticks\":\"\"},\"type\":\"mesh3d\"}],\"parcoords\":[{\"line\":{\"colorbar\":{\"outlinewidth\":0,\"ticks\":\"\"}},\"type\":\"parcoords\"}],\"pie\":[{\"automargin\":true,\"type\":\"pie\"}],\"scatter\":[{\"marker\":{\"colorbar\":{\"outlinewidth\":0,\"ticks\":\"\"}},\"type\":\"scatter\"}],\"scatter3d\":[{\"line\":{\"colorbar\":{\"outlinewidth\":0,\"ticks\":\"\"}},\"marker\":{\"colorbar\":{\"outlinewidth\":0,\"ticks\":\"\"}},\"type\":\"scatter3d\"}],\"scattercarpet\":[{\"marker\":{\"colorbar\":{\"outlinewidth\":0,\"ticks\":\"\"}},\"type\":\"scattercarpet\"}],\"scattergeo\":[{\"marker\":{\"colorbar\":{\"outlinewidth\":0,\"ticks\":\"\"}},\"type\":\"scattergeo\"}],\"scattergl\":[{\"marker\":{\"colorbar\":{\"outlinewidth\":0,\"ticks\":\"\"}},\"type\":\"scattergl\"}],\"scattermapbox\":[{\"marker\":{\"colorbar\":{\"outlinewidth\":0,\"ticks\":\"\"}},\"type\":\"scattermapbox\"}],\"scatterpolar\":[{\"marker\":{\"colorbar\":{\"outlinewidth\":0,\"ticks\":\"\"}},\"type\":\"scatterpolar\"}],\"scatterpolargl\":[{\"marker\":{\"colorbar\":{\"outlinewidth\":0,\"ticks\":\"\"}},\"type\":\"scatterpolargl\"}],\"scatterternary\":[{\"marker\":{\"colorbar\":{\"outlinewidth\":0,\"ticks\":\"\"}},\"type\":\"scatterternary\"}],\"surface\":[{\"colorbar\":{\"outlinewidth\":0,\"ticks\":\"\"},\"colorscale\":[[0.0,\"#0d0887\"],[0.1111111111111111,\"#46039f\"],[0.2222222222222222,\"#7201a8\"],[0.3333333333333333,\"#9c179e\"],[0.4444444444444444,\"#bd3786\"],[0.5555555555555556,\"#d8576b\"],[0.6666666666666666,\"#ed7953\"],[0.7777777777777778,\"#fb9f3a\"],[0.8888888888888888,\"#fdca26\"],[1.0,\"#f0f921\"]],\"type\":\"surface\"}],\"table\":[{\"cells\":{\"fill\":{\"color\":\"#EBF0F8\"},\"line\":{\"color\":\"white\"}},\"header\":{\"fill\":{\"color\":\"#C8D4E3\"},\"line\":{\"color\":\"white\"}},\"type\":\"table\"}]},\"layout\":{\"annotationdefaults\":{\"arrowcolor\":\"#2a3f5f\",\"arrowhead\":0,\"arrowwidth\":1},\"autotypenumbers\":\"strict\",\"coloraxis\":{\"colorbar\":{\"outlinewidth\":0,\"ticks\":\"\"}},\"colorscale\":{\"diverging\":[[0,\"#8e0152\"],[0.1,\"#c51b7d\"],[0.2,\"#de77ae\"],[0.3,\"#f1b6da\"],[0.4,\"#fde0ef\"],[0.5,\"#f7f7f7\"],[0.6,\"#e6f5d0\"],[0.7,\"#b8e186\"],[0.8,\"#7fbc41\"],[0.9,\"#4d9221\"],[1,\"#276419\"]],\"sequential\":[[0.0,\"#0d0887\"],[0.1111111111111111,\"#46039f\"],[0.2222222222222222,\"#7201a8\"],[0.3333333333333333,\"#9c179e\"],[0.4444444444444444,\"#bd3786\"],[0.5555555555555556,\"#d8576b\"],[0.6666666666666666,\"#ed7953\"],[0.7777777777777778,\"#fb9f3a\"],[0.8888888888888888,\"#fdca26\"],[1.0,\"#f0f921\"]],\"sequentialminus\":[[0.0,\"#0d0887\"],[0.1111111111111111,\"#46039f\"],[0.2222222222222222,\"#7201a8\"],[0.3333333333333333,\"#9c179e\"],[0.4444444444444444,\"#bd3786\"],[0.5555555555555556,\"#d8576b\"],[0.6666666666666666,\"#ed7953\"],[0.7777777777777778,\"#fb9f3a\"],[0.8888888888888888,\"#fdca26\"],[1.0,\"#f0f921\"]]},\"colorway\":[\"#636efa\",\"#EF553B\",\"#00cc96\",\"#ab63fa\",\"#FFA15A\",\"#19d3f3\",\"#FF6692\",\"#B6E880\",\"#FF97FF\",\"#FECB52\"],\"font\":{\"color\":\"#2a3f5f\"},\"geo\":{\"bgcolor\":\"white\",\"lakecolor\":\"white\",\"landcolor\":\"#E5ECF6\",\"showlakes\":true,\"showland\":true,\"subunitcolor\":\"white\"},\"hoverlabel\":{\"align\":\"left\"},\"hovermode\":\"closest\",\"mapbox\":{\"style\":\"light\"},\"paper_bgcolor\":\"white\",\"plot_bgcolor\":\"#E5ECF6\",\"polar\":{\"angularaxis\":{\"gridcolor\":\"white\",\"linecolor\":\"white\",\"ticks\":\"\"},\"bgcolor\":\"#E5ECF6\",\"radialaxis\":{\"gridcolor\":\"white\",\"linecolor\":\"white\",\"ticks\":\"\"}},\"scene\":{\"xaxis\":{\"backgroundcolor\":\"#E5ECF6\",\"gridcolor\":\"white\",\"gridwidth\":2,\"linecolor\":\"white\",\"showbackground\":true,\"ticks\":\"\",\"zerolinecolor\":\"white\"},\"yaxis\":{\"backgroundcolor\":\"#E5ECF6\",\"gridcolor\":\"white\",\"gridwidth\":2,\"linecolor\":\"white\",\"showbackground\":true,\"ticks\":\"\",\"zerolinecolor\":\"white\"},\"zaxis\":{\"backgroundcolor\":\"#E5ECF6\",\"gridcolor\":\"white\",\"gridwidth\":2,\"linecolor\":\"white\",\"showbackground\":true,\"ticks\":\"\",\"zerolinecolor\":\"white\"}},\"shapedefaults\":{\"line\":{\"color\":\"#2a3f5f\"}},\"ternary\":{\"aaxis\":{\"gridcolor\":\"white\",\"linecolor\":\"white\",\"ticks\":\"\"},\"baxis\":{\"gridcolor\":\"white\",\"linecolor\":\"white\",\"ticks\":\"\"},\"bgcolor\":\"#E5ECF6\",\"caxis\":{\"gridcolor\":\"white\",\"linecolor\":\"white\",\"ticks\":\"\"}},\"title\":{\"x\":0.05},\"xaxis\":{\"automargin\":true,\"gridcolor\":\"white\",\"linecolor\":\"white\",\"ticks\":\"\",\"title\":{\"standoff\":15},\"zerolinecolor\":\"white\",\"zerolinewidth\":2},\"yaxis\":{\"automargin\":true,\"gridcolor\":\"white\",\"linecolor\":\"white\",\"ticks\":\"\",\"title\":{\"standoff\":15},\"zerolinecolor\":\"white\",\"zerolinewidth\":2}}},\"font\":{\"family\":\"Courier New, monospace\",\"size\":12,\"color\":\"RebeccaPurple\"},\"title\":{\"text\":\"Plots\"},\"xaxis\":{\"title\":{\"text\":\"X\"},\"visible\":true},\"yaxis\":{\"title\":{\"text\":\"Y\"},\"visible\":true},\"legend\":{\"title\":{\"text\":\"List\"}},\"showlegend\":true},                        {\"responsive\": true}                    ).then(function(){\n",
              "                            \n",
              "var gd = document.getElementById('a8fadb1b-5f03-4439-89cf-ae5b94ba24f9');\n",
              "var x = new MutationObserver(function (mutations, observer) {{\n",
              "        var display = window.getComputedStyle(gd).display;\n",
              "        if (!display || display === 'none') {{\n",
              "            console.log([gd, 'removed!']);\n",
              "            Plotly.purge(gd);\n",
              "            observer.disconnect();\n",
              "        }}\n",
              "}});\n",
              "\n",
              "// Listen for the removal of the full notebook cells\n",
              "var notebookContainer = gd.closest('#notebook-container');\n",
              "if (notebookContainer) {{\n",
              "    x.observe(notebookContainer, {childList: true});\n",
              "}}\n",
              "\n",
              "// Listen for the clearing of the current output cell\n",
              "var outputEl = gd.closest('.output');\n",
              "if (outputEl) {{\n",
              "    x.observe(outputEl, {childList: true});\n",
              "}}\n",
              "\n",
              "                        })                };                            </script>        </div>\n",
              "</body>\n",
              "</html>"
            ]
          },
          "metadata": {}
        }
      ]
    },
    {
      "cell_type": "markdown",
      "source": [
        "## Plot lines\n",
        "Our objects can also produce lines and rectangles.\n",
        "\n",
        "<b>After</b> creating the objects, you can plot a line segment using\n",
        "```\n",
        "NiceGr.lineseg(x1=0, y1=4, x2=2,  y2=6, color=\"yellow\")\n",
        "```\n",
        "This command defines a line from <tt>(x1, y1)=(0, 4)</tt> to <tt>(x2, y2)=(2, 6)</tt>. The line is yellow.\n",
        "\n",
        "## Assignment\n",
        "Run the code below.\n",
        "\n",
        "Try three different lines with different colors.\n",
        "\n"
      ],
      "metadata": {
        "id": "HQrLCNXFj4Eh"
      }
    },
    {
      "cell_type": "code",
      "source": [
        "# Create the object\n",
        "NiceGr = cuteGraph() \n",
        "\n",
        "# Add a line to the graph\n",
        "NiceGr.lineseg(x1=0, y1=4, x2=2,  y2=6, color=\"yellow\")\n",
        "\n",
        "# Add code for more lines\n",
        "\n",
        "\n",
        "# Show the graph\n",
        "NiceGr.plotAll() "
      ],
      "metadata": {
        "colab": {
          "base_uri": "https://localhost:8080/"
        },
        "id": "F_5sx12BV3PG",
        "outputId": "804ff021-7ad3-41b2-f620-4a8d863d943e"
      },
      "execution_count": null,
      "outputs": [
        {
          "output_type": "display_data",
          "data": {
            "text/html": [
              "<html>\n",
              "<head><meta charset=\"utf-8\" /></head>\n",
              "<body>\n",
              "    <div>            <script src=\"https://cdnjs.cloudflare.com/ajax/libs/mathjax/2.7.5/MathJax.js?config=TeX-AMS-MML_SVG\"></script><script type=\"text/javascript\">if (window.MathJax) {MathJax.Hub.Config({SVG: {font: \"STIX-Web\"}});}</script>                <script type=\"text/javascript\">window.PlotlyConfig = {MathJaxConfig: 'local'};</script>\n",
              "        <script src=\"https://cdn.plot.ly/plotly-2.8.3.min.js\"></script>                <div id=\"b43e7fd2-6648-456f-8f62-f11b15475ef6\" class=\"plotly-graph-div\" style=\"height:525px; width:100%;\"></div>            <script type=\"text/javascript\">                                    window.PLOTLYENV=window.PLOTLYENV || {};                                    if (document.getElementById(\"b43e7fd2-6648-456f-8f62-f11b15475ef6\")) {                    Plotly.newPlot(                        \"b43e7fd2-6648-456f-8f62-f11b15475ef6\",                        [{\"line\":{\"color\":\"yellow\",\"width\":2},\"mode\":\"lines+markers\",\"name\":\"Line segment (0, 4) to (2, 6)\",\"x\":[0,2],\"y\":[4,6],\"type\":\"scatter\"}],                        {\"template\":{\"data\":{\"bar\":[{\"error_x\":{\"color\":\"#2a3f5f\"},\"error_y\":{\"color\":\"#2a3f5f\"},\"marker\":{\"line\":{\"color\":\"#E5ECF6\",\"width\":0.5},\"pattern\":{\"fillmode\":\"overlay\",\"size\":10,\"solidity\":0.2}},\"type\":\"bar\"}],\"barpolar\":[{\"marker\":{\"line\":{\"color\":\"#E5ECF6\",\"width\":0.5},\"pattern\":{\"fillmode\":\"overlay\",\"size\":10,\"solidity\":0.2}},\"type\":\"barpolar\"}],\"carpet\":[{\"aaxis\":{\"endlinecolor\":\"#2a3f5f\",\"gridcolor\":\"white\",\"linecolor\":\"white\",\"minorgridcolor\":\"white\",\"startlinecolor\":\"#2a3f5f\"},\"baxis\":{\"endlinecolor\":\"#2a3f5f\",\"gridcolor\":\"white\",\"linecolor\":\"white\",\"minorgridcolor\":\"white\",\"startlinecolor\":\"#2a3f5f\"},\"type\":\"carpet\"}],\"choropleth\":[{\"colorbar\":{\"outlinewidth\":0,\"ticks\":\"\"},\"type\":\"choropleth\"}],\"contour\":[{\"colorbar\":{\"outlinewidth\":0,\"ticks\":\"\"},\"colorscale\":[[0.0,\"#0d0887\"],[0.1111111111111111,\"#46039f\"],[0.2222222222222222,\"#7201a8\"],[0.3333333333333333,\"#9c179e\"],[0.4444444444444444,\"#bd3786\"],[0.5555555555555556,\"#d8576b\"],[0.6666666666666666,\"#ed7953\"],[0.7777777777777778,\"#fb9f3a\"],[0.8888888888888888,\"#fdca26\"],[1.0,\"#f0f921\"]],\"type\":\"contour\"}],\"contourcarpet\":[{\"colorbar\":{\"outlinewidth\":0,\"ticks\":\"\"},\"type\":\"contourcarpet\"}],\"heatmap\":[{\"colorbar\":{\"outlinewidth\":0,\"ticks\":\"\"},\"colorscale\":[[0.0,\"#0d0887\"],[0.1111111111111111,\"#46039f\"],[0.2222222222222222,\"#7201a8\"],[0.3333333333333333,\"#9c179e\"],[0.4444444444444444,\"#bd3786\"],[0.5555555555555556,\"#d8576b\"],[0.6666666666666666,\"#ed7953\"],[0.7777777777777778,\"#fb9f3a\"],[0.8888888888888888,\"#fdca26\"],[1.0,\"#f0f921\"]],\"type\":\"heatmap\"}],\"heatmapgl\":[{\"colorbar\":{\"outlinewidth\":0,\"ticks\":\"\"},\"colorscale\":[[0.0,\"#0d0887\"],[0.1111111111111111,\"#46039f\"],[0.2222222222222222,\"#7201a8\"],[0.3333333333333333,\"#9c179e\"],[0.4444444444444444,\"#bd3786\"],[0.5555555555555556,\"#d8576b\"],[0.6666666666666666,\"#ed7953\"],[0.7777777777777778,\"#fb9f3a\"],[0.8888888888888888,\"#fdca26\"],[1.0,\"#f0f921\"]],\"type\":\"heatmapgl\"}],\"histogram\":[{\"marker\":{\"pattern\":{\"fillmode\":\"overlay\",\"size\":10,\"solidity\":0.2}},\"type\":\"histogram\"}],\"histogram2d\":[{\"colorbar\":{\"outlinewidth\":0,\"ticks\":\"\"},\"colorscale\":[[0.0,\"#0d0887\"],[0.1111111111111111,\"#46039f\"],[0.2222222222222222,\"#7201a8\"],[0.3333333333333333,\"#9c179e\"],[0.4444444444444444,\"#bd3786\"],[0.5555555555555556,\"#d8576b\"],[0.6666666666666666,\"#ed7953\"],[0.7777777777777778,\"#fb9f3a\"],[0.8888888888888888,\"#fdca26\"],[1.0,\"#f0f921\"]],\"type\":\"histogram2d\"}],\"histogram2dcontour\":[{\"colorbar\":{\"outlinewidth\":0,\"ticks\":\"\"},\"colorscale\":[[0.0,\"#0d0887\"],[0.1111111111111111,\"#46039f\"],[0.2222222222222222,\"#7201a8\"],[0.3333333333333333,\"#9c179e\"],[0.4444444444444444,\"#bd3786\"],[0.5555555555555556,\"#d8576b\"],[0.6666666666666666,\"#ed7953\"],[0.7777777777777778,\"#fb9f3a\"],[0.8888888888888888,\"#fdca26\"],[1.0,\"#f0f921\"]],\"type\":\"histogram2dcontour\"}],\"mesh3d\":[{\"colorbar\":{\"outlinewidth\":0,\"ticks\":\"\"},\"type\":\"mesh3d\"}],\"parcoords\":[{\"line\":{\"colorbar\":{\"outlinewidth\":0,\"ticks\":\"\"}},\"type\":\"parcoords\"}],\"pie\":[{\"automargin\":true,\"type\":\"pie\"}],\"scatter\":[{\"marker\":{\"colorbar\":{\"outlinewidth\":0,\"ticks\":\"\"}},\"type\":\"scatter\"}],\"scatter3d\":[{\"line\":{\"colorbar\":{\"outlinewidth\":0,\"ticks\":\"\"}},\"marker\":{\"colorbar\":{\"outlinewidth\":0,\"ticks\":\"\"}},\"type\":\"scatter3d\"}],\"scattercarpet\":[{\"marker\":{\"colorbar\":{\"outlinewidth\":0,\"ticks\":\"\"}},\"type\":\"scattercarpet\"}],\"scattergeo\":[{\"marker\":{\"colorbar\":{\"outlinewidth\":0,\"ticks\":\"\"}},\"type\":\"scattergeo\"}],\"scattergl\":[{\"marker\":{\"colorbar\":{\"outlinewidth\":0,\"ticks\":\"\"}},\"type\":\"scattergl\"}],\"scattermapbox\":[{\"marker\":{\"colorbar\":{\"outlinewidth\":0,\"ticks\":\"\"}},\"type\":\"scattermapbox\"}],\"scatterpolar\":[{\"marker\":{\"colorbar\":{\"outlinewidth\":0,\"ticks\":\"\"}},\"type\":\"scatterpolar\"}],\"scatterpolargl\":[{\"marker\":{\"colorbar\":{\"outlinewidth\":0,\"ticks\":\"\"}},\"type\":\"scatterpolargl\"}],\"scatterternary\":[{\"marker\":{\"colorbar\":{\"outlinewidth\":0,\"ticks\":\"\"}},\"type\":\"scatterternary\"}],\"surface\":[{\"colorbar\":{\"outlinewidth\":0,\"ticks\":\"\"},\"colorscale\":[[0.0,\"#0d0887\"],[0.1111111111111111,\"#46039f\"],[0.2222222222222222,\"#7201a8\"],[0.3333333333333333,\"#9c179e\"],[0.4444444444444444,\"#bd3786\"],[0.5555555555555556,\"#d8576b\"],[0.6666666666666666,\"#ed7953\"],[0.7777777777777778,\"#fb9f3a\"],[0.8888888888888888,\"#fdca26\"],[1.0,\"#f0f921\"]],\"type\":\"surface\"}],\"table\":[{\"cells\":{\"fill\":{\"color\":\"#EBF0F8\"},\"line\":{\"color\":\"white\"}},\"header\":{\"fill\":{\"color\":\"#C8D4E3\"},\"line\":{\"color\":\"white\"}},\"type\":\"table\"}]},\"layout\":{\"annotationdefaults\":{\"arrowcolor\":\"#2a3f5f\",\"arrowhead\":0,\"arrowwidth\":1},\"autotypenumbers\":\"strict\",\"coloraxis\":{\"colorbar\":{\"outlinewidth\":0,\"ticks\":\"\"}},\"colorscale\":{\"diverging\":[[0,\"#8e0152\"],[0.1,\"#c51b7d\"],[0.2,\"#de77ae\"],[0.3,\"#f1b6da\"],[0.4,\"#fde0ef\"],[0.5,\"#f7f7f7\"],[0.6,\"#e6f5d0\"],[0.7,\"#b8e186\"],[0.8,\"#7fbc41\"],[0.9,\"#4d9221\"],[1,\"#276419\"]],\"sequential\":[[0.0,\"#0d0887\"],[0.1111111111111111,\"#46039f\"],[0.2222222222222222,\"#7201a8\"],[0.3333333333333333,\"#9c179e\"],[0.4444444444444444,\"#bd3786\"],[0.5555555555555556,\"#d8576b\"],[0.6666666666666666,\"#ed7953\"],[0.7777777777777778,\"#fb9f3a\"],[0.8888888888888888,\"#fdca26\"],[1.0,\"#f0f921\"]],\"sequentialminus\":[[0.0,\"#0d0887\"],[0.1111111111111111,\"#46039f\"],[0.2222222222222222,\"#7201a8\"],[0.3333333333333333,\"#9c179e\"],[0.4444444444444444,\"#bd3786\"],[0.5555555555555556,\"#d8576b\"],[0.6666666666666666,\"#ed7953\"],[0.7777777777777778,\"#fb9f3a\"],[0.8888888888888888,\"#fdca26\"],[1.0,\"#f0f921\"]]},\"colorway\":[\"#636efa\",\"#EF553B\",\"#00cc96\",\"#ab63fa\",\"#FFA15A\",\"#19d3f3\",\"#FF6692\",\"#B6E880\",\"#FF97FF\",\"#FECB52\"],\"font\":{\"color\":\"#2a3f5f\"},\"geo\":{\"bgcolor\":\"white\",\"lakecolor\":\"white\",\"landcolor\":\"#E5ECF6\",\"showlakes\":true,\"showland\":true,\"subunitcolor\":\"white\"},\"hoverlabel\":{\"align\":\"left\"},\"hovermode\":\"closest\",\"mapbox\":{\"style\":\"light\"},\"paper_bgcolor\":\"white\",\"plot_bgcolor\":\"#E5ECF6\",\"polar\":{\"angularaxis\":{\"gridcolor\":\"white\",\"linecolor\":\"white\",\"ticks\":\"\"},\"bgcolor\":\"#E5ECF6\",\"radialaxis\":{\"gridcolor\":\"white\",\"linecolor\":\"white\",\"ticks\":\"\"}},\"scene\":{\"xaxis\":{\"backgroundcolor\":\"#E5ECF6\",\"gridcolor\":\"white\",\"gridwidth\":2,\"linecolor\":\"white\",\"showbackground\":true,\"ticks\":\"\",\"zerolinecolor\":\"white\"},\"yaxis\":{\"backgroundcolor\":\"#E5ECF6\",\"gridcolor\":\"white\",\"gridwidth\":2,\"linecolor\":\"white\",\"showbackground\":true,\"ticks\":\"\",\"zerolinecolor\":\"white\"},\"zaxis\":{\"backgroundcolor\":\"#E5ECF6\",\"gridcolor\":\"white\",\"gridwidth\":2,\"linecolor\":\"white\",\"showbackground\":true,\"ticks\":\"\",\"zerolinecolor\":\"white\"}},\"shapedefaults\":{\"line\":{\"color\":\"#2a3f5f\"}},\"ternary\":{\"aaxis\":{\"gridcolor\":\"white\",\"linecolor\":\"white\",\"ticks\":\"\"},\"baxis\":{\"gridcolor\":\"white\",\"linecolor\":\"white\",\"ticks\":\"\"},\"bgcolor\":\"#E5ECF6\",\"caxis\":{\"gridcolor\":\"white\",\"linecolor\":\"white\",\"ticks\":\"\"}},\"title\":{\"x\":0.05},\"xaxis\":{\"automargin\":true,\"gridcolor\":\"white\",\"linecolor\":\"white\",\"ticks\":\"\",\"title\":{\"standoff\":15},\"zerolinecolor\":\"white\",\"zerolinewidth\":2},\"yaxis\":{\"automargin\":true,\"gridcolor\":\"white\",\"linecolor\":\"white\",\"ticks\":\"\",\"title\":{\"standoff\":15},\"zerolinecolor\":\"white\",\"zerolinewidth\":2}}},\"font\":{\"family\":\"Courier New, monospace\",\"size\":12,\"color\":\"RebeccaPurple\"},\"title\":{\"text\":\"Plots\"},\"xaxis\":{\"title\":{\"text\":\"X\"},\"visible\":true},\"yaxis\":{\"title\":{\"text\":\"Y\"},\"visible\":true},\"legend\":{\"title\":{\"text\":\"List\"}},\"showlegend\":true},                        {\"responsive\": true}                    ).then(function(){\n",
              "                            \n",
              "var gd = document.getElementById('b43e7fd2-6648-456f-8f62-f11b15475ef6');\n",
              "var x = new MutationObserver(function (mutations, observer) {{\n",
              "        var display = window.getComputedStyle(gd).display;\n",
              "        if (!display || display === 'none') {{\n",
              "            console.log([gd, 'removed!']);\n",
              "            Plotly.purge(gd);\n",
              "            observer.disconnect();\n",
              "        }}\n",
              "}});\n",
              "\n",
              "// Listen for the removal of the full notebook cells\n",
              "var notebookContainer = gd.closest('#notebook-container');\n",
              "if (notebookContainer) {{\n",
              "    x.observe(notebookContainer, {childList: true});\n",
              "}}\n",
              "\n",
              "// Listen for the clearing of the current output cell\n",
              "var outputEl = gd.closest('.output');\n",
              "if (outputEl) {{\n",
              "    x.observe(outputEl, {childList: true});\n",
              "}}\n",
              "\n",
              "                        })                };                            </script>        </div>\n",
              "</body>\n",
              "</html>"
            ]
          },
          "metadata": {}
        }
      ]
    },
    {
      "cell_type": "markdown",
      "source": [
        "## Plot rectangles\n",
        "Similarly, we can plot rectangles using:\n",
        "```\n",
        "NiceGr.rect(x1=0, y1=0, x2=2, y2=4, color=\"blue\")\n",
        "```\n",
        "In this example, we have:\n",
        "* (x1, y1) = (0, 0) is the lower-left corner of the recrtangle\n",
        "* (x2, y2) = (2, 4) is the upper-right corner of the rectangle\n",
        "* the rectangle color is blue.\n",
        "\n",
        "## Assignment\n",
        "\n",
        "Run the code and plot two more rectangles.\n",
        "\n"
      ],
      "metadata": {
        "id": "Gj7ism7XopEM"
      }
    },
    {
      "cell_type": "code",
      "source": [
        "# Create the object\n",
        "NiceGr = cuteGraph() \n",
        "\n",
        "# Add a rectangle to the graph\n",
        "NiceGr.rect(x1=0, y1=0, x2=2, y2=4, color=\"blue\")\n",
        "\n",
        "# Add code for more rectangles\n",
        "\n",
        "\n",
        "# Show the graph\n",
        "NiceGr.plotAll() "
      ],
      "metadata": {
        "colab": {
          "base_uri": "https://localhost:8080/",
          "height": 542
        },
        "id": "04H3ienMtQp8",
        "outputId": "7d3ab321-468d-4b4c-c52f-5ec55373c0b5"
      },
      "execution_count": null,
      "outputs": [
        {
          "output_type": "display_data",
          "data": {
            "text/html": [
              "<html>\n",
              "<head><meta charset=\"utf-8\" /></head>\n",
              "<body>\n",
              "    <div>            <script src=\"https://cdnjs.cloudflare.com/ajax/libs/mathjax/2.7.5/MathJax.js?config=TeX-AMS-MML_SVG\"></script><script type=\"text/javascript\">if (window.MathJax) {MathJax.Hub.Config({SVG: {font: \"STIX-Web\"}});}</script>                <script type=\"text/javascript\">window.PlotlyConfig = {MathJaxConfig: 'local'};</script>\n",
              "        <script src=\"https://cdn.plot.ly/plotly-2.8.3.min.js\"></script>                <div id=\"5087d197-09f3-4e7c-884f-9d34d3411865\" class=\"plotly-graph-div\" style=\"height:525px; width:100%;\"></div>            <script type=\"text/javascript\">                                    window.PLOTLYENV=window.PLOTLYENV || {};                                    if (document.getElementById(\"5087d197-09f3-4e7c-884f-9d34d3411865\")) {                    Plotly.newPlot(                        \"5087d197-09f3-4e7c-884f-9d34d3411865\",                        [{\"line\":{\"color\":\"blue\",\"width\":2},\"mode\":\"lines+markers\",\"name\":\"Rect: line (0, 0) to (0, 4)\",\"x\":[0,0],\"y\":[0,4],\"type\":\"scatter\"},{\"line\":{\"color\":\"blue\",\"width\":2},\"mode\":\"lines+markers\",\"name\":\"Rect: line (2, 0) to (2, 4)\",\"x\":[2,2],\"y\":[0,4],\"type\":\"scatter\"},{\"line\":{\"color\":\"blue\",\"width\":2},\"mode\":\"lines+markers\",\"name\":\"Rect: line (0, 0) to (2, 0)\",\"x\":[0,2],\"y\":[0,0],\"type\":\"scatter\"},{\"line\":{\"color\":\"blue\",\"width\":2},\"mode\":\"lines+markers\",\"name\":\"Rect: line (0, 4) to (2, 4)\",\"x\":[0,2],\"y\":[4,4],\"type\":\"scatter\"}],                        {\"template\":{\"data\":{\"bar\":[{\"error_x\":{\"color\":\"#2a3f5f\"},\"error_y\":{\"color\":\"#2a3f5f\"},\"marker\":{\"line\":{\"color\":\"#E5ECF6\",\"width\":0.5},\"pattern\":{\"fillmode\":\"overlay\",\"size\":10,\"solidity\":0.2}},\"type\":\"bar\"}],\"barpolar\":[{\"marker\":{\"line\":{\"color\":\"#E5ECF6\",\"width\":0.5},\"pattern\":{\"fillmode\":\"overlay\",\"size\":10,\"solidity\":0.2}},\"type\":\"barpolar\"}],\"carpet\":[{\"aaxis\":{\"endlinecolor\":\"#2a3f5f\",\"gridcolor\":\"white\",\"linecolor\":\"white\",\"minorgridcolor\":\"white\",\"startlinecolor\":\"#2a3f5f\"},\"baxis\":{\"endlinecolor\":\"#2a3f5f\",\"gridcolor\":\"white\",\"linecolor\":\"white\",\"minorgridcolor\":\"white\",\"startlinecolor\":\"#2a3f5f\"},\"type\":\"carpet\"}],\"choropleth\":[{\"colorbar\":{\"outlinewidth\":0,\"ticks\":\"\"},\"type\":\"choropleth\"}],\"contour\":[{\"colorbar\":{\"outlinewidth\":0,\"ticks\":\"\"},\"colorscale\":[[0.0,\"#0d0887\"],[0.1111111111111111,\"#46039f\"],[0.2222222222222222,\"#7201a8\"],[0.3333333333333333,\"#9c179e\"],[0.4444444444444444,\"#bd3786\"],[0.5555555555555556,\"#d8576b\"],[0.6666666666666666,\"#ed7953\"],[0.7777777777777778,\"#fb9f3a\"],[0.8888888888888888,\"#fdca26\"],[1.0,\"#f0f921\"]],\"type\":\"contour\"}],\"contourcarpet\":[{\"colorbar\":{\"outlinewidth\":0,\"ticks\":\"\"},\"type\":\"contourcarpet\"}],\"heatmap\":[{\"colorbar\":{\"outlinewidth\":0,\"ticks\":\"\"},\"colorscale\":[[0.0,\"#0d0887\"],[0.1111111111111111,\"#46039f\"],[0.2222222222222222,\"#7201a8\"],[0.3333333333333333,\"#9c179e\"],[0.4444444444444444,\"#bd3786\"],[0.5555555555555556,\"#d8576b\"],[0.6666666666666666,\"#ed7953\"],[0.7777777777777778,\"#fb9f3a\"],[0.8888888888888888,\"#fdca26\"],[1.0,\"#f0f921\"]],\"type\":\"heatmap\"}],\"heatmapgl\":[{\"colorbar\":{\"outlinewidth\":0,\"ticks\":\"\"},\"colorscale\":[[0.0,\"#0d0887\"],[0.1111111111111111,\"#46039f\"],[0.2222222222222222,\"#7201a8\"],[0.3333333333333333,\"#9c179e\"],[0.4444444444444444,\"#bd3786\"],[0.5555555555555556,\"#d8576b\"],[0.6666666666666666,\"#ed7953\"],[0.7777777777777778,\"#fb9f3a\"],[0.8888888888888888,\"#fdca26\"],[1.0,\"#f0f921\"]],\"type\":\"heatmapgl\"}],\"histogram\":[{\"marker\":{\"pattern\":{\"fillmode\":\"overlay\",\"size\":10,\"solidity\":0.2}},\"type\":\"histogram\"}],\"histogram2d\":[{\"colorbar\":{\"outlinewidth\":0,\"ticks\":\"\"},\"colorscale\":[[0.0,\"#0d0887\"],[0.1111111111111111,\"#46039f\"],[0.2222222222222222,\"#7201a8\"],[0.3333333333333333,\"#9c179e\"],[0.4444444444444444,\"#bd3786\"],[0.5555555555555556,\"#d8576b\"],[0.6666666666666666,\"#ed7953\"],[0.7777777777777778,\"#fb9f3a\"],[0.8888888888888888,\"#fdca26\"],[1.0,\"#f0f921\"]],\"type\":\"histogram2d\"}],\"histogram2dcontour\":[{\"colorbar\":{\"outlinewidth\":0,\"ticks\":\"\"},\"colorscale\":[[0.0,\"#0d0887\"],[0.1111111111111111,\"#46039f\"],[0.2222222222222222,\"#7201a8\"],[0.3333333333333333,\"#9c179e\"],[0.4444444444444444,\"#bd3786\"],[0.5555555555555556,\"#d8576b\"],[0.6666666666666666,\"#ed7953\"],[0.7777777777777778,\"#fb9f3a\"],[0.8888888888888888,\"#fdca26\"],[1.0,\"#f0f921\"]],\"type\":\"histogram2dcontour\"}],\"mesh3d\":[{\"colorbar\":{\"outlinewidth\":0,\"ticks\":\"\"},\"type\":\"mesh3d\"}],\"parcoords\":[{\"line\":{\"colorbar\":{\"outlinewidth\":0,\"ticks\":\"\"}},\"type\":\"parcoords\"}],\"pie\":[{\"automargin\":true,\"type\":\"pie\"}],\"scatter\":[{\"marker\":{\"colorbar\":{\"outlinewidth\":0,\"ticks\":\"\"}},\"type\":\"scatter\"}],\"scatter3d\":[{\"line\":{\"colorbar\":{\"outlinewidth\":0,\"ticks\":\"\"}},\"marker\":{\"colorbar\":{\"outlinewidth\":0,\"ticks\":\"\"}},\"type\":\"scatter3d\"}],\"scattercarpet\":[{\"marker\":{\"colorbar\":{\"outlinewidth\":0,\"ticks\":\"\"}},\"type\":\"scattercarpet\"}],\"scattergeo\":[{\"marker\":{\"colorbar\":{\"outlinewidth\":0,\"ticks\":\"\"}},\"type\":\"scattergeo\"}],\"scattergl\":[{\"marker\":{\"colorbar\":{\"outlinewidth\":0,\"ticks\":\"\"}},\"type\":\"scattergl\"}],\"scattermapbox\":[{\"marker\":{\"colorbar\":{\"outlinewidth\":0,\"ticks\":\"\"}},\"type\":\"scattermapbox\"}],\"scatterpolar\":[{\"marker\":{\"colorbar\":{\"outlinewidth\":0,\"ticks\":\"\"}},\"type\":\"scatterpolar\"}],\"scatterpolargl\":[{\"marker\":{\"colorbar\":{\"outlinewidth\":0,\"ticks\":\"\"}},\"type\":\"scatterpolargl\"}],\"scatterternary\":[{\"marker\":{\"colorbar\":{\"outlinewidth\":0,\"ticks\":\"\"}},\"type\":\"scatterternary\"}],\"surface\":[{\"colorbar\":{\"outlinewidth\":0,\"ticks\":\"\"},\"colorscale\":[[0.0,\"#0d0887\"],[0.1111111111111111,\"#46039f\"],[0.2222222222222222,\"#7201a8\"],[0.3333333333333333,\"#9c179e\"],[0.4444444444444444,\"#bd3786\"],[0.5555555555555556,\"#d8576b\"],[0.6666666666666666,\"#ed7953\"],[0.7777777777777778,\"#fb9f3a\"],[0.8888888888888888,\"#fdca26\"],[1.0,\"#f0f921\"]],\"type\":\"surface\"}],\"table\":[{\"cells\":{\"fill\":{\"color\":\"#EBF0F8\"},\"line\":{\"color\":\"white\"}},\"header\":{\"fill\":{\"color\":\"#C8D4E3\"},\"line\":{\"color\":\"white\"}},\"type\":\"table\"}]},\"layout\":{\"annotationdefaults\":{\"arrowcolor\":\"#2a3f5f\",\"arrowhead\":0,\"arrowwidth\":1},\"autotypenumbers\":\"strict\",\"coloraxis\":{\"colorbar\":{\"outlinewidth\":0,\"ticks\":\"\"}},\"colorscale\":{\"diverging\":[[0,\"#8e0152\"],[0.1,\"#c51b7d\"],[0.2,\"#de77ae\"],[0.3,\"#f1b6da\"],[0.4,\"#fde0ef\"],[0.5,\"#f7f7f7\"],[0.6,\"#e6f5d0\"],[0.7,\"#b8e186\"],[0.8,\"#7fbc41\"],[0.9,\"#4d9221\"],[1,\"#276419\"]],\"sequential\":[[0.0,\"#0d0887\"],[0.1111111111111111,\"#46039f\"],[0.2222222222222222,\"#7201a8\"],[0.3333333333333333,\"#9c179e\"],[0.4444444444444444,\"#bd3786\"],[0.5555555555555556,\"#d8576b\"],[0.6666666666666666,\"#ed7953\"],[0.7777777777777778,\"#fb9f3a\"],[0.8888888888888888,\"#fdca26\"],[1.0,\"#f0f921\"]],\"sequentialminus\":[[0.0,\"#0d0887\"],[0.1111111111111111,\"#46039f\"],[0.2222222222222222,\"#7201a8\"],[0.3333333333333333,\"#9c179e\"],[0.4444444444444444,\"#bd3786\"],[0.5555555555555556,\"#d8576b\"],[0.6666666666666666,\"#ed7953\"],[0.7777777777777778,\"#fb9f3a\"],[0.8888888888888888,\"#fdca26\"],[1.0,\"#f0f921\"]]},\"colorway\":[\"#636efa\",\"#EF553B\",\"#00cc96\",\"#ab63fa\",\"#FFA15A\",\"#19d3f3\",\"#FF6692\",\"#B6E880\",\"#FF97FF\",\"#FECB52\"],\"font\":{\"color\":\"#2a3f5f\"},\"geo\":{\"bgcolor\":\"white\",\"lakecolor\":\"white\",\"landcolor\":\"#E5ECF6\",\"showlakes\":true,\"showland\":true,\"subunitcolor\":\"white\"},\"hoverlabel\":{\"align\":\"left\"},\"hovermode\":\"closest\",\"mapbox\":{\"style\":\"light\"},\"paper_bgcolor\":\"white\",\"plot_bgcolor\":\"#E5ECF6\",\"polar\":{\"angularaxis\":{\"gridcolor\":\"white\",\"linecolor\":\"white\",\"ticks\":\"\"},\"bgcolor\":\"#E5ECF6\",\"radialaxis\":{\"gridcolor\":\"white\",\"linecolor\":\"white\",\"ticks\":\"\"}},\"scene\":{\"xaxis\":{\"backgroundcolor\":\"#E5ECF6\",\"gridcolor\":\"white\",\"gridwidth\":2,\"linecolor\":\"white\",\"showbackground\":true,\"ticks\":\"\",\"zerolinecolor\":\"white\"},\"yaxis\":{\"backgroundcolor\":\"#E5ECF6\",\"gridcolor\":\"white\",\"gridwidth\":2,\"linecolor\":\"white\",\"showbackground\":true,\"ticks\":\"\",\"zerolinecolor\":\"white\"},\"zaxis\":{\"backgroundcolor\":\"#E5ECF6\",\"gridcolor\":\"white\",\"gridwidth\":2,\"linecolor\":\"white\",\"showbackground\":true,\"ticks\":\"\",\"zerolinecolor\":\"white\"}},\"shapedefaults\":{\"line\":{\"color\":\"#2a3f5f\"}},\"ternary\":{\"aaxis\":{\"gridcolor\":\"white\",\"linecolor\":\"white\",\"ticks\":\"\"},\"baxis\":{\"gridcolor\":\"white\",\"linecolor\":\"white\",\"ticks\":\"\"},\"bgcolor\":\"#E5ECF6\",\"caxis\":{\"gridcolor\":\"white\",\"linecolor\":\"white\",\"ticks\":\"\"}},\"title\":{\"x\":0.05},\"xaxis\":{\"automargin\":true,\"gridcolor\":\"white\",\"linecolor\":\"white\",\"ticks\":\"\",\"title\":{\"standoff\":15},\"zerolinecolor\":\"white\",\"zerolinewidth\":2},\"yaxis\":{\"automargin\":true,\"gridcolor\":\"white\",\"linecolor\":\"white\",\"ticks\":\"\",\"title\":{\"standoff\":15},\"zerolinecolor\":\"white\",\"zerolinewidth\":2}}},\"font\":{\"family\":\"Courier New, monospace\",\"size\":12,\"color\":\"RebeccaPurple\"},\"title\":{\"text\":\"Plots\"},\"xaxis\":{\"title\":{\"text\":\"X\"},\"visible\":true},\"yaxis\":{\"title\":{\"text\":\"Y\"},\"visible\":true},\"legend\":{\"title\":{\"text\":\"List\"}},\"showlegend\":true},                        {\"responsive\": true}                    ).then(function(){\n",
              "                            \n",
              "var gd = document.getElementById('5087d197-09f3-4e7c-884f-9d34d3411865');\n",
              "var x = new MutationObserver(function (mutations, observer) {{\n",
              "        var display = window.getComputedStyle(gd).display;\n",
              "        if (!display || display === 'none') {{\n",
              "            console.log([gd, 'removed!']);\n",
              "            Plotly.purge(gd);\n",
              "            observer.disconnect();\n",
              "        }}\n",
              "}});\n",
              "\n",
              "// Listen for the removal of the full notebook cells\n",
              "var notebookContainer = gd.closest('#notebook-container');\n",
              "if (notebookContainer) {{\n",
              "    x.observe(notebookContainer, {childList: true});\n",
              "}}\n",
              "\n",
              "// Listen for the clearing of the current output cell\n",
              "var outputEl = gd.closest('.output');\n",
              "if (outputEl) {{\n",
              "    x.observe(outputEl, {childList: true});\n",
              "}}\n",
              "\n",
              "                        })                };                            </script>        </div>\n",
              "</body>\n",
              "</html>"
            ]
          },
          "metadata": {}
        }
      ]
    },
    {
      "cell_type": "markdown",
      "source": [
        "## Adding text\n",
        "We can add text to the graph using strings.\n",
        "\n",
        "Our strings can span multiple lines as given below:\n",
        "```\n",
        "text = \"\"\"Student Names<br>\n",
        "Class Name<br>\n",
        "School Name<br>\n",
        "Semester Year\"\"\"\n",
        "```\n",
        "Here, note that <tt>\\<br\\></tt> defines a new line.\n",
        "To place the text centered at the origin, we use:\n",
        "```\n",
        "NiceGr.addText(x=0, y=0, text=text, color=\"black\")\n",
        "```\n",
        "\n",
        "## Assignment\n",
        "\n",
        "Modify the code to enter your name.\n",
        "\n",
        "If you cannot see the text, then click on the zoom controls on the upper-right hand corner of the image.\n",
        "\n",
        "\n",
        "\n"
      ],
      "metadata": {
        "id": "B5OF18_lM9Dr"
      }
    },
    {
      "cell_type": "code",
      "source": [
        "# Create the object\n",
        "NiceGr = cuteGraph() \n",
        "\n",
        "# Add text:\n",
        "text = \"\"\"Student Name<br>\n",
        "Course Name<br>\n",
        "School Name<br>\n",
        "Semester Year\"\"\"\n",
        "\n",
        "NiceGr.addText(x=0, y=0, text=text, color=\"black\")\n",
        "\n",
        "# Show the graph\n",
        "NiceGr.plotAll() "
      ],
      "metadata": {
        "colab": {
          "base_uri": "https://localhost:8080/",
          "height": 542
        },
        "id": "bE56OWoTNM42",
        "outputId": "581ffbd2-9d21-4e74-842a-159ca83e9bd8"
      },
      "execution_count": null,
      "outputs": [
        {
          "output_type": "display_data",
          "data": {
            "text/html": [
              "<html>\n",
              "<head><meta charset=\"utf-8\" /></head>\n",
              "<body>\n",
              "    <div>            <script src=\"https://cdnjs.cloudflare.com/ajax/libs/mathjax/2.7.5/MathJax.js?config=TeX-AMS-MML_SVG\"></script><script type=\"text/javascript\">if (window.MathJax) {MathJax.Hub.Config({SVG: {font: \"STIX-Web\"}});}</script>                <script type=\"text/javascript\">window.PlotlyConfig = {MathJaxConfig: 'local'};</script>\n",
              "        <script src=\"https://cdn.plot.ly/plotly-2.8.3.min.js\"></script>                <div id=\"e957078a-3603-4987-bcfa-0a88929694cc\" class=\"plotly-graph-div\" style=\"height:525px; width:100%;\"></div>            <script type=\"text/javascript\">                                    window.PLOTLYENV=window.PLOTLYENV || {};                                    if (document.getElementById(\"e957078a-3603-4987-bcfa-0a88929694cc\")) {                    Plotly.newPlot(                        \"e957078a-3603-4987-bcfa-0a88929694cc\",                        [],                        {\"template\":{\"data\":{\"bar\":[{\"error_x\":{\"color\":\"#2a3f5f\"},\"error_y\":{\"color\":\"#2a3f5f\"},\"marker\":{\"line\":{\"color\":\"#E5ECF6\",\"width\":0.5},\"pattern\":{\"fillmode\":\"overlay\",\"size\":10,\"solidity\":0.2}},\"type\":\"bar\"}],\"barpolar\":[{\"marker\":{\"line\":{\"color\":\"#E5ECF6\",\"width\":0.5},\"pattern\":{\"fillmode\":\"overlay\",\"size\":10,\"solidity\":0.2}},\"type\":\"barpolar\"}],\"carpet\":[{\"aaxis\":{\"endlinecolor\":\"#2a3f5f\",\"gridcolor\":\"white\",\"linecolor\":\"white\",\"minorgridcolor\":\"white\",\"startlinecolor\":\"#2a3f5f\"},\"baxis\":{\"endlinecolor\":\"#2a3f5f\",\"gridcolor\":\"white\",\"linecolor\":\"white\",\"minorgridcolor\":\"white\",\"startlinecolor\":\"#2a3f5f\"},\"type\":\"carpet\"}],\"choropleth\":[{\"colorbar\":{\"outlinewidth\":0,\"ticks\":\"\"},\"type\":\"choropleth\"}],\"contour\":[{\"colorbar\":{\"outlinewidth\":0,\"ticks\":\"\"},\"colorscale\":[[0.0,\"#0d0887\"],[0.1111111111111111,\"#46039f\"],[0.2222222222222222,\"#7201a8\"],[0.3333333333333333,\"#9c179e\"],[0.4444444444444444,\"#bd3786\"],[0.5555555555555556,\"#d8576b\"],[0.6666666666666666,\"#ed7953\"],[0.7777777777777778,\"#fb9f3a\"],[0.8888888888888888,\"#fdca26\"],[1.0,\"#f0f921\"]],\"type\":\"contour\"}],\"contourcarpet\":[{\"colorbar\":{\"outlinewidth\":0,\"ticks\":\"\"},\"type\":\"contourcarpet\"}],\"heatmap\":[{\"colorbar\":{\"outlinewidth\":0,\"ticks\":\"\"},\"colorscale\":[[0.0,\"#0d0887\"],[0.1111111111111111,\"#46039f\"],[0.2222222222222222,\"#7201a8\"],[0.3333333333333333,\"#9c179e\"],[0.4444444444444444,\"#bd3786\"],[0.5555555555555556,\"#d8576b\"],[0.6666666666666666,\"#ed7953\"],[0.7777777777777778,\"#fb9f3a\"],[0.8888888888888888,\"#fdca26\"],[1.0,\"#f0f921\"]],\"type\":\"heatmap\"}],\"heatmapgl\":[{\"colorbar\":{\"outlinewidth\":0,\"ticks\":\"\"},\"colorscale\":[[0.0,\"#0d0887\"],[0.1111111111111111,\"#46039f\"],[0.2222222222222222,\"#7201a8\"],[0.3333333333333333,\"#9c179e\"],[0.4444444444444444,\"#bd3786\"],[0.5555555555555556,\"#d8576b\"],[0.6666666666666666,\"#ed7953\"],[0.7777777777777778,\"#fb9f3a\"],[0.8888888888888888,\"#fdca26\"],[1.0,\"#f0f921\"]],\"type\":\"heatmapgl\"}],\"histogram\":[{\"marker\":{\"pattern\":{\"fillmode\":\"overlay\",\"size\":10,\"solidity\":0.2}},\"type\":\"histogram\"}],\"histogram2d\":[{\"colorbar\":{\"outlinewidth\":0,\"ticks\":\"\"},\"colorscale\":[[0.0,\"#0d0887\"],[0.1111111111111111,\"#46039f\"],[0.2222222222222222,\"#7201a8\"],[0.3333333333333333,\"#9c179e\"],[0.4444444444444444,\"#bd3786\"],[0.5555555555555556,\"#d8576b\"],[0.6666666666666666,\"#ed7953\"],[0.7777777777777778,\"#fb9f3a\"],[0.8888888888888888,\"#fdca26\"],[1.0,\"#f0f921\"]],\"type\":\"histogram2d\"}],\"histogram2dcontour\":[{\"colorbar\":{\"outlinewidth\":0,\"ticks\":\"\"},\"colorscale\":[[0.0,\"#0d0887\"],[0.1111111111111111,\"#46039f\"],[0.2222222222222222,\"#7201a8\"],[0.3333333333333333,\"#9c179e\"],[0.4444444444444444,\"#bd3786\"],[0.5555555555555556,\"#d8576b\"],[0.6666666666666666,\"#ed7953\"],[0.7777777777777778,\"#fb9f3a\"],[0.8888888888888888,\"#fdca26\"],[1.0,\"#f0f921\"]],\"type\":\"histogram2dcontour\"}],\"mesh3d\":[{\"colorbar\":{\"outlinewidth\":0,\"ticks\":\"\"},\"type\":\"mesh3d\"}],\"parcoords\":[{\"line\":{\"colorbar\":{\"outlinewidth\":0,\"ticks\":\"\"}},\"type\":\"parcoords\"}],\"pie\":[{\"automargin\":true,\"type\":\"pie\"}],\"scatter\":[{\"marker\":{\"colorbar\":{\"outlinewidth\":0,\"ticks\":\"\"}},\"type\":\"scatter\"}],\"scatter3d\":[{\"line\":{\"colorbar\":{\"outlinewidth\":0,\"ticks\":\"\"}},\"marker\":{\"colorbar\":{\"outlinewidth\":0,\"ticks\":\"\"}},\"type\":\"scatter3d\"}],\"scattercarpet\":[{\"marker\":{\"colorbar\":{\"outlinewidth\":0,\"ticks\":\"\"}},\"type\":\"scattercarpet\"}],\"scattergeo\":[{\"marker\":{\"colorbar\":{\"outlinewidth\":0,\"ticks\":\"\"}},\"type\":\"scattergeo\"}],\"scattergl\":[{\"marker\":{\"colorbar\":{\"outlinewidth\":0,\"ticks\":\"\"}},\"type\":\"scattergl\"}],\"scattermapbox\":[{\"marker\":{\"colorbar\":{\"outlinewidth\":0,\"ticks\":\"\"}},\"type\":\"scattermapbox\"}],\"scatterpolar\":[{\"marker\":{\"colorbar\":{\"outlinewidth\":0,\"ticks\":\"\"}},\"type\":\"scatterpolar\"}],\"scatterpolargl\":[{\"marker\":{\"colorbar\":{\"outlinewidth\":0,\"ticks\":\"\"}},\"type\":\"scatterpolargl\"}],\"scatterternary\":[{\"marker\":{\"colorbar\":{\"outlinewidth\":0,\"ticks\":\"\"}},\"type\":\"scatterternary\"}],\"surface\":[{\"colorbar\":{\"outlinewidth\":0,\"ticks\":\"\"},\"colorscale\":[[0.0,\"#0d0887\"],[0.1111111111111111,\"#46039f\"],[0.2222222222222222,\"#7201a8\"],[0.3333333333333333,\"#9c179e\"],[0.4444444444444444,\"#bd3786\"],[0.5555555555555556,\"#d8576b\"],[0.6666666666666666,\"#ed7953\"],[0.7777777777777778,\"#fb9f3a\"],[0.8888888888888888,\"#fdca26\"],[1.0,\"#f0f921\"]],\"type\":\"surface\"}],\"table\":[{\"cells\":{\"fill\":{\"color\":\"#EBF0F8\"},\"line\":{\"color\":\"white\"}},\"header\":{\"fill\":{\"color\":\"#C8D4E3\"},\"line\":{\"color\":\"white\"}},\"type\":\"table\"}]},\"layout\":{\"annotationdefaults\":{\"arrowcolor\":\"#2a3f5f\",\"arrowhead\":0,\"arrowwidth\":1},\"autotypenumbers\":\"strict\",\"coloraxis\":{\"colorbar\":{\"outlinewidth\":0,\"ticks\":\"\"}},\"colorscale\":{\"diverging\":[[0,\"#8e0152\"],[0.1,\"#c51b7d\"],[0.2,\"#de77ae\"],[0.3,\"#f1b6da\"],[0.4,\"#fde0ef\"],[0.5,\"#f7f7f7\"],[0.6,\"#e6f5d0\"],[0.7,\"#b8e186\"],[0.8,\"#7fbc41\"],[0.9,\"#4d9221\"],[1,\"#276419\"]],\"sequential\":[[0.0,\"#0d0887\"],[0.1111111111111111,\"#46039f\"],[0.2222222222222222,\"#7201a8\"],[0.3333333333333333,\"#9c179e\"],[0.4444444444444444,\"#bd3786\"],[0.5555555555555556,\"#d8576b\"],[0.6666666666666666,\"#ed7953\"],[0.7777777777777778,\"#fb9f3a\"],[0.8888888888888888,\"#fdca26\"],[1.0,\"#f0f921\"]],\"sequentialminus\":[[0.0,\"#0d0887\"],[0.1111111111111111,\"#46039f\"],[0.2222222222222222,\"#7201a8\"],[0.3333333333333333,\"#9c179e\"],[0.4444444444444444,\"#bd3786\"],[0.5555555555555556,\"#d8576b\"],[0.6666666666666666,\"#ed7953\"],[0.7777777777777778,\"#fb9f3a\"],[0.8888888888888888,\"#fdca26\"],[1.0,\"#f0f921\"]]},\"colorway\":[\"#636efa\",\"#EF553B\",\"#00cc96\",\"#ab63fa\",\"#FFA15A\",\"#19d3f3\",\"#FF6692\",\"#B6E880\",\"#FF97FF\",\"#FECB52\"],\"font\":{\"color\":\"#2a3f5f\"},\"geo\":{\"bgcolor\":\"white\",\"lakecolor\":\"white\",\"landcolor\":\"#E5ECF6\",\"showlakes\":true,\"showland\":true,\"subunitcolor\":\"white\"},\"hoverlabel\":{\"align\":\"left\"},\"hovermode\":\"closest\",\"mapbox\":{\"style\":\"light\"},\"paper_bgcolor\":\"white\",\"plot_bgcolor\":\"#E5ECF6\",\"polar\":{\"angularaxis\":{\"gridcolor\":\"white\",\"linecolor\":\"white\",\"ticks\":\"\"},\"bgcolor\":\"#E5ECF6\",\"radialaxis\":{\"gridcolor\":\"white\",\"linecolor\":\"white\",\"ticks\":\"\"}},\"scene\":{\"xaxis\":{\"backgroundcolor\":\"#E5ECF6\",\"gridcolor\":\"white\",\"gridwidth\":2,\"linecolor\":\"white\",\"showbackground\":true,\"ticks\":\"\",\"zerolinecolor\":\"white\"},\"yaxis\":{\"backgroundcolor\":\"#E5ECF6\",\"gridcolor\":\"white\",\"gridwidth\":2,\"linecolor\":\"white\",\"showbackground\":true,\"ticks\":\"\",\"zerolinecolor\":\"white\"},\"zaxis\":{\"backgroundcolor\":\"#E5ECF6\",\"gridcolor\":\"white\",\"gridwidth\":2,\"linecolor\":\"white\",\"showbackground\":true,\"ticks\":\"\",\"zerolinecolor\":\"white\"}},\"shapedefaults\":{\"line\":{\"color\":\"#2a3f5f\"}},\"ternary\":{\"aaxis\":{\"gridcolor\":\"white\",\"linecolor\":\"white\",\"ticks\":\"\"},\"baxis\":{\"gridcolor\":\"white\",\"linecolor\":\"white\",\"ticks\":\"\"},\"bgcolor\":\"#E5ECF6\",\"caxis\":{\"gridcolor\":\"white\",\"linecolor\":\"white\",\"ticks\":\"\"}},\"title\":{\"x\":0.05},\"xaxis\":{\"automargin\":true,\"gridcolor\":\"white\",\"linecolor\":\"white\",\"ticks\":\"\",\"title\":{\"standoff\":15},\"zerolinecolor\":\"white\",\"zerolinewidth\":2},\"yaxis\":{\"automargin\":true,\"gridcolor\":\"white\",\"linecolor\":\"white\",\"ticks\":\"\",\"title\":{\"standoff\":15},\"zerolinecolor\":\"white\",\"zerolinewidth\":2}}},\"annotations\":[{\"align\":\"center\",\"font\":{\"color\":\"black\",\"family\":\"Courier New, monospace\",\"size\":16},\"showarrow\":false,\"text\":\"Student Name<br>\\nCourse Name<br>\\nSchool Name<br>\\nSemester Year\",\"x\":0,\"y\":0}],\"font\":{\"family\":\"Courier New, monospace\",\"size\":12,\"color\":\"RebeccaPurple\"},\"title\":{\"text\":\"Plots\"},\"xaxis\":{\"title\":{\"text\":\"X\"},\"visible\":true},\"yaxis\":{\"title\":{\"text\":\"Y\"},\"visible\":true},\"legend\":{\"title\":{\"text\":\"List\"}},\"showlegend\":true},                        {\"responsive\": true}                    ).then(function(){\n",
              "                            \n",
              "var gd = document.getElementById('e957078a-3603-4987-bcfa-0a88929694cc');\n",
              "var x = new MutationObserver(function (mutations, observer) {{\n",
              "        var display = window.getComputedStyle(gd).display;\n",
              "        if (!display || display === 'none') {{\n",
              "            console.log([gd, 'removed!']);\n",
              "            Plotly.purge(gd);\n",
              "            observer.disconnect();\n",
              "        }}\n",
              "}});\n",
              "\n",
              "// Listen for the removal of the full notebook cells\n",
              "var notebookContainer = gd.closest('#notebook-container');\n",
              "if (notebookContainer) {{\n",
              "    x.observe(notebookContainer, {childList: true});\n",
              "}}\n",
              "\n",
              "// Listen for the clearing of the current output cell\n",
              "var outputEl = gd.closest('.output');\n",
              "if (outputEl) {{\n",
              "    x.observe(outputEl, {childList: true});\n",
              "}}\n",
              "\n",
              "                        })                };                            </script>        </div>\n",
              "</body>\n",
              "</html>"
            ]
          },
          "metadata": {}
        }
      ]
    },
    {
      "cell_type": "markdown",
      "source": [
        "# Advanced drawing examples"
      ],
      "metadata": {
        "id": "KmJFV-oIJIQW"
      }
    },
    {
      "cell_type": "markdown",
      "source": [
        "## Lines from a given point\n",
        "Suppose that the ending point is at the origin.\n",
        "\n",
        "We can just move the x1 using a for loop to get all the lines to connect to the origin."
      ],
      "metadata": {
        "id": "d0XCXsYRF33N"
      }
    },
    {
      "cell_type": "code",
      "source": [
        "# Create the object\n",
        "NiceGr = cuteGraph() \n",
        "\n",
        "# change x1\n",
        "for x1 in range(-5, +5+1):\n",
        "  NiceGr.lineseg(x1=x1, y1=-5, x2=0, y2=0, color=\"green\")\n",
        "\n",
        "# Show the graph\n",
        "NiceGr.plotAll() \n"
      ],
      "metadata": {
        "colab": {
          "base_uri": "https://localhost:8080/",
          "height": 542
        },
        "id": "bOGCoAxA_vEf",
        "outputId": "c24239dc-2c0d-40a8-cb26-e8e759602a48"
      },
      "execution_count": null,
      "outputs": [
        {
          "output_type": "display_data",
          "data": {
            "text/html": [
              "<html>\n",
              "<head><meta charset=\"utf-8\" /></head>\n",
              "<body>\n",
              "    <div>            <script src=\"https://cdnjs.cloudflare.com/ajax/libs/mathjax/2.7.5/MathJax.js?config=TeX-AMS-MML_SVG\"></script><script type=\"text/javascript\">if (window.MathJax) {MathJax.Hub.Config({SVG: {font: \"STIX-Web\"}});}</script>                <script type=\"text/javascript\">window.PlotlyConfig = {MathJaxConfig: 'local'};</script>\n",
              "        <script src=\"https://cdn.plot.ly/plotly-2.8.3.min.js\"></script>                <div id=\"2cc2367c-980b-4867-b14c-a8bdb1e73b49\" class=\"plotly-graph-div\" style=\"height:525px; width:100%;\"></div>            <script type=\"text/javascript\">                                    window.PLOTLYENV=window.PLOTLYENV || {};                                    if (document.getElementById(\"2cc2367c-980b-4867-b14c-a8bdb1e73b49\")) {                    Plotly.newPlot(                        \"2cc2367c-980b-4867-b14c-a8bdb1e73b49\",                        [{\"line\":{\"color\":\"green\",\"width\":2},\"mode\":\"lines+markers\",\"name\":\"Line segment (-5, -5) to (0, 0)\",\"x\":[-5,0],\"y\":[-5,0],\"type\":\"scatter\"},{\"line\":{\"color\":\"green\",\"width\":2},\"mode\":\"lines+markers\",\"name\":\"Line segment (-4, -5) to (0, 0)\",\"x\":[-4,0],\"y\":[-5,0],\"type\":\"scatter\"},{\"line\":{\"color\":\"green\",\"width\":2},\"mode\":\"lines+markers\",\"name\":\"Line segment (-3, -5) to (0, 0)\",\"x\":[-3,0],\"y\":[-5,0],\"type\":\"scatter\"},{\"line\":{\"color\":\"green\",\"width\":2},\"mode\":\"lines+markers\",\"name\":\"Line segment (-2, -5) to (0, 0)\",\"x\":[-2,0],\"y\":[-5,0],\"type\":\"scatter\"},{\"line\":{\"color\":\"green\",\"width\":2},\"mode\":\"lines+markers\",\"name\":\"Line segment (-1, -5) to (0, 0)\",\"x\":[-1,0],\"y\":[-5,0],\"type\":\"scatter\"},{\"line\":{\"color\":\"green\",\"width\":2},\"mode\":\"lines+markers\",\"name\":\"Line segment (0, -5) to (0, 0)\",\"x\":[0,0],\"y\":[-5,0],\"type\":\"scatter\"},{\"line\":{\"color\":\"green\",\"width\":2},\"mode\":\"lines+markers\",\"name\":\"Line segment (1, -5) to (0, 0)\",\"x\":[1,0],\"y\":[-5,0],\"type\":\"scatter\"},{\"line\":{\"color\":\"green\",\"width\":2},\"mode\":\"lines+markers\",\"name\":\"Line segment (2, -5) to (0, 0)\",\"x\":[2,0],\"y\":[-5,0],\"type\":\"scatter\"},{\"line\":{\"color\":\"green\",\"width\":2},\"mode\":\"lines+markers\",\"name\":\"Line segment (3, -5) to (0, 0)\",\"x\":[3,0],\"y\":[-5,0],\"type\":\"scatter\"},{\"line\":{\"color\":\"green\",\"width\":2},\"mode\":\"lines+markers\",\"name\":\"Line segment (4, -5) to (0, 0)\",\"x\":[4,0],\"y\":[-5,0],\"type\":\"scatter\"},{\"line\":{\"color\":\"green\",\"width\":2},\"mode\":\"lines+markers\",\"name\":\"Line segment (5, -5) to (0, 0)\",\"x\":[5,0],\"y\":[-5,0],\"type\":\"scatter\"}],                        {\"template\":{\"data\":{\"bar\":[{\"error_x\":{\"color\":\"#2a3f5f\"},\"error_y\":{\"color\":\"#2a3f5f\"},\"marker\":{\"line\":{\"color\":\"#E5ECF6\",\"width\":0.5},\"pattern\":{\"fillmode\":\"overlay\",\"size\":10,\"solidity\":0.2}},\"type\":\"bar\"}],\"barpolar\":[{\"marker\":{\"line\":{\"color\":\"#E5ECF6\",\"width\":0.5},\"pattern\":{\"fillmode\":\"overlay\",\"size\":10,\"solidity\":0.2}},\"type\":\"barpolar\"}],\"carpet\":[{\"aaxis\":{\"endlinecolor\":\"#2a3f5f\",\"gridcolor\":\"white\",\"linecolor\":\"white\",\"minorgridcolor\":\"white\",\"startlinecolor\":\"#2a3f5f\"},\"baxis\":{\"endlinecolor\":\"#2a3f5f\",\"gridcolor\":\"white\",\"linecolor\":\"white\",\"minorgridcolor\":\"white\",\"startlinecolor\":\"#2a3f5f\"},\"type\":\"carpet\"}],\"choropleth\":[{\"colorbar\":{\"outlinewidth\":0,\"ticks\":\"\"},\"type\":\"choropleth\"}],\"contour\":[{\"colorbar\":{\"outlinewidth\":0,\"ticks\":\"\"},\"colorscale\":[[0.0,\"#0d0887\"],[0.1111111111111111,\"#46039f\"],[0.2222222222222222,\"#7201a8\"],[0.3333333333333333,\"#9c179e\"],[0.4444444444444444,\"#bd3786\"],[0.5555555555555556,\"#d8576b\"],[0.6666666666666666,\"#ed7953\"],[0.7777777777777778,\"#fb9f3a\"],[0.8888888888888888,\"#fdca26\"],[1.0,\"#f0f921\"]],\"type\":\"contour\"}],\"contourcarpet\":[{\"colorbar\":{\"outlinewidth\":0,\"ticks\":\"\"},\"type\":\"contourcarpet\"}],\"heatmap\":[{\"colorbar\":{\"outlinewidth\":0,\"ticks\":\"\"},\"colorscale\":[[0.0,\"#0d0887\"],[0.1111111111111111,\"#46039f\"],[0.2222222222222222,\"#7201a8\"],[0.3333333333333333,\"#9c179e\"],[0.4444444444444444,\"#bd3786\"],[0.5555555555555556,\"#d8576b\"],[0.6666666666666666,\"#ed7953\"],[0.7777777777777778,\"#fb9f3a\"],[0.8888888888888888,\"#fdca26\"],[1.0,\"#f0f921\"]],\"type\":\"heatmap\"}],\"heatmapgl\":[{\"colorbar\":{\"outlinewidth\":0,\"ticks\":\"\"},\"colorscale\":[[0.0,\"#0d0887\"],[0.1111111111111111,\"#46039f\"],[0.2222222222222222,\"#7201a8\"],[0.3333333333333333,\"#9c179e\"],[0.4444444444444444,\"#bd3786\"],[0.5555555555555556,\"#d8576b\"],[0.6666666666666666,\"#ed7953\"],[0.7777777777777778,\"#fb9f3a\"],[0.8888888888888888,\"#fdca26\"],[1.0,\"#f0f921\"]],\"type\":\"heatmapgl\"}],\"histogram\":[{\"marker\":{\"pattern\":{\"fillmode\":\"overlay\",\"size\":10,\"solidity\":0.2}},\"type\":\"histogram\"}],\"histogram2d\":[{\"colorbar\":{\"outlinewidth\":0,\"ticks\":\"\"},\"colorscale\":[[0.0,\"#0d0887\"],[0.1111111111111111,\"#46039f\"],[0.2222222222222222,\"#7201a8\"],[0.3333333333333333,\"#9c179e\"],[0.4444444444444444,\"#bd3786\"],[0.5555555555555556,\"#d8576b\"],[0.6666666666666666,\"#ed7953\"],[0.7777777777777778,\"#fb9f3a\"],[0.8888888888888888,\"#fdca26\"],[1.0,\"#f0f921\"]],\"type\":\"histogram2d\"}],\"histogram2dcontour\":[{\"colorbar\":{\"outlinewidth\":0,\"ticks\":\"\"},\"colorscale\":[[0.0,\"#0d0887\"],[0.1111111111111111,\"#46039f\"],[0.2222222222222222,\"#7201a8\"],[0.3333333333333333,\"#9c179e\"],[0.4444444444444444,\"#bd3786\"],[0.5555555555555556,\"#d8576b\"],[0.6666666666666666,\"#ed7953\"],[0.7777777777777778,\"#fb9f3a\"],[0.8888888888888888,\"#fdca26\"],[1.0,\"#f0f921\"]],\"type\":\"histogram2dcontour\"}],\"mesh3d\":[{\"colorbar\":{\"outlinewidth\":0,\"ticks\":\"\"},\"type\":\"mesh3d\"}],\"parcoords\":[{\"line\":{\"colorbar\":{\"outlinewidth\":0,\"ticks\":\"\"}},\"type\":\"parcoords\"}],\"pie\":[{\"automargin\":true,\"type\":\"pie\"}],\"scatter\":[{\"marker\":{\"colorbar\":{\"outlinewidth\":0,\"ticks\":\"\"}},\"type\":\"scatter\"}],\"scatter3d\":[{\"line\":{\"colorbar\":{\"outlinewidth\":0,\"ticks\":\"\"}},\"marker\":{\"colorbar\":{\"outlinewidth\":0,\"ticks\":\"\"}},\"type\":\"scatter3d\"}],\"scattercarpet\":[{\"marker\":{\"colorbar\":{\"outlinewidth\":0,\"ticks\":\"\"}},\"type\":\"scattercarpet\"}],\"scattergeo\":[{\"marker\":{\"colorbar\":{\"outlinewidth\":0,\"ticks\":\"\"}},\"type\":\"scattergeo\"}],\"scattergl\":[{\"marker\":{\"colorbar\":{\"outlinewidth\":0,\"ticks\":\"\"}},\"type\":\"scattergl\"}],\"scattermapbox\":[{\"marker\":{\"colorbar\":{\"outlinewidth\":0,\"ticks\":\"\"}},\"type\":\"scattermapbox\"}],\"scatterpolar\":[{\"marker\":{\"colorbar\":{\"outlinewidth\":0,\"ticks\":\"\"}},\"type\":\"scatterpolar\"}],\"scatterpolargl\":[{\"marker\":{\"colorbar\":{\"outlinewidth\":0,\"ticks\":\"\"}},\"type\":\"scatterpolargl\"}],\"scatterternary\":[{\"marker\":{\"colorbar\":{\"outlinewidth\":0,\"ticks\":\"\"}},\"type\":\"scatterternary\"}],\"surface\":[{\"colorbar\":{\"outlinewidth\":0,\"ticks\":\"\"},\"colorscale\":[[0.0,\"#0d0887\"],[0.1111111111111111,\"#46039f\"],[0.2222222222222222,\"#7201a8\"],[0.3333333333333333,\"#9c179e\"],[0.4444444444444444,\"#bd3786\"],[0.5555555555555556,\"#d8576b\"],[0.6666666666666666,\"#ed7953\"],[0.7777777777777778,\"#fb9f3a\"],[0.8888888888888888,\"#fdca26\"],[1.0,\"#f0f921\"]],\"type\":\"surface\"}],\"table\":[{\"cells\":{\"fill\":{\"color\":\"#EBF0F8\"},\"line\":{\"color\":\"white\"}},\"header\":{\"fill\":{\"color\":\"#C8D4E3\"},\"line\":{\"color\":\"white\"}},\"type\":\"table\"}]},\"layout\":{\"annotationdefaults\":{\"arrowcolor\":\"#2a3f5f\",\"arrowhead\":0,\"arrowwidth\":1},\"autotypenumbers\":\"strict\",\"coloraxis\":{\"colorbar\":{\"outlinewidth\":0,\"ticks\":\"\"}},\"colorscale\":{\"diverging\":[[0,\"#8e0152\"],[0.1,\"#c51b7d\"],[0.2,\"#de77ae\"],[0.3,\"#f1b6da\"],[0.4,\"#fde0ef\"],[0.5,\"#f7f7f7\"],[0.6,\"#e6f5d0\"],[0.7,\"#b8e186\"],[0.8,\"#7fbc41\"],[0.9,\"#4d9221\"],[1,\"#276419\"]],\"sequential\":[[0.0,\"#0d0887\"],[0.1111111111111111,\"#46039f\"],[0.2222222222222222,\"#7201a8\"],[0.3333333333333333,\"#9c179e\"],[0.4444444444444444,\"#bd3786\"],[0.5555555555555556,\"#d8576b\"],[0.6666666666666666,\"#ed7953\"],[0.7777777777777778,\"#fb9f3a\"],[0.8888888888888888,\"#fdca26\"],[1.0,\"#f0f921\"]],\"sequentialminus\":[[0.0,\"#0d0887\"],[0.1111111111111111,\"#46039f\"],[0.2222222222222222,\"#7201a8\"],[0.3333333333333333,\"#9c179e\"],[0.4444444444444444,\"#bd3786\"],[0.5555555555555556,\"#d8576b\"],[0.6666666666666666,\"#ed7953\"],[0.7777777777777778,\"#fb9f3a\"],[0.8888888888888888,\"#fdca26\"],[1.0,\"#f0f921\"]]},\"colorway\":[\"#636efa\",\"#EF553B\",\"#00cc96\",\"#ab63fa\",\"#FFA15A\",\"#19d3f3\",\"#FF6692\",\"#B6E880\",\"#FF97FF\",\"#FECB52\"],\"font\":{\"color\":\"#2a3f5f\"},\"geo\":{\"bgcolor\":\"white\",\"lakecolor\":\"white\",\"landcolor\":\"#E5ECF6\",\"showlakes\":true,\"showland\":true,\"subunitcolor\":\"white\"},\"hoverlabel\":{\"align\":\"left\"},\"hovermode\":\"closest\",\"mapbox\":{\"style\":\"light\"},\"paper_bgcolor\":\"white\",\"plot_bgcolor\":\"#E5ECF6\",\"polar\":{\"angularaxis\":{\"gridcolor\":\"white\",\"linecolor\":\"white\",\"ticks\":\"\"},\"bgcolor\":\"#E5ECF6\",\"radialaxis\":{\"gridcolor\":\"white\",\"linecolor\":\"white\",\"ticks\":\"\"}},\"scene\":{\"xaxis\":{\"backgroundcolor\":\"#E5ECF6\",\"gridcolor\":\"white\",\"gridwidth\":2,\"linecolor\":\"white\",\"showbackground\":true,\"ticks\":\"\",\"zerolinecolor\":\"white\"},\"yaxis\":{\"backgroundcolor\":\"#E5ECF6\",\"gridcolor\":\"white\",\"gridwidth\":2,\"linecolor\":\"white\",\"showbackground\":true,\"ticks\":\"\",\"zerolinecolor\":\"white\"},\"zaxis\":{\"backgroundcolor\":\"#E5ECF6\",\"gridcolor\":\"white\",\"gridwidth\":2,\"linecolor\":\"white\",\"showbackground\":true,\"ticks\":\"\",\"zerolinecolor\":\"white\"}},\"shapedefaults\":{\"line\":{\"color\":\"#2a3f5f\"}},\"ternary\":{\"aaxis\":{\"gridcolor\":\"white\",\"linecolor\":\"white\",\"ticks\":\"\"},\"baxis\":{\"gridcolor\":\"white\",\"linecolor\":\"white\",\"ticks\":\"\"},\"bgcolor\":\"#E5ECF6\",\"caxis\":{\"gridcolor\":\"white\",\"linecolor\":\"white\",\"ticks\":\"\"}},\"title\":{\"x\":0.05},\"xaxis\":{\"automargin\":true,\"gridcolor\":\"white\",\"linecolor\":\"white\",\"ticks\":\"\",\"title\":{\"standoff\":15},\"zerolinecolor\":\"white\",\"zerolinewidth\":2},\"yaxis\":{\"automargin\":true,\"gridcolor\":\"white\",\"linecolor\":\"white\",\"ticks\":\"\",\"title\":{\"standoff\":15},\"zerolinecolor\":\"white\",\"zerolinewidth\":2}}},\"font\":{\"family\":\"Courier New, monospace\",\"size\":12,\"color\":\"RebeccaPurple\"},\"title\":{\"text\":\"Plots\"},\"xaxis\":{\"title\":{\"text\":\"X\"},\"visible\":true},\"yaxis\":{\"title\":{\"text\":\"Y\"},\"visible\":true},\"legend\":{\"title\":{\"text\":\"List\"}},\"showlegend\":true},                        {\"responsive\": true}                    ).then(function(){\n",
              "                            \n",
              "var gd = document.getElementById('2cc2367c-980b-4867-b14c-a8bdb1e73b49');\n",
              "var x = new MutationObserver(function (mutations, observer) {{\n",
              "        var display = window.getComputedStyle(gd).display;\n",
              "        if (!display || display === 'none') {{\n",
              "            console.log([gd, 'removed!']);\n",
              "            Plotly.purge(gd);\n",
              "            observer.disconnect();\n",
              "        }}\n",
              "}});\n",
              "\n",
              "// Listen for the removal of the full notebook cells\n",
              "var notebookContainer = gd.closest('#notebook-container');\n",
              "if (notebookContainer) {{\n",
              "    x.observe(notebookContainer, {childList: true});\n",
              "}}\n",
              "\n",
              "// Listen for the clearing of the current output cell\n",
              "var outputEl = gd.closest('.output');\n",
              "if (outputEl) {{\n",
              "    x.observe(outputEl, {childList: true});\n",
              "}}\n",
              "\n",
              "                        })                };                            </script>        </div>\n",
              "</body>\n",
              "</html>"
            ]
          },
          "metadata": {}
        }
      ]
    },
    {
      "cell_type": "markdown",
      "source": [
        "## Parallel lines\n",
        "\n",
        "To generate parallel lines, we need to plot lines that have the same slope.\n",
        "\n",
        "A simple way to do is to add the same <tt>dx</tt> and <tt>dy</tt> to every point.\n",
        "\n",
        "The following example generates parallel line by moving x1:\n",
        "```\n",
        "# Parallel lines by varying x1\n",
        "y1 = 0\n",
        "dx = 1\n",
        "dy = 1\n",
        "for x1 in range(-5, +5+1):\n",
        "  x2 = x1 + dx\n",
        "  y2 = y1 + dy\n",
        "  NiceGr.lineseg(x1=x1, y1=y1, x2=x2, y2=y2, color=\"green\")\n",
        "```\n",
        "## Assignment\n",
        "\n",
        "Modify the code to draw parallel lines by varying x1.\n"
      ],
      "metadata": {
        "id": "9A36O_qDjVOt"
      }
    },
    {
      "cell_type": "code",
      "source": [
        "# Create the object\n",
        "NiceGr = cuteGraph() \n",
        "\n",
        "\n",
        "# Parallel lines by varying x1\n",
        "y1 = 4\n",
        "dx = 44\n",
        "dy = 44\n",
        "for x1 in range(-5, +5+1):\n",
        "  x2 = x1 + dx\n",
        "  y2 = y1 + dy\n",
        "  NiceGr.lineseg(x1=x1, y1=y1, x2=x2, y2=y2, color=\"green\")\n",
        "\n",
        "\n",
        "# Show the graph\n",
        "NiceGr.plotAll() \n"
      ],
      "metadata": {
        "colab": {
          "base_uri": "https://localhost:8080/",
          "height": 542
        },
        "id": "-fgPYsQdklDO",
        "outputId": "0104a2c6-1c04-4aa4-d2ef-0ab13679a7e6"
      },
      "execution_count": null,
      "outputs": [
        {
          "output_type": "display_data",
          "data": {
            "text/html": [
              "<html>\n",
              "<head><meta charset=\"utf-8\" /></head>\n",
              "<body>\n",
              "    <div>            <script src=\"https://cdnjs.cloudflare.com/ajax/libs/mathjax/2.7.5/MathJax.js?config=TeX-AMS-MML_SVG\"></script><script type=\"text/javascript\">if (window.MathJax) {MathJax.Hub.Config({SVG: {font: \"STIX-Web\"}});}</script>                <script type=\"text/javascript\">window.PlotlyConfig = {MathJaxConfig: 'local'};</script>\n",
              "        <script src=\"https://cdn.plot.ly/plotly-2.8.3.min.js\"></script>                <div id=\"fb731368-5fcb-4e70-9aee-6d1fac81119e\" class=\"plotly-graph-div\" style=\"height:525px; width:100%;\"></div>            <script type=\"text/javascript\">                                    window.PLOTLYENV=window.PLOTLYENV || {};                                    if (document.getElementById(\"fb731368-5fcb-4e70-9aee-6d1fac81119e\")) {                    Plotly.newPlot(                        \"fb731368-5fcb-4e70-9aee-6d1fac81119e\",                        [{\"line\":{\"color\":\"green\",\"width\":2},\"mode\":\"lines+markers\",\"name\":\"Line segment (-5, 4) to (39, 48)\",\"x\":[-5,39],\"y\":[4,48],\"type\":\"scatter\"},{\"line\":{\"color\":\"green\",\"width\":2},\"mode\":\"lines+markers\",\"name\":\"Line segment (-4, 4) to (40, 48)\",\"x\":[-4,40],\"y\":[4,48],\"type\":\"scatter\"},{\"line\":{\"color\":\"green\",\"width\":2},\"mode\":\"lines+markers\",\"name\":\"Line segment (-3, 4) to (41, 48)\",\"x\":[-3,41],\"y\":[4,48],\"type\":\"scatter\"},{\"line\":{\"color\":\"green\",\"width\":2},\"mode\":\"lines+markers\",\"name\":\"Line segment (-2, 4) to (42, 48)\",\"x\":[-2,42],\"y\":[4,48],\"type\":\"scatter\"},{\"line\":{\"color\":\"green\",\"width\":2},\"mode\":\"lines+markers\",\"name\":\"Line segment (-1, 4) to (43, 48)\",\"x\":[-1,43],\"y\":[4,48],\"type\":\"scatter\"},{\"line\":{\"color\":\"green\",\"width\":2},\"mode\":\"lines+markers\",\"name\":\"Line segment (0, 4) to (44, 48)\",\"x\":[0,44],\"y\":[4,48],\"type\":\"scatter\"},{\"line\":{\"color\":\"green\",\"width\":2},\"mode\":\"lines+markers\",\"name\":\"Line segment (1, 4) to (45, 48)\",\"x\":[1,45],\"y\":[4,48],\"type\":\"scatter\"},{\"line\":{\"color\":\"green\",\"width\":2},\"mode\":\"lines+markers\",\"name\":\"Line segment (2, 4) to (46, 48)\",\"x\":[2,46],\"y\":[4,48],\"type\":\"scatter\"},{\"line\":{\"color\":\"green\",\"width\":2},\"mode\":\"lines+markers\",\"name\":\"Line segment (3, 4) to (47, 48)\",\"x\":[3,47],\"y\":[4,48],\"type\":\"scatter\"},{\"line\":{\"color\":\"green\",\"width\":2},\"mode\":\"lines+markers\",\"name\":\"Line segment (4, 4) to (48, 48)\",\"x\":[4,48],\"y\":[4,48],\"type\":\"scatter\"},{\"line\":{\"color\":\"green\",\"width\":2},\"mode\":\"lines+markers\",\"name\":\"Line segment (5, 4) to (49, 48)\",\"x\":[5,49],\"y\":[4,48],\"type\":\"scatter\"}],                        {\"template\":{\"data\":{\"bar\":[{\"error_x\":{\"color\":\"#2a3f5f\"},\"error_y\":{\"color\":\"#2a3f5f\"},\"marker\":{\"line\":{\"color\":\"#E5ECF6\",\"width\":0.5},\"pattern\":{\"fillmode\":\"overlay\",\"size\":10,\"solidity\":0.2}},\"type\":\"bar\"}],\"barpolar\":[{\"marker\":{\"line\":{\"color\":\"#E5ECF6\",\"width\":0.5},\"pattern\":{\"fillmode\":\"overlay\",\"size\":10,\"solidity\":0.2}},\"type\":\"barpolar\"}],\"carpet\":[{\"aaxis\":{\"endlinecolor\":\"#2a3f5f\",\"gridcolor\":\"white\",\"linecolor\":\"white\",\"minorgridcolor\":\"white\",\"startlinecolor\":\"#2a3f5f\"},\"baxis\":{\"endlinecolor\":\"#2a3f5f\",\"gridcolor\":\"white\",\"linecolor\":\"white\",\"minorgridcolor\":\"white\",\"startlinecolor\":\"#2a3f5f\"},\"type\":\"carpet\"}],\"choropleth\":[{\"colorbar\":{\"outlinewidth\":0,\"ticks\":\"\"},\"type\":\"choropleth\"}],\"contour\":[{\"colorbar\":{\"outlinewidth\":0,\"ticks\":\"\"},\"colorscale\":[[0.0,\"#0d0887\"],[0.1111111111111111,\"#46039f\"],[0.2222222222222222,\"#7201a8\"],[0.3333333333333333,\"#9c179e\"],[0.4444444444444444,\"#bd3786\"],[0.5555555555555556,\"#d8576b\"],[0.6666666666666666,\"#ed7953\"],[0.7777777777777778,\"#fb9f3a\"],[0.8888888888888888,\"#fdca26\"],[1.0,\"#f0f921\"]],\"type\":\"contour\"}],\"contourcarpet\":[{\"colorbar\":{\"outlinewidth\":0,\"ticks\":\"\"},\"type\":\"contourcarpet\"}],\"heatmap\":[{\"colorbar\":{\"outlinewidth\":0,\"ticks\":\"\"},\"colorscale\":[[0.0,\"#0d0887\"],[0.1111111111111111,\"#46039f\"],[0.2222222222222222,\"#7201a8\"],[0.3333333333333333,\"#9c179e\"],[0.4444444444444444,\"#bd3786\"],[0.5555555555555556,\"#d8576b\"],[0.6666666666666666,\"#ed7953\"],[0.7777777777777778,\"#fb9f3a\"],[0.8888888888888888,\"#fdca26\"],[1.0,\"#f0f921\"]],\"type\":\"heatmap\"}],\"heatmapgl\":[{\"colorbar\":{\"outlinewidth\":0,\"ticks\":\"\"},\"colorscale\":[[0.0,\"#0d0887\"],[0.1111111111111111,\"#46039f\"],[0.2222222222222222,\"#7201a8\"],[0.3333333333333333,\"#9c179e\"],[0.4444444444444444,\"#bd3786\"],[0.5555555555555556,\"#d8576b\"],[0.6666666666666666,\"#ed7953\"],[0.7777777777777778,\"#fb9f3a\"],[0.8888888888888888,\"#fdca26\"],[1.0,\"#f0f921\"]],\"type\":\"heatmapgl\"}],\"histogram\":[{\"marker\":{\"pattern\":{\"fillmode\":\"overlay\",\"size\":10,\"solidity\":0.2}},\"type\":\"histogram\"}],\"histogram2d\":[{\"colorbar\":{\"outlinewidth\":0,\"ticks\":\"\"},\"colorscale\":[[0.0,\"#0d0887\"],[0.1111111111111111,\"#46039f\"],[0.2222222222222222,\"#7201a8\"],[0.3333333333333333,\"#9c179e\"],[0.4444444444444444,\"#bd3786\"],[0.5555555555555556,\"#d8576b\"],[0.6666666666666666,\"#ed7953\"],[0.7777777777777778,\"#fb9f3a\"],[0.8888888888888888,\"#fdca26\"],[1.0,\"#f0f921\"]],\"type\":\"histogram2d\"}],\"histogram2dcontour\":[{\"colorbar\":{\"outlinewidth\":0,\"ticks\":\"\"},\"colorscale\":[[0.0,\"#0d0887\"],[0.1111111111111111,\"#46039f\"],[0.2222222222222222,\"#7201a8\"],[0.3333333333333333,\"#9c179e\"],[0.4444444444444444,\"#bd3786\"],[0.5555555555555556,\"#d8576b\"],[0.6666666666666666,\"#ed7953\"],[0.7777777777777778,\"#fb9f3a\"],[0.8888888888888888,\"#fdca26\"],[1.0,\"#f0f921\"]],\"type\":\"histogram2dcontour\"}],\"mesh3d\":[{\"colorbar\":{\"outlinewidth\":0,\"ticks\":\"\"},\"type\":\"mesh3d\"}],\"parcoords\":[{\"line\":{\"colorbar\":{\"outlinewidth\":0,\"ticks\":\"\"}},\"type\":\"parcoords\"}],\"pie\":[{\"automargin\":true,\"type\":\"pie\"}],\"scatter\":[{\"marker\":{\"colorbar\":{\"outlinewidth\":0,\"ticks\":\"\"}},\"type\":\"scatter\"}],\"scatter3d\":[{\"line\":{\"colorbar\":{\"outlinewidth\":0,\"ticks\":\"\"}},\"marker\":{\"colorbar\":{\"outlinewidth\":0,\"ticks\":\"\"}},\"type\":\"scatter3d\"}],\"scattercarpet\":[{\"marker\":{\"colorbar\":{\"outlinewidth\":0,\"ticks\":\"\"}},\"type\":\"scattercarpet\"}],\"scattergeo\":[{\"marker\":{\"colorbar\":{\"outlinewidth\":0,\"ticks\":\"\"}},\"type\":\"scattergeo\"}],\"scattergl\":[{\"marker\":{\"colorbar\":{\"outlinewidth\":0,\"ticks\":\"\"}},\"type\":\"scattergl\"}],\"scattermapbox\":[{\"marker\":{\"colorbar\":{\"outlinewidth\":0,\"ticks\":\"\"}},\"type\":\"scattermapbox\"}],\"scatterpolar\":[{\"marker\":{\"colorbar\":{\"outlinewidth\":0,\"ticks\":\"\"}},\"type\":\"scatterpolar\"}],\"scatterpolargl\":[{\"marker\":{\"colorbar\":{\"outlinewidth\":0,\"ticks\":\"\"}},\"type\":\"scatterpolargl\"}],\"scatterternary\":[{\"marker\":{\"colorbar\":{\"outlinewidth\":0,\"ticks\":\"\"}},\"type\":\"scatterternary\"}],\"surface\":[{\"colorbar\":{\"outlinewidth\":0,\"ticks\":\"\"},\"colorscale\":[[0.0,\"#0d0887\"],[0.1111111111111111,\"#46039f\"],[0.2222222222222222,\"#7201a8\"],[0.3333333333333333,\"#9c179e\"],[0.4444444444444444,\"#bd3786\"],[0.5555555555555556,\"#d8576b\"],[0.6666666666666666,\"#ed7953\"],[0.7777777777777778,\"#fb9f3a\"],[0.8888888888888888,\"#fdca26\"],[1.0,\"#f0f921\"]],\"type\":\"surface\"}],\"table\":[{\"cells\":{\"fill\":{\"color\":\"#EBF0F8\"},\"line\":{\"color\":\"white\"}},\"header\":{\"fill\":{\"color\":\"#C8D4E3\"},\"line\":{\"color\":\"white\"}},\"type\":\"table\"}]},\"layout\":{\"annotationdefaults\":{\"arrowcolor\":\"#2a3f5f\",\"arrowhead\":0,\"arrowwidth\":1},\"autotypenumbers\":\"strict\",\"coloraxis\":{\"colorbar\":{\"outlinewidth\":0,\"ticks\":\"\"}},\"colorscale\":{\"diverging\":[[0,\"#8e0152\"],[0.1,\"#c51b7d\"],[0.2,\"#de77ae\"],[0.3,\"#f1b6da\"],[0.4,\"#fde0ef\"],[0.5,\"#f7f7f7\"],[0.6,\"#e6f5d0\"],[0.7,\"#b8e186\"],[0.8,\"#7fbc41\"],[0.9,\"#4d9221\"],[1,\"#276419\"]],\"sequential\":[[0.0,\"#0d0887\"],[0.1111111111111111,\"#46039f\"],[0.2222222222222222,\"#7201a8\"],[0.3333333333333333,\"#9c179e\"],[0.4444444444444444,\"#bd3786\"],[0.5555555555555556,\"#d8576b\"],[0.6666666666666666,\"#ed7953\"],[0.7777777777777778,\"#fb9f3a\"],[0.8888888888888888,\"#fdca26\"],[1.0,\"#f0f921\"]],\"sequentialminus\":[[0.0,\"#0d0887\"],[0.1111111111111111,\"#46039f\"],[0.2222222222222222,\"#7201a8\"],[0.3333333333333333,\"#9c179e\"],[0.4444444444444444,\"#bd3786\"],[0.5555555555555556,\"#d8576b\"],[0.6666666666666666,\"#ed7953\"],[0.7777777777777778,\"#fb9f3a\"],[0.8888888888888888,\"#fdca26\"],[1.0,\"#f0f921\"]]},\"colorway\":[\"#636efa\",\"#EF553B\",\"#00cc96\",\"#ab63fa\",\"#FFA15A\",\"#19d3f3\",\"#FF6692\",\"#B6E880\",\"#FF97FF\",\"#FECB52\"],\"font\":{\"color\":\"#2a3f5f\"},\"geo\":{\"bgcolor\":\"white\",\"lakecolor\":\"white\",\"landcolor\":\"#E5ECF6\",\"showlakes\":true,\"showland\":true,\"subunitcolor\":\"white\"},\"hoverlabel\":{\"align\":\"left\"},\"hovermode\":\"closest\",\"mapbox\":{\"style\":\"light\"},\"paper_bgcolor\":\"white\",\"plot_bgcolor\":\"#E5ECF6\",\"polar\":{\"angularaxis\":{\"gridcolor\":\"white\",\"linecolor\":\"white\",\"ticks\":\"\"},\"bgcolor\":\"#E5ECF6\",\"radialaxis\":{\"gridcolor\":\"white\",\"linecolor\":\"white\",\"ticks\":\"\"}},\"scene\":{\"xaxis\":{\"backgroundcolor\":\"#E5ECF6\",\"gridcolor\":\"white\",\"gridwidth\":2,\"linecolor\":\"white\",\"showbackground\":true,\"ticks\":\"\",\"zerolinecolor\":\"white\"},\"yaxis\":{\"backgroundcolor\":\"#E5ECF6\",\"gridcolor\":\"white\",\"gridwidth\":2,\"linecolor\":\"white\",\"showbackground\":true,\"ticks\":\"\",\"zerolinecolor\":\"white\"},\"zaxis\":{\"backgroundcolor\":\"#E5ECF6\",\"gridcolor\":\"white\",\"gridwidth\":2,\"linecolor\":\"white\",\"showbackground\":true,\"ticks\":\"\",\"zerolinecolor\":\"white\"}},\"shapedefaults\":{\"line\":{\"color\":\"#2a3f5f\"}},\"ternary\":{\"aaxis\":{\"gridcolor\":\"white\",\"linecolor\":\"white\",\"ticks\":\"\"},\"baxis\":{\"gridcolor\":\"white\",\"linecolor\":\"white\",\"ticks\":\"\"},\"bgcolor\":\"#E5ECF6\",\"caxis\":{\"gridcolor\":\"white\",\"linecolor\":\"white\",\"ticks\":\"\"}},\"title\":{\"x\":0.05},\"xaxis\":{\"automargin\":true,\"gridcolor\":\"white\",\"linecolor\":\"white\",\"ticks\":\"\",\"title\":{\"standoff\":15},\"zerolinecolor\":\"white\",\"zerolinewidth\":2},\"yaxis\":{\"automargin\":true,\"gridcolor\":\"white\",\"linecolor\":\"white\",\"ticks\":\"\",\"title\":{\"standoff\":15},\"zerolinecolor\":\"white\",\"zerolinewidth\":2}}},\"font\":{\"family\":\"Courier New, monospace\",\"size\":12,\"color\":\"RebeccaPurple\"},\"title\":{\"text\":\"Plots\"},\"xaxis\":{\"title\":{\"text\":\"X\"},\"visible\":true},\"yaxis\":{\"title\":{\"text\":\"Y\"},\"visible\":true},\"legend\":{\"title\":{\"text\":\"List\"}},\"showlegend\":true},                        {\"responsive\": true}                    ).then(function(){\n",
              "                            \n",
              "var gd = document.getElementById('fb731368-5fcb-4e70-9aee-6d1fac81119e');\n",
              "var x = new MutationObserver(function (mutations, observer) {{\n",
              "        var display = window.getComputedStyle(gd).display;\n",
              "        if (!display || display === 'none') {{\n",
              "            console.log([gd, 'removed!']);\n",
              "            Plotly.purge(gd);\n",
              "            observer.disconnect();\n",
              "        }}\n",
              "}});\n",
              "\n",
              "// Listen for the removal of the full notebook cells\n",
              "var notebookContainer = gd.closest('#notebook-container');\n",
              "if (notebookContainer) {{\n",
              "    x.observe(notebookContainer, {childList: true});\n",
              "}}\n",
              "\n",
              "// Listen for the clearing of the current output cell\n",
              "var outputEl = gd.closest('.output');\n",
              "if (outputEl) {{\n",
              "    x.observe(outputEl, {childList: true});\n",
              "}}\n",
              "\n",
              "                        })                };                            </script>        </div>\n",
              "</body>\n",
              "</html>"
            ]
          },
          "metadata": {}
        }
      ]
    },
    {
      "cell_type": "markdown",
      "source": [
        "# Generating Videos\n",
        "\n"
      ],
      "metadata": {
        "id": "qrmo0ITMlBNL"
      }
    },
    {
      "cell_type": "markdown",
      "source": [
        "## Draw a house using line art\n",
        "\n",
        "To generate a house, we put together the previous examples:\n",
        "1. Build the roof using lines intersecting at a point.\n",
        "2. Use rectangles to build the rest\n",
        "\n",
        "## Assignment\n",
        "\n"
      ],
      "metadata": {
        "id": "8zpL7amPLLoT"
      }
    },
    {
      "cell_type": "code",
      "source": [
        "# Create the object\n",
        "NiceGr = cuteGraph() \n",
        "\n",
        "for x1 in range(-5, +4+1):\n",
        "  NiceGr.lineseg(x1=x1, y1=6, x2=1, y2=8, color=\"green\")\n",
        "\n",
        "# Build the house\n",
        "NiceGr.rect(x1=-5, y1=-8, x2=+2, y2=6, color=\"red\")\n",
        "\n",
        "# Show the graph\n",
        "NiceGr.plotAll() \n"
      ],
      "metadata": {
        "colab": {
          "base_uri": "https://localhost:8080/",
          "height": 542
        },
        "id": "mK8JXWzltpXE",
        "outputId": "5424d1ba-9aa4-4939-c42f-367ec6593612"
      },
      "execution_count": null,
      "outputs": [
        {
          "output_type": "display_data",
          "data": {
            "text/html": [
              "<html>\n",
              "<head><meta charset=\"utf-8\" /></head>\n",
              "<body>\n",
              "    <div>            <script src=\"https://cdnjs.cloudflare.com/ajax/libs/mathjax/2.7.5/MathJax.js?config=TeX-AMS-MML_SVG\"></script><script type=\"text/javascript\">if (window.MathJax) {MathJax.Hub.Config({SVG: {font: \"STIX-Web\"}});}</script>                <script type=\"text/javascript\">window.PlotlyConfig = {MathJaxConfig: 'local'};</script>\n",
              "        <script src=\"https://cdn.plot.ly/plotly-2.8.3.min.js\"></script>                <div id=\"02231449-7589-4322-83d8-a63ea066a7c9\" class=\"plotly-graph-div\" style=\"height:525px; width:100%;\"></div>            <script type=\"text/javascript\">                                    window.PLOTLYENV=window.PLOTLYENV || {};                                    if (document.getElementById(\"02231449-7589-4322-83d8-a63ea066a7c9\")) {                    Plotly.newPlot(                        \"02231449-7589-4322-83d8-a63ea066a7c9\",                        [{\"line\":{\"color\":\"red\",\"width\":2},\"mode\":\"lines+markers\",\"name\":\"Rect: line (-5, -8) to (-5, 6)\",\"x\":[-5,-5],\"y\":[-8,6],\"type\":\"scatter\"},{\"line\":{\"color\":\"red\",\"width\":2},\"mode\":\"lines+markers\",\"name\":\"Rect: line (2, -8) to (2, 6)\",\"x\":[2,2],\"y\":[-8,6],\"type\":\"scatter\"},{\"line\":{\"color\":\"red\",\"width\":2},\"mode\":\"lines+markers\",\"name\":\"Rect: line (-5, -8) to (2, -8)\",\"x\":[-5,2],\"y\":[-8,-8],\"type\":\"scatter\"},{\"line\":{\"color\":\"red\",\"width\":2},\"mode\":\"lines+markers\",\"name\":\"Rect: line (-5, 6) to (2, 6)\",\"x\":[-5,2],\"y\":[6,6],\"type\":\"scatter\"},{\"line\":{\"color\":\"green\",\"width\":2},\"mode\":\"lines+markers\",\"name\":\"Line segment (-5, 6) to (1, 8)\",\"x\":[-5,1],\"y\":[6,8],\"type\":\"scatter\"},{\"line\":{\"color\":\"green\",\"width\":2},\"mode\":\"lines+markers\",\"name\":\"Line segment (-4, 6) to (1, 8)\",\"x\":[-4,1],\"y\":[6,8],\"type\":\"scatter\"},{\"line\":{\"color\":\"green\",\"width\":2},\"mode\":\"lines+markers\",\"name\":\"Line segment (-3, 6) to (1, 8)\",\"x\":[-3,1],\"y\":[6,8],\"type\":\"scatter\"},{\"line\":{\"color\":\"green\",\"width\":2},\"mode\":\"lines+markers\",\"name\":\"Line segment (-2, 6) to (1, 8)\",\"x\":[-2,1],\"y\":[6,8],\"type\":\"scatter\"},{\"line\":{\"color\":\"green\",\"width\":2},\"mode\":\"lines+markers\",\"name\":\"Line segment (-1, 6) to (1, 8)\",\"x\":[-1,1],\"y\":[6,8],\"type\":\"scatter\"},{\"line\":{\"color\":\"green\",\"width\":2},\"mode\":\"lines+markers\",\"name\":\"Line segment (0, 6) to (1, 8)\",\"x\":[0,1],\"y\":[6,8],\"type\":\"scatter\"},{\"line\":{\"color\":\"green\",\"width\":2},\"mode\":\"lines+markers\",\"name\":\"Line segment (1, 6) to (1, 8)\",\"x\":[1,1],\"y\":[6,8],\"type\":\"scatter\"},{\"line\":{\"color\":\"green\",\"width\":2},\"mode\":\"lines+markers\",\"name\":\"Line segment (2, 6) to (1, 8)\",\"x\":[2,1],\"y\":[6,8],\"type\":\"scatter\"},{\"line\":{\"color\":\"green\",\"width\":2},\"mode\":\"lines+markers\",\"name\":\"Line segment (3, 6) to (1, 8)\",\"x\":[3,1],\"y\":[6,8],\"type\":\"scatter\"},{\"line\":{\"color\":\"green\",\"width\":2},\"mode\":\"lines+markers\",\"name\":\"Line segment (4, 6) to (1, 8)\",\"x\":[4,1],\"y\":[6,8],\"type\":\"scatter\"}],                        {\"template\":{\"data\":{\"bar\":[{\"error_x\":{\"color\":\"#2a3f5f\"},\"error_y\":{\"color\":\"#2a3f5f\"},\"marker\":{\"line\":{\"color\":\"#E5ECF6\",\"width\":0.5},\"pattern\":{\"fillmode\":\"overlay\",\"size\":10,\"solidity\":0.2}},\"type\":\"bar\"}],\"barpolar\":[{\"marker\":{\"line\":{\"color\":\"#E5ECF6\",\"width\":0.5},\"pattern\":{\"fillmode\":\"overlay\",\"size\":10,\"solidity\":0.2}},\"type\":\"barpolar\"}],\"carpet\":[{\"aaxis\":{\"endlinecolor\":\"#2a3f5f\",\"gridcolor\":\"white\",\"linecolor\":\"white\",\"minorgridcolor\":\"white\",\"startlinecolor\":\"#2a3f5f\"},\"baxis\":{\"endlinecolor\":\"#2a3f5f\",\"gridcolor\":\"white\",\"linecolor\":\"white\",\"minorgridcolor\":\"white\",\"startlinecolor\":\"#2a3f5f\"},\"type\":\"carpet\"}],\"choropleth\":[{\"colorbar\":{\"outlinewidth\":0,\"ticks\":\"\"},\"type\":\"choropleth\"}],\"contour\":[{\"colorbar\":{\"outlinewidth\":0,\"ticks\":\"\"},\"colorscale\":[[0.0,\"#0d0887\"],[0.1111111111111111,\"#46039f\"],[0.2222222222222222,\"#7201a8\"],[0.3333333333333333,\"#9c179e\"],[0.4444444444444444,\"#bd3786\"],[0.5555555555555556,\"#d8576b\"],[0.6666666666666666,\"#ed7953\"],[0.7777777777777778,\"#fb9f3a\"],[0.8888888888888888,\"#fdca26\"],[1.0,\"#f0f921\"]],\"type\":\"contour\"}],\"contourcarpet\":[{\"colorbar\":{\"outlinewidth\":0,\"ticks\":\"\"},\"type\":\"contourcarpet\"}],\"heatmap\":[{\"colorbar\":{\"outlinewidth\":0,\"ticks\":\"\"},\"colorscale\":[[0.0,\"#0d0887\"],[0.1111111111111111,\"#46039f\"],[0.2222222222222222,\"#7201a8\"],[0.3333333333333333,\"#9c179e\"],[0.4444444444444444,\"#bd3786\"],[0.5555555555555556,\"#d8576b\"],[0.6666666666666666,\"#ed7953\"],[0.7777777777777778,\"#fb9f3a\"],[0.8888888888888888,\"#fdca26\"],[1.0,\"#f0f921\"]],\"type\":\"heatmap\"}],\"heatmapgl\":[{\"colorbar\":{\"outlinewidth\":0,\"ticks\":\"\"},\"colorscale\":[[0.0,\"#0d0887\"],[0.1111111111111111,\"#46039f\"],[0.2222222222222222,\"#7201a8\"],[0.3333333333333333,\"#9c179e\"],[0.4444444444444444,\"#bd3786\"],[0.5555555555555556,\"#d8576b\"],[0.6666666666666666,\"#ed7953\"],[0.7777777777777778,\"#fb9f3a\"],[0.8888888888888888,\"#fdca26\"],[1.0,\"#f0f921\"]],\"type\":\"heatmapgl\"}],\"histogram\":[{\"marker\":{\"pattern\":{\"fillmode\":\"overlay\",\"size\":10,\"solidity\":0.2}},\"type\":\"histogram\"}],\"histogram2d\":[{\"colorbar\":{\"outlinewidth\":0,\"ticks\":\"\"},\"colorscale\":[[0.0,\"#0d0887\"],[0.1111111111111111,\"#46039f\"],[0.2222222222222222,\"#7201a8\"],[0.3333333333333333,\"#9c179e\"],[0.4444444444444444,\"#bd3786\"],[0.5555555555555556,\"#d8576b\"],[0.6666666666666666,\"#ed7953\"],[0.7777777777777778,\"#fb9f3a\"],[0.8888888888888888,\"#fdca26\"],[1.0,\"#f0f921\"]],\"type\":\"histogram2d\"}],\"histogram2dcontour\":[{\"colorbar\":{\"outlinewidth\":0,\"ticks\":\"\"},\"colorscale\":[[0.0,\"#0d0887\"],[0.1111111111111111,\"#46039f\"],[0.2222222222222222,\"#7201a8\"],[0.3333333333333333,\"#9c179e\"],[0.4444444444444444,\"#bd3786\"],[0.5555555555555556,\"#d8576b\"],[0.6666666666666666,\"#ed7953\"],[0.7777777777777778,\"#fb9f3a\"],[0.8888888888888888,\"#fdca26\"],[1.0,\"#f0f921\"]],\"type\":\"histogram2dcontour\"}],\"mesh3d\":[{\"colorbar\":{\"outlinewidth\":0,\"ticks\":\"\"},\"type\":\"mesh3d\"}],\"parcoords\":[{\"line\":{\"colorbar\":{\"outlinewidth\":0,\"ticks\":\"\"}},\"type\":\"parcoords\"}],\"pie\":[{\"automargin\":true,\"type\":\"pie\"}],\"scatter\":[{\"marker\":{\"colorbar\":{\"outlinewidth\":0,\"ticks\":\"\"}},\"type\":\"scatter\"}],\"scatter3d\":[{\"line\":{\"colorbar\":{\"outlinewidth\":0,\"ticks\":\"\"}},\"marker\":{\"colorbar\":{\"outlinewidth\":0,\"ticks\":\"\"}},\"type\":\"scatter3d\"}],\"scattercarpet\":[{\"marker\":{\"colorbar\":{\"outlinewidth\":0,\"ticks\":\"\"}},\"type\":\"scattercarpet\"}],\"scattergeo\":[{\"marker\":{\"colorbar\":{\"outlinewidth\":0,\"ticks\":\"\"}},\"type\":\"scattergeo\"}],\"scattergl\":[{\"marker\":{\"colorbar\":{\"outlinewidth\":0,\"ticks\":\"\"}},\"type\":\"scattergl\"}],\"scattermapbox\":[{\"marker\":{\"colorbar\":{\"outlinewidth\":0,\"ticks\":\"\"}},\"type\":\"scattermapbox\"}],\"scatterpolar\":[{\"marker\":{\"colorbar\":{\"outlinewidth\":0,\"ticks\":\"\"}},\"type\":\"scatterpolar\"}],\"scatterpolargl\":[{\"marker\":{\"colorbar\":{\"outlinewidth\":0,\"ticks\":\"\"}},\"type\":\"scatterpolargl\"}],\"scatterternary\":[{\"marker\":{\"colorbar\":{\"outlinewidth\":0,\"ticks\":\"\"}},\"type\":\"scatterternary\"}],\"surface\":[{\"colorbar\":{\"outlinewidth\":0,\"ticks\":\"\"},\"colorscale\":[[0.0,\"#0d0887\"],[0.1111111111111111,\"#46039f\"],[0.2222222222222222,\"#7201a8\"],[0.3333333333333333,\"#9c179e\"],[0.4444444444444444,\"#bd3786\"],[0.5555555555555556,\"#d8576b\"],[0.6666666666666666,\"#ed7953\"],[0.7777777777777778,\"#fb9f3a\"],[0.8888888888888888,\"#fdca26\"],[1.0,\"#f0f921\"]],\"type\":\"surface\"}],\"table\":[{\"cells\":{\"fill\":{\"color\":\"#EBF0F8\"},\"line\":{\"color\":\"white\"}},\"header\":{\"fill\":{\"color\":\"#C8D4E3\"},\"line\":{\"color\":\"white\"}},\"type\":\"table\"}]},\"layout\":{\"annotationdefaults\":{\"arrowcolor\":\"#2a3f5f\",\"arrowhead\":0,\"arrowwidth\":1},\"autotypenumbers\":\"strict\",\"coloraxis\":{\"colorbar\":{\"outlinewidth\":0,\"ticks\":\"\"}},\"colorscale\":{\"diverging\":[[0,\"#8e0152\"],[0.1,\"#c51b7d\"],[0.2,\"#de77ae\"],[0.3,\"#f1b6da\"],[0.4,\"#fde0ef\"],[0.5,\"#f7f7f7\"],[0.6,\"#e6f5d0\"],[0.7,\"#b8e186\"],[0.8,\"#7fbc41\"],[0.9,\"#4d9221\"],[1,\"#276419\"]],\"sequential\":[[0.0,\"#0d0887\"],[0.1111111111111111,\"#46039f\"],[0.2222222222222222,\"#7201a8\"],[0.3333333333333333,\"#9c179e\"],[0.4444444444444444,\"#bd3786\"],[0.5555555555555556,\"#d8576b\"],[0.6666666666666666,\"#ed7953\"],[0.7777777777777778,\"#fb9f3a\"],[0.8888888888888888,\"#fdca26\"],[1.0,\"#f0f921\"]],\"sequentialminus\":[[0.0,\"#0d0887\"],[0.1111111111111111,\"#46039f\"],[0.2222222222222222,\"#7201a8\"],[0.3333333333333333,\"#9c179e\"],[0.4444444444444444,\"#bd3786\"],[0.5555555555555556,\"#d8576b\"],[0.6666666666666666,\"#ed7953\"],[0.7777777777777778,\"#fb9f3a\"],[0.8888888888888888,\"#fdca26\"],[1.0,\"#f0f921\"]]},\"colorway\":[\"#636efa\",\"#EF553B\",\"#00cc96\",\"#ab63fa\",\"#FFA15A\",\"#19d3f3\",\"#FF6692\",\"#B6E880\",\"#FF97FF\",\"#FECB52\"],\"font\":{\"color\":\"#2a3f5f\"},\"geo\":{\"bgcolor\":\"white\",\"lakecolor\":\"white\",\"landcolor\":\"#E5ECF6\",\"showlakes\":true,\"showland\":true,\"subunitcolor\":\"white\"},\"hoverlabel\":{\"align\":\"left\"},\"hovermode\":\"closest\",\"mapbox\":{\"style\":\"light\"},\"paper_bgcolor\":\"white\",\"plot_bgcolor\":\"#E5ECF6\",\"polar\":{\"angularaxis\":{\"gridcolor\":\"white\",\"linecolor\":\"white\",\"ticks\":\"\"},\"bgcolor\":\"#E5ECF6\",\"radialaxis\":{\"gridcolor\":\"white\",\"linecolor\":\"white\",\"ticks\":\"\"}},\"scene\":{\"xaxis\":{\"backgroundcolor\":\"#E5ECF6\",\"gridcolor\":\"white\",\"gridwidth\":2,\"linecolor\":\"white\",\"showbackground\":true,\"ticks\":\"\",\"zerolinecolor\":\"white\"},\"yaxis\":{\"backgroundcolor\":\"#E5ECF6\",\"gridcolor\":\"white\",\"gridwidth\":2,\"linecolor\":\"white\",\"showbackground\":true,\"ticks\":\"\",\"zerolinecolor\":\"white\"},\"zaxis\":{\"backgroundcolor\":\"#E5ECF6\",\"gridcolor\":\"white\",\"gridwidth\":2,\"linecolor\":\"white\",\"showbackground\":true,\"ticks\":\"\",\"zerolinecolor\":\"white\"}},\"shapedefaults\":{\"line\":{\"color\":\"#2a3f5f\"}},\"ternary\":{\"aaxis\":{\"gridcolor\":\"white\",\"linecolor\":\"white\",\"ticks\":\"\"},\"baxis\":{\"gridcolor\":\"white\",\"linecolor\":\"white\",\"ticks\":\"\"},\"bgcolor\":\"#E5ECF6\",\"caxis\":{\"gridcolor\":\"white\",\"linecolor\":\"white\",\"ticks\":\"\"}},\"title\":{\"x\":0.05},\"xaxis\":{\"automargin\":true,\"gridcolor\":\"white\",\"linecolor\":\"white\",\"ticks\":\"\",\"title\":{\"standoff\":15},\"zerolinecolor\":\"white\",\"zerolinewidth\":2},\"yaxis\":{\"automargin\":true,\"gridcolor\":\"white\",\"linecolor\":\"white\",\"ticks\":\"\",\"title\":{\"standoff\":15},\"zerolinecolor\":\"white\",\"zerolinewidth\":2}}},\"font\":{\"family\":\"Courier New, monospace\",\"size\":12,\"color\":\"RebeccaPurple\"},\"title\":{\"text\":\"Plots\"},\"xaxis\":{\"title\":{\"text\":\"X\"},\"visible\":true},\"yaxis\":{\"title\":{\"text\":\"Y\"},\"visible\":true},\"legend\":{\"title\":{\"text\":\"List\"}},\"showlegend\":true},                        {\"responsive\": true}                    ).then(function(){\n",
              "                            \n",
              "var gd = document.getElementById('02231449-7589-4322-83d8-a63ea066a7c9');\n",
              "var x = new MutationObserver(function (mutations, observer) {{\n",
              "        var display = window.getComputedStyle(gd).display;\n",
              "        if (!display || display === 'none') {{\n",
              "            console.log([gd, 'removed!']);\n",
              "            Plotly.purge(gd);\n",
              "            observer.disconnect();\n",
              "        }}\n",
              "}});\n",
              "\n",
              "// Listen for the removal of the full notebook cells\n",
              "var notebookContainer = gd.closest('#notebook-container');\n",
              "if (notebookContainer) {{\n",
              "    x.observe(notebookContainer, {childList: true});\n",
              "}}\n",
              "\n",
              "// Listen for the clearing of the current output cell\n",
              "var outputEl = gd.closest('.output');\n",
              "if (outputEl) {{\n",
              "    x.observe(outputEl, {childList: true});\n",
              "}}\n",
              "\n",
              "                        })                };                            </script>        </div>\n",
              "</body>\n",
              "</html>"
            ]
          },
          "metadata": {}
        }
      ]
    },
    {
      "cell_type": "markdown",
      "source": [
        "## Generate frames using line art\n",
        "\n",
        "To make videos, we first need to setup a grid for all remaining video frames.\n",
        "\n",
        "To do this, right after creating the video, we use the <tt>prepVideo()</tt> function to make all video frames be the same.\n",
        "\n",
        "Here is an example use:\n",
        "```\n",
        "NiceGr = cuteGraph() \n",
        "NiceGr.prepVideo(minX=-5, minY=-5, maxX=10, maxY=10, magFactor=3)\n",
        "```\n",
        "Here, we tell the grid that we have that our house will be plotted approximately within the bounds of <tt>(minX, minY)</tt> to\n",
        "<tt>(maxX, maxY)</tt>. To make extra space for the names and the frontyard of the house, we make this frame three times larger using\n",
        "<tt>magFactor=3</tt>. \n",
        "\n",
        "\n",
        "After we are done plotting each video frame, we save a picture using:\n",
        "```\n",
        "NiceGr.plotAll() \n",
        "NiceGr.saveImage(\"frame2.png\") \n",
        "```\n",
        "We will collect these frames to make a video!\n",
        "\n",
        "## Assignment\n",
        "\n",
        "Feel free to experiment with different designs.\n",
        "\n",
        "What can you draw?\n",
        "\n"
      ],
      "metadata": {
        "id": "q8h1CxzaMt0J"
      }
    },
    {
      "cell_type": "code",
      "source": [
        "# Create the object\n",
        "NiceGr = cuteGraph() \n",
        "NiceGr.prepVideo(minX=-5, minY=-5, maxX=10, maxY=10, magFactor=3)\n",
        "\n",
        "# Teach line above. Keep as one lesson. Fix the updates.\n",
        "\n",
        "NiceGr.rect(x1=-2, y1=2, x2=+4, y2=-5, color=\"red\")\n",
        "\n",
        "# Show the graph\n",
        "NiceGr.plotAll() \n",
        "NiceGr.saveImage(\"frame1.png\") \n",
        "\n",
        "# The door\n",
        "NiceGr.setwidths(linewidth=3, pointwidth=1)\n",
        "NiceGr.rect(x1=0, y1=-3, x2=2, y2=-5, color=\"blue\")\n",
        "\n",
        "# The window\n",
        "NiceGr.setwidths(linewidth=3, pointwidth=1)\n",
        "NiceGr.rect(x1=+1, y1=1, x2=3+1, y2=-1+1, color=\"blue\")\n",
        "\n",
        "NiceGr.plotAll() \n",
        "NiceGr.saveImage(\"frame2.png\") \n",
        "\n",
        "# The roof\n",
        "for x1 in range(-2, +4+1):\n",
        "  NiceGr.lineseg(x1=x1, y1=2, x2=1, y2=6, color=\"yellow\")\n",
        "\n",
        "# Show the graph\n",
        "NiceGr.plotAll() \n",
        "NiceGr.saveImage(\"frame3.png\") \n",
        "\n",
        "# Add a front:\n",
        "y1 = -8\n",
        "dx = 1\n",
        "dy = 1\n",
        "for x1 in range(-5, +10):\n",
        "  x2 = x1 + dx\n",
        "  y2 = y1 + dy\n",
        "  NiceGr.lineseg(x1=x1, y1=y1, x2=x2, y2=y2, color=\"green\")\n",
        "\n",
        "# Show the graph\n",
        "NiceGr.plotAll() \n",
        "NiceGr.saveImage(\"frame4.png\") \n",
        "# Add text\n",
        "text = \"\"\"Misaugela<br>\n",
        "9th grade<br>\n",
        "ECA<br>\n",
        "2023\"\"\"\n",
        "NiceGr.addText(x=15, y=0, text=text, color=\"black\")\n",
        "\n",
        "# Show the graph\n",
        "NiceGr.plotAll() \n",
        "NiceGr.saveImage(\"frame5.png\") "
      ],
      "metadata": {
        "colab": {
          "base_uri": "https://localhost:8080/",
          "height": 1000
        },
        "id": "G63O9h8zuDVz",
        "outputId": "9990fa90-403b-48d0-fd38-961d3e2bf08a"
      },
      "execution_count": null,
      "outputs": [
        {
          "output_type": "display_data",
          "data": {
            "text/html": [
              "<html>\n",
              "<head><meta charset=\"utf-8\" /></head>\n",
              "<body>\n",
              "    <div>            <script src=\"https://cdnjs.cloudflare.com/ajax/libs/mathjax/2.7.5/MathJax.js?config=TeX-AMS-MML_SVG\"></script><script type=\"text/javascript\">if (window.MathJax) {MathJax.Hub.Config({SVG: {font: \"STIX-Web\"}});}</script>                <script type=\"text/javascript\">window.PlotlyConfig = {MathJaxConfig: 'local'};</script>\n",
              "        <script src=\"https://cdn.plot.ly/plotly-2.8.3.min.js\"></script>                <div id=\"b6c36f5a-08b9-47b6-8d19-bf21e54eb106\" class=\"plotly-graph-div\" style=\"height:920.0px; width:920.0px;\"></div>            <script type=\"text/javascript\">                                    window.PLOTLYENV=window.PLOTLYENV || {};                                    if (document.getElementById(\"b6c36f5a-08b9-47b6-8d19-bf21e54eb106\")) {                    Plotly.newPlot(                        \"b6c36f5a-08b9-47b6-8d19-bf21e54eb106\",                        [{\"line\":{\"color\":\"red\",\"width\":5},\"mode\":\"lines+markers\",\"name\":\"Rect: line (-2, 2) to (-2, -5)\",\"x\":[-2,-2],\"y\":[2,-5],\"type\":\"scatter\"},{\"line\":{\"color\":\"red\",\"width\":5},\"mode\":\"lines+markers\",\"name\":\"Rect: line (4, 2) to (4, -5)\",\"x\":[4,4],\"y\":[2,-5],\"type\":\"scatter\"},{\"line\":{\"color\":\"red\",\"width\":5},\"mode\":\"lines+markers\",\"name\":\"Rect: line (-2, 2) to (4, 2)\",\"x\":[-2,4],\"y\":[2,2],\"type\":\"scatter\"},{\"line\":{\"color\":\"red\",\"width\":5},\"mode\":\"lines+markers\",\"name\":\"Rect: line (-2, -5) to (4, -5)\",\"x\":[-2,4],\"y\":[-5,-5],\"type\":\"scatter\"}],                        {\"template\":{\"data\":{\"bar\":[{\"error_x\":{\"color\":\"#2a3f5f\"},\"error_y\":{\"color\":\"#2a3f5f\"},\"marker\":{\"line\":{\"color\":\"#E5ECF6\",\"width\":0.5},\"pattern\":{\"fillmode\":\"overlay\",\"size\":10,\"solidity\":0.2}},\"type\":\"bar\"}],\"barpolar\":[{\"marker\":{\"line\":{\"color\":\"#E5ECF6\",\"width\":0.5},\"pattern\":{\"fillmode\":\"overlay\",\"size\":10,\"solidity\":0.2}},\"type\":\"barpolar\"}],\"carpet\":[{\"aaxis\":{\"endlinecolor\":\"#2a3f5f\",\"gridcolor\":\"white\",\"linecolor\":\"white\",\"minorgridcolor\":\"white\",\"startlinecolor\":\"#2a3f5f\"},\"baxis\":{\"endlinecolor\":\"#2a3f5f\",\"gridcolor\":\"white\",\"linecolor\":\"white\",\"minorgridcolor\":\"white\",\"startlinecolor\":\"#2a3f5f\"},\"type\":\"carpet\"}],\"choropleth\":[{\"colorbar\":{\"outlinewidth\":0,\"ticks\":\"\"},\"type\":\"choropleth\"}],\"contour\":[{\"colorbar\":{\"outlinewidth\":0,\"ticks\":\"\"},\"colorscale\":[[0.0,\"#0d0887\"],[0.1111111111111111,\"#46039f\"],[0.2222222222222222,\"#7201a8\"],[0.3333333333333333,\"#9c179e\"],[0.4444444444444444,\"#bd3786\"],[0.5555555555555556,\"#d8576b\"],[0.6666666666666666,\"#ed7953\"],[0.7777777777777778,\"#fb9f3a\"],[0.8888888888888888,\"#fdca26\"],[1.0,\"#f0f921\"]],\"type\":\"contour\"}],\"contourcarpet\":[{\"colorbar\":{\"outlinewidth\":0,\"ticks\":\"\"},\"type\":\"contourcarpet\"}],\"heatmap\":[{\"colorbar\":{\"outlinewidth\":0,\"ticks\":\"\"},\"colorscale\":[[0.0,\"#0d0887\"],[0.1111111111111111,\"#46039f\"],[0.2222222222222222,\"#7201a8\"],[0.3333333333333333,\"#9c179e\"],[0.4444444444444444,\"#bd3786\"],[0.5555555555555556,\"#d8576b\"],[0.6666666666666666,\"#ed7953\"],[0.7777777777777778,\"#fb9f3a\"],[0.8888888888888888,\"#fdca26\"],[1.0,\"#f0f921\"]],\"type\":\"heatmap\"}],\"heatmapgl\":[{\"colorbar\":{\"outlinewidth\":0,\"ticks\":\"\"},\"colorscale\":[[0.0,\"#0d0887\"],[0.1111111111111111,\"#46039f\"],[0.2222222222222222,\"#7201a8\"],[0.3333333333333333,\"#9c179e\"],[0.4444444444444444,\"#bd3786\"],[0.5555555555555556,\"#d8576b\"],[0.6666666666666666,\"#ed7953\"],[0.7777777777777778,\"#fb9f3a\"],[0.8888888888888888,\"#fdca26\"],[1.0,\"#f0f921\"]],\"type\":\"heatmapgl\"}],\"histogram\":[{\"marker\":{\"pattern\":{\"fillmode\":\"overlay\",\"size\":10,\"solidity\":0.2}},\"type\":\"histogram\"}],\"histogram2d\":[{\"colorbar\":{\"outlinewidth\":0,\"ticks\":\"\"},\"colorscale\":[[0.0,\"#0d0887\"],[0.1111111111111111,\"#46039f\"],[0.2222222222222222,\"#7201a8\"],[0.3333333333333333,\"#9c179e\"],[0.4444444444444444,\"#bd3786\"],[0.5555555555555556,\"#d8576b\"],[0.6666666666666666,\"#ed7953\"],[0.7777777777777778,\"#fb9f3a\"],[0.8888888888888888,\"#fdca26\"],[1.0,\"#f0f921\"]],\"type\":\"histogram2d\"}],\"histogram2dcontour\":[{\"colorbar\":{\"outlinewidth\":0,\"ticks\":\"\"},\"colorscale\":[[0.0,\"#0d0887\"],[0.1111111111111111,\"#46039f\"],[0.2222222222222222,\"#7201a8\"],[0.3333333333333333,\"#9c179e\"],[0.4444444444444444,\"#bd3786\"],[0.5555555555555556,\"#d8576b\"],[0.6666666666666666,\"#ed7953\"],[0.7777777777777778,\"#fb9f3a\"],[0.8888888888888888,\"#fdca26\"],[1.0,\"#f0f921\"]],\"type\":\"histogram2dcontour\"}],\"mesh3d\":[{\"colorbar\":{\"outlinewidth\":0,\"ticks\":\"\"},\"type\":\"mesh3d\"}],\"parcoords\":[{\"line\":{\"colorbar\":{\"outlinewidth\":0,\"ticks\":\"\"}},\"type\":\"parcoords\"}],\"pie\":[{\"automargin\":true,\"type\":\"pie\"}],\"scatter\":[{\"marker\":{\"colorbar\":{\"outlinewidth\":0,\"ticks\":\"\"}},\"type\":\"scatter\"}],\"scatter3d\":[{\"line\":{\"colorbar\":{\"outlinewidth\":0,\"ticks\":\"\"}},\"marker\":{\"colorbar\":{\"outlinewidth\":0,\"ticks\":\"\"}},\"type\":\"scatter3d\"}],\"scattercarpet\":[{\"marker\":{\"colorbar\":{\"outlinewidth\":0,\"ticks\":\"\"}},\"type\":\"scattercarpet\"}],\"scattergeo\":[{\"marker\":{\"colorbar\":{\"outlinewidth\":0,\"ticks\":\"\"}},\"type\":\"scattergeo\"}],\"scattergl\":[{\"marker\":{\"colorbar\":{\"outlinewidth\":0,\"ticks\":\"\"}},\"type\":\"scattergl\"}],\"scattermapbox\":[{\"marker\":{\"colorbar\":{\"outlinewidth\":0,\"ticks\":\"\"}},\"type\":\"scattermapbox\"}],\"scatterpolar\":[{\"marker\":{\"colorbar\":{\"outlinewidth\":0,\"ticks\":\"\"}},\"type\":\"scatterpolar\"}],\"scatterpolargl\":[{\"marker\":{\"colorbar\":{\"outlinewidth\":0,\"ticks\":\"\"}},\"type\":\"scatterpolargl\"}],\"scatterternary\":[{\"marker\":{\"colorbar\":{\"outlinewidth\":0,\"ticks\":\"\"}},\"type\":\"scatterternary\"}],\"surface\":[{\"colorbar\":{\"outlinewidth\":0,\"ticks\":\"\"},\"colorscale\":[[0.0,\"#0d0887\"],[0.1111111111111111,\"#46039f\"],[0.2222222222222222,\"#7201a8\"],[0.3333333333333333,\"#9c179e\"],[0.4444444444444444,\"#bd3786\"],[0.5555555555555556,\"#d8576b\"],[0.6666666666666666,\"#ed7953\"],[0.7777777777777778,\"#fb9f3a\"],[0.8888888888888888,\"#fdca26\"],[1.0,\"#f0f921\"]],\"type\":\"surface\"}],\"table\":[{\"cells\":{\"fill\":{\"color\":\"#EBF0F8\"},\"line\":{\"color\":\"white\"}},\"header\":{\"fill\":{\"color\":\"#C8D4E3\"},\"line\":{\"color\":\"white\"}},\"type\":\"table\"}]},\"layout\":{\"annotationdefaults\":{\"arrowcolor\":\"#2a3f5f\",\"arrowhead\":0,\"arrowwidth\":1},\"autotypenumbers\":\"strict\",\"coloraxis\":{\"colorbar\":{\"outlinewidth\":0,\"ticks\":\"\"}},\"colorscale\":{\"diverging\":[[0,\"#8e0152\"],[0.1,\"#c51b7d\"],[0.2,\"#de77ae\"],[0.3,\"#f1b6da\"],[0.4,\"#fde0ef\"],[0.5,\"#f7f7f7\"],[0.6,\"#e6f5d0\"],[0.7,\"#b8e186\"],[0.8,\"#7fbc41\"],[0.9,\"#4d9221\"],[1,\"#276419\"]],\"sequential\":[[0.0,\"#0d0887\"],[0.1111111111111111,\"#46039f\"],[0.2222222222222222,\"#7201a8\"],[0.3333333333333333,\"#9c179e\"],[0.4444444444444444,\"#bd3786\"],[0.5555555555555556,\"#d8576b\"],[0.6666666666666666,\"#ed7953\"],[0.7777777777777778,\"#fb9f3a\"],[0.8888888888888888,\"#fdca26\"],[1.0,\"#f0f921\"]],\"sequentialminus\":[[0.0,\"#0d0887\"],[0.1111111111111111,\"#46039f\"],[0.2222222222222222,\"#7201a8\"],[0.3333333333333333,\"#9c179e\"],[0.4444444444444444,\"#bd3786\"],[0.5555555555555556,\"#d8576b\"],[0.6666666666666666,\"#ed7953\"],[0.7777777777777778,\"#fb9f3a\"],[0.8888888888888888,\"#fdca26\"],[1.0,\"#f0f921\"]]},\"colorway\":[\"#636efa\",\"#EF553B\",\"#00cc96\",\"#ab63fa\",\"#FFA15A\",\"#19d3f3\",\"#FF6692\",\"#B6E880\",\"#FF97FF\",\"#FECB52\"],\"font\":{\"color\":\"#2a3f5f\"},\"geo\":{\"bgcolor\":\"white\",\"lakecolor\":\"white\",\"landcolor\":\"#E5ECF6\",\"showlakes\":true,\"showland\":true,\"subunitcolor\":\"white\"},\"hoverlabel\":{\"align\":\"left\"},\"hovermode\":\"closest\",\"mapbox\":{\"style\":\"light\"},\"paper_bgcolor\":\"white\",\"plot_bgcolor\":\"#E5ECF6\",\"polar\":{\"angularaxis\":{\"gridcolor\":\"white\",\"linecolor\":\"white\",\"ticks\":\"\"},\"bgcolor\":\"#E5ECF6\",\"radialaxis\":{\"gridcolor\":\"white\",\"linecolor\":\"white\",\"ticks\":\"\"}},\"scene\":{\"xaxis\":{\"backgroundcolor\":\"#E5ECF6\",\"gridcolor\":\"white\",\"gridwidth\":2,\"linecolor\":\"white\",\"showbackground\":true,\"ticks\":\"\",\"zerolinecolor\":\"white\"},\"yaxis\":{\"backgroundcolor\":\"#E5ECF6\",\"gridcolor\":\"white\",\"gridwidth\":2,\"linecolor\":\"white\",\"showbackground\":true,\"ticks\":\"\",\"zerolinecolor\":\"white\"},\"zaxis\":{\"backgroundcolor\":\"#E5ECF6\",\"gridcolor\":\"white\",\"gridwidth\":2,\"linecolor\":\"white\",\"showbackground\":true,\"ticks\":\"\",\"zerolinecolor\":\"white\"}},\"shapedefaults\":{\"line\":{\"color\":\"#2a3f5f\"}},\"ternary\":{\"aaxis\":{\"gridcolor\":\"white\",\"linecolor\":\"white\",\"ticks\":\"\"},\"baxis\":{\"gridcolor\":\"white\",\"linecolor\":\"white\",\"ticks\":\"\"},\"bgcolor\":\"#E5ECF6\",\"caxis\":{\"gridcolor\":\"white\",\"linecolor\":\"white\",\"ticks\":\"\"}},\"title\":{\"x\":0.05},\"xaxis\":{\"automargin\":true,\"gridcolor\":\"white\",\"linecolor\":\"white\",\"ticks\":\"\",\"title\":{\"standoff\":15},\"zerolinecolor\":\"white\",\"zerolinewidth\":2},\"yaxis\":{\"automargin\":true,\"gridcolor\":\"white\",\"linecolor\":\"white\",\"ticks\":\"\",\"title\":{\"standoff\":15},\"zerolinecolor\":\"white\",\"zerolinewidth\":2}}},\"yaxis\":{\"range\":[-20.0,25.0],\"showgrid\":false,\"gridwidth\":1,\"gridcolor\":\"red\",\"scaleanchor\":\"x\",\"scaleratio\":1,\"automargin\":false,\"tickmode\":\"linear\",\"tick0\":-20.0,\"dtick\":1.0,\"visible\":false},\"xaxis\":{\"range\":[-20.0,25.0],\"showgrid\":false,\"gridwidth\":1,\"gridcolor\":\"red\",\"automargin\":false,\"tickmode\":\"linear\",\"tick0\":-20.0,\"dtick\":1.0,\"visible\":false},\"height\":920.0,\"width\":920.0,\"autosize\":false,\"showlegend\":false},                        {\"responsive\": true}                    ).then(function(){\n",
              "                            \n",
              "var gd = document.getElementById('b6c36f5a-08b9-47b6-8d19-bf21e54eb106');\n",
              "var x = new MutationObserver(function (mutations, observer) {{\n",
              "        var display = window.getComputedStyle(gd).display;\n",
              "        if (!display || display === 'none') {{\n",
              "            console.log([gd, 'removed!']);\n",
              "            Plotly.purge(gd);\n",
              "            observer.disconnect();\n",
              "        }}\n",
              "}});\n",
              "\n",
              "// Listen for the removal of the full notebook cells\n",
              "var notebookContainer = gd.closest('#notebook-container');\n",
              "if (notebookContainer) {{\n",
              "    x.observe(notebookContainer, {childList: true});\n",
              "}}\n",
              "\n",
              "// Listen for the clearing of the current output cell\n",
              "var outputEl = gd.closest('.output');\n",
              "if (outputEl) {{\n",
              "    x.observe(outputEl, {childList: true});\n",
              "}}\n",
              "\n",
              "                        })                };                            </script>        </div>\n",
              "</body>\n",
              "</html>"
            ]
          },
          "metadata": {}
        },
        {
          "output_type": "display_data",
          "data": {
            "text/html": [
              "<html>\n",
              "<head><meta charset=\"utf-8\" /></head>\n",
              "<body>\n",
              "    <div>            <script src=\"https://cdnjs.cloudflare.com/ajax/libs/mathjax/2.7.5/MathJax.js?config=TeX-AMS-MML_SVG\"></script><script type=\"text/javascript\">if (window.MathJax) {MathJax.Hub.Config({SVG: {font: \"STIX-Web\"}});}</script>                <script type=\"text/javascript\">window.PlotlyConfig = {MathJaxConfig: 'local'};</script>\n",
              "        <script src=\"https://cdn.plot.ly/plotly-2.8.3.min.js\"></script>                <div id=\"2c256dbf-b65d-4580-abd6-39ffc2a9a9c9\" class=\"plotly-graph-div\" style=\"height:920.0px; width:920.0px;\"></div>            <script type=\"text/javascript\">                                    window.PLOTLYENV=window.PLOTLYENV || {};                                    if (document.getElementById(\"2c256dbf-b65d-4580-abd6-39ffc2a9a9c9\")) {                    Plotly.newPlot(                        \"2c256dbf-b65d-4580-abd6-39ffc2a9a9c9\",                        [{\"line\":{\"color\":\"red\",\"width\":5},\"mode\":\"lines+markers\",\"name\":\"Rect: line (-2, 2) to (-2, -5)\",\"x\":[-2,-2],\"y\":[2,-5],\"type\":\"scatter\"},{\"line\":{\"color\":\"red\",\"width\":5},\"mode\":\"lines+markers\",\"name\":\"Rect: line (4, 2) to (4, -5)\",\"x\":[4,4],\"y\":[2,-5],\"type\":\"scatter\"},{\"line\":{\"color\":\"red\",\"width\":5},\"mode\":\"lines+markers\",\"name\":\"Rect: line (-2, 2) to (4, 2)\",\"x\":[-2,4],\"y\":[2,2],\"type\":\"scatter\"},{\"line\":{\"color\":\"red\",\"width\":5},\"mode\":\"lines+markers\",\"name\":\"Rect: line (-2, -5) to (4, -5)\",\"x\":[-2,4],\"y\":[-5,-5],\"type\":\"scatter\"},{\"line\":{\"color\":\"red\",\"width\":3},\"mode\":\"lines+markers\",\"name\":\"Rect: line (-2, 2) to (-2, -5)\",\"x\":[-2,-2],\"y\":[2,-5],\"type\":\"scatter\"},{\"line\":{\"color\":\"red\",\"width\":3},\"mode\":\"lines+markers\",\"name\":\"Rect: line (4, 2) to (4, -5)\",\"x\":[4,4],\"y\":[2,-5],\"type\":\"scatter\"},{\"line\":{\"color\":\"red\",\"width\":3},\"mode\":\"lines+markers\",\"name\":\"Rect: line (-2, 2) to (4, 2)\",\"x\":[-2,4],\"y\":[2,2],\"type\":\"scatter\"},{\"line\":{\"color\":\"red\",\"width\":3},\"mode\":\"lines+markers\",\"name\":\"Rect: line (-2, -5) to (4, -5)\",\"x\":[-2,4],\"y\":[-5,-5],\"type\":\"scatter\"},{\"line\":{\"color\":\"blue\",\"width\":3},\"mode\":\"lines+markers\",\"name\":\"Rect: line (0, -3) to (0, -5)\",\"x\":[0,0],\"y\":[-3,-5],\"type\":\"scatter\"},{\"line\":{\"color\":\"blue\",\"width\":3},\"mode\":\"lines+markers\",\"name\":\"Rect: line (2, -3) to (2, -5)\",\"x\":[2,2],\"y\":[-3,-5],\"type\":\"scatter\"},{\"line\":{\"color\":\"blue\",\"width\":3},\"mode\":\"lines+markers\",\"name\":\"Rect: line (0, -3) to (2, -3)\",\"x\":[0,2],\"y\":[-3,-3],\"type\":\"scatter\"},{\"line\":{\"color\":\"blue\",\"width\":3},\"mode\":\"lines+markers\",\"name\":\"Rect: line (0, -5) to (2, -5)\",\"x\":[0,2],\"y\":[-5,-5],\"type\":\"scatter\"},{\"line\":{\"color\":\"blue\",\"width\":3},\"mode\":\"lines+markers\",\"name\":\"Rect: line (1, 1) to (1, 0)\",\"x\":[1,1],\"y\":[1,0],\"type\":\"scatter\"},{\"line\":{\"color\":\"blue\",\"width\":3},\"mode\":\"lines+markers\",\"name\":\"Rect: line (4, 1) to (4, 0)\",\"x\":[4,4],\"y\":[1,0],\"type\":\"scatter\"},{\"line\":{\"color\":\"blue\",\"width\":3},\"mode\":\"lines+markers\",\"name\":\"Rect: line (1, 1) to (4, 1)\",\"x\":[1,4],\"y\":[1,1],\"type\":\"scatter\"},{\"line\":{\"color\":\"blue\",\"width\":3},\"mode\":\"lines+markers\",\"name\":\"Rect: line (1, 0) to (4, 0)\",\"x\":[1,4],\"y\":[0,0],\"type\":\"scatter\"}],                        {\"template\":{\"data\":{\"bar\":[{\"error_x\":{\"color\":\"#2a3f5f\"},\"error_y\":{\"color\":\"#2a3f5f\"},\"marker\":{\"line\":{\"color\":\"#E5ECF6\",\"width\":0.5},\"pattern\":{\"fillmode\":\"overlay\",\"size\":10,\"solidity\":0.2}},\"type\":\"bar\"}],\"barpolar\":[{\"marker\":{\"line\":{\"color\":\"#E5ECF6\",\"width\":0.5},\"pattern\":{\"fillmode\":\"overlay\",\"size\":10,\"solidity\":0.2}},\"type\":\"barpolar\"}],\"carpet\":[{\"aaxis\":{\"endlinecolor\":\"#2a3f5f\",\"gridcolor\":\"white\",\"linecolor\":\"white\",\"minorgridcolor\":\"white\",\"startlinecolor\":\"#2a3f5f\"},\"baxis\":{\"endlinecolor\":\"#2a3f5f\",\"gridcolor\":\"white\",\"linecolor\":\"white\",\"minorgridcolor\":\"white\",\"startlinecolor\":\"#2a3f5f\"},\"type\":\"carpet\"}],\"choropleth\":[{\"colorbar\":{\"outlinewidth\":0,\"ticks\":\"\"},\"type\":\"choropleth\"}],\"contour\":[{\"colorbar\":{\"outlinewidth\":0,\"ticks\":\"\"},\"colorscale\":[[0.0,\"#0d0887\"],[0.1111111111111111,\"#46039f\"],[0.2222222222222222,\"#7201a8\"],[0.3333333333333333,\"#9c179e\"],[0.4444444444444444,\"#bd3786\"],[0.5555555555555556,\"#d8576b\"],[0.6666666666666666,\"#ed7953\"],[0.7777777777777778,\"#fb9f3a\"],[0.8888888888888888,\"#fdca26\"],[1.0,\"#f0f921\"]],\"type\":\"contour\"}],\"contourcarpet\":[{\"colorbar\":{\"outlinewidth\":0,\"ticks\":\"\"},\"type\":\"contourcarpet\"}],\"heatmap\":[{\"colorbar\":{\"outlinewidth\":0,\"ticks\":\"\"},\"colorscale\":[[0.0,\"#0d0887\"],[0.1111111111111111,\"#46039f\"],[0.2222222222222222,\"#7201a8\"],[0.3333333333333333,\"#9c179e\"],[0.4444444444444444,\"#bd3786\"],[0.5555555555555556,\"#d8576b\"],[0.6666666666666666,\"#ed7953\"],[0.7777777777777778,\"#fb9f3a\"],[0.8888888888888888,\"#fdca26\"],[1.0,\"#f0f921\"]],\"type\":\"heatmap\"}],\"heatmapgl\":[{\"colorbar\":{\"outlinewidth\":0,\"ticks\":\"\"},\"colorscale\":[[0.0,\"#0d0887\"],[0.1111111111111111,\"#46039f\"],[0.2222222222222222,\"#7201a8\"],[0.3333333333333333,\"#9c179e\"],[0.4444444444444444,\"#bd3786\"],[0.5555555555555556,\"#d8576b\"],[0.6666666666666666,\"#ed7953\"],[0.7777777777777778,\"#fb9f3a\"],[0.8888888888888888,\"#fdca26\"],[1.0,\"#f0f921\"]],\"type\":\"heatmapgl\"}],\"histogram\":[{\"marker\":{\"pattern\":{\"fillmode\":\"overlay\",\"size\":10,\"solidity\":0.2}},\"type\":\"histogram\"}],\"histogram2d\":[{\"colorbar\":{\"outlinewidth\":0,\"ticks\":\"\"},\"colorscale\":[[0.0,\"#0d0887\"],[0.1111111111111111,\"#46039f\"],[0.2222222222222222,\"#7201a8\"],[0.3333333333333333,\"#9c179e\"],[0.4444444444444444,\"#bd3786\"],[0.5555555555555556,\"#d8576b\"],[0.6666666666666666,\"#ed7953\"],[0.7777777777777778,\"#fb9f3a\"],[0.8888888888888888,\"#fdca26\"],[1.0,\"#f0f921\"]],\"type\":\"histogram2d\"}],\"histogram2dcontour\":[{\"colorbar\":{\"outlinewidth\":0,\"ticks\":\"\"},\"colorscale\":[[0.0,\"#0d0887\"],[0.1111111111111111,\"#46039f\"],[0.2222222222222222,\"#7201a8\"],[0.3333333333333333,\"#9c179e\"],[0.4444444444444444,\"#bd3786\"],[0.5555555555555556,\"#d8576b\"],[0.6666666666666666,\"#ed7953\"],[0.7777777777777778,\"#fb9f3a\"],[0.8888888888888888,\"#fdca26\"],[1.0,\"#f0f921\"]],\"type\":\"histogram2dcontour\"}],\"mesh3d\":[{\"colorbar\":{\"outlinewidth\":0,\"ticks\":\"\"},\"type\":\"mesh3d\"}],\"parcoords\":[{\"line\":{\"colorbar\":{\"outlinewidth\":0,\"ticks\":\"\"}},\"type\":\"parcoords\"}],\"pie\":[{\"automargin\":true,\"type\":\"pie\"}],\"scatter\":[{\"marker\":{\"colorbar\":{\"outlinewidth\":0,\"ticks\":\"\"}},\"type\":\"scatter\"}],\"scatter3d\":[{\"line\":{\"colorbar\":{\"outlinewidth\":0,\"ticks\":\"\"}},\"marker\":{\"colorbar\":{\"outlinewidth\":0,\"ticks\":\"\"}},\"type\":\"scatter3d\"}],\"scattercarpet\":[{\"marker\":{\"colorbar\":{\"outlinewidth\":0,\"ticks\":\"\"}},\"type\":\"scattercarpet\"}],\"scattergeo\":[{\"marker\":{\"colorbar\":{\"outlinewidth\":0,\"ticks\":\"\"}},\"type\":\"scattergeo\"}],\"scattergl\":[{\"marker\":{\"colorbar\":{\"outlinewidth\":0,\"ticks\":\"\"}},\"type\":\"scattergl\"}],\"scattermapbox\":[{\"marker\":{\"colorbar\":{\"outlinewidth\":0,\"ticks\":\"\"}},\"type\":\"scattermapbox\"}],\"scatterpolar\":[{\"marker\":{\"colorbar\":{\"outlinewidth\":0,\"ticks\":\"\"}},\"type\":\"scatterpolar\"}],\"scatterpolargl\":[{\"marker\":{\"colorbar\":{\"outlinewidth\":0,\"ticks\":\"\"}},\"type\":\"scatterpolargl\"}],\"scatterternary\":[{\"marker\":{\"colorbar\":{\"outlinewidth\":0,\"ticks\":\"\"}},\"type\":\"scatterternary\"}],\"surface\":[{\"colorbar\":{\"outlinewidth\":0,\"ticks\":\"\"},\"colorscale\":[[0.0,\"#0d0887\"],[0.1111111111111111,\"#46039f\"],[0.2222222222222222,\"#7201a8\"],[0.3333333333333333,\"#9c179e\"],[0.4444444444444444,\"#bd3786\"],[0.5555555555555556,\"#d8576b\"],[0.6666666666666666,\"#ed7953\"],[0.7777777777777778,\"#fb9f3a\"],[0.8888888888888888,\"#fdca26\"],[1.0,\"#f0f921\"]],\"type\":\"surface\"}],\"table\":[{\"cells\":{\"fill\":{\"color\":\"#EBF0F8\"},\"line\":{\"color\":\"white\"}},\"header\":{\"fill\":{\"color\":\"#C8D4E3\"},\"line\":{\"color\":\"white\"}},\"type\":\"table\"}]},\"layout\":{\"annotationdefaults\":{\"arrowcolor\":\"#2a3f5f\",\"arrowhead\":0,\"arrowwidth\":1},\"autotypenumbers\":\"strict\",\"coloraxis\":{\"colorbar\":{\"outlinewidth\":0,\"ticks\":\"\"}},\"colorscale\":{\"diverging\":[[0,\"#8e0152\"],[0.1,\"#c51b7d\"],[0.2,\"#de77ae\"],[0.3,\"#f1b6da\"],[0.4,\"#fde0ef\"],[0.5,\"#f7f7f7\"],[0.6,\"#e6f5d0\"],[0.7,\"#b8e186\"],[0.8,\"#7fbc41\"],[0.9,\"#4d9221\"],[1,\"#276419\"]],\"sequential\":[[0.0,\"#0d0887\"],[0.1111111111111111,\"#46039f\"],[0.2222222222222222,\"#7201a8\"],[0.3333333333333333,\"#9c179e\"],[0.4444444444444444,\"#bd3786\"],[0.5555555555555556,\"#d8576b\"],[0.6666666666666666,\"#ed7953\"],[0.7777777777777778,\"#fb9f3a\"],[0.8888888888888888,\"#fdca26\"],[1.0,\"#f0f921\"]],\"sequentialminus\":[[0.0,\"#0d0887\"],[0.1111111111111111,\"#46039f\"],[0.2222222222222222,\"#7201a8\"],[0.3333333333333333,\"#9c179e\"],[0.4444444444444444,\"#bd3786\"],[0.5555555555555556,\"#d8576b\"],[0.6666666666666666,\"#ed7953\"],[0.7777777777777778,\"#fb9f3a\"],[0.8888888888888888,\"#fdca26\"],[1.0,\"#f0f921\"]]},\"colorway\":[\"#636efa\",\"#EF553B\",\"#00cc96\",\"#ab63fa\",\"#FFA15A\",\"#19d3f3\",\"#FF6692\",\"#B6E880\",\"#FF97FF\",\"#FECB52\"],\"font\":{\"color\":\"#2a3f5f\"},\"geo\":{\"bgcolor\":\"white\",\"lakecolor\":\"white\",\"landcolor\":\"#E5ECF6\",\"showlakes\":true,\"showland\":true,\"subunitcolor\":\"white\"},\"hoverlabel\":{\"align\":\"left\"},\"hovermode\":\"closest\",\"mapbox\":{\"style\":\"light\"},\"paper_bgcolor\":\"white\",\"plot_bgcolor\":\"#E5ECF6\",\"polar\":{\"angularaxis\":{\"gridcolor\":\"white\",\"linecolor\":\"white\",\"ticks\":\"\"},\"bgcolor\":\"#E5ECF6\",\"radialaxis\":{\"gridcolor\":\"white\",\"linecolor\":\"white\",\"ticks\":\"\"}},\"scene\":{\"xaxis\":{\"backgroundcolor\":\"#E5ECF6\",\"gridcolor\":\"white\",\"gridwidth\":2,\"linecolor\":\"white\",\"showbackground\":true,\"ticks\":\"\",\"zerolinecolor\":\"white\"},\"yaxis\":{\"backgroundcolor\":\"#E5ECF6\",\"gridcolor\":\"white\",\"gridwidth\":2,\"linecolor\":\"white\",\"showbackground\":true,\"ticks\":\"\",\"zerolinecolor\":\"white\"},\"zaxis\":{\"backgroundcolor\":\"#E5ECF6\",\"gridcolor\":\"white\",\"gridwidth\":2,\"linecolor\":\"white\",\"showbackground\":true,\"ticks\":\"\",\"zerolinecolor\":\"white\"}},\"shapedefaults\":{\"line\":{\"color\":\"#2a3f5f\"}},\"ternary\":{\"aaxis\":{\"gridcolor\":\"white\",\"linecolor\":\"white\",\"ticks\":\"\"},\"baxis\":{\"gridcolor\":\"white\",\"linecolor\":\"white\",\"ticks\":\"\"},\"bgcolor\":\"#E5ECF6\",\"caxis\":{\"gridcolor\":\"white\",\"linecolor\":\"white\",\"ticks\":\"\"}},\"title\":{\"x\":0.05},\"xaxis\":{\"automargin\":true,\"gridcolor\":\"white\",\"linecolor\":\"white\",\"ticks\":\"\",\"title\":{\"standoff\":15},\"zerolinecolor\":\"white\",\"zerolinewidth\":2},\"yaxis\":{\"automargin\":true,\"gridcolor\":\"white\",\"linecolor\":\"white\",\"ticks\":\"\",\"title\":{\"standoff\":15},\"zerolinecolor\":\"white\",\"zerolinewidth\":2}}},\"yaxis\":{\"range\":[-20.0,25.0],\"showgrid\":false,\"gridwidth\":1,\"gridcolor\":\"red\",\"scaleanchor\":\"x\",\"scaleratio\":1,\"automargin\":false,\"tickmode\":\"linear\",\"tick0\":-20.0,\"dtick\":1.0,\"visible\":false},\"xaxis\":{\"range\":[-20.0,25.0],\"showgrid\":false,\"gridwidth\":1,\"gridcolor\":\"red\",\"automargin\":false,\"tickmode\":\"linear\",\"tick0\":-20.0,\"dtick\":1.0,\"visible\":false},\"height\":920.0,\"width\":920.0,\"autosize\":false,\"showlegend\":false},                        {\"responsive\": true}                    ).then(function(){\n",
              "                            \n",
              "var gd = document.getElementById('2c256dbf-b65d-4580-abd6-39ffc2a9a9c9');\n",
              "var x = new MutationObserver(function (mutations, observer) {{\n",
              "        var display = window.getComputedStyle(gd).display;\n",
              "        if (!display || display === 'none') {{\n",
              "            console.log([gd, 'removed!']);\n",
              "            Plotly.purge(gd);\n",
              "            observer.disconnect();\n",
              "        }}\n",
              "}});\n",
              "\n",
              "// Listen for the removal of the full notebook cells\n",
              "var notebookContainer = gd.closest('#notebook-container');\n",
              "if (notebookContainer) {{\n",
              "    x.observe(notebookContainer, {childList: true});\n",
              "}}\n",
              "\n",
              "// Listen for the clearing of the current output cell\n",
              "var outputEl = gd.closest('.output');\n",
              "if (outputEl) {{\n",
              "    x.observe(outputEl, {childList: true});\n",
              "}}\n",
              "\n",
              "                        })                };                            </script>        </div>\n",
              "</body>\n",
              "</html>"
            ]
          },
          "metadata": {}
        },
        {
          "output_type": "display_data",
          "data": {
            "text/html": [
              "<html>\n",
              "<head><meta charset=\"utf-8\" /></head>\n",
              "<body>\n",
              "    <div>            <script src=\"https://cdnjs.cloudflare.com/ajax/libs/mathjax/2.7.5/MathJax.js?config=TeX-AMS-MML_SVG\"></script><script type=\"text/javascript\">if (window.MathJax) {MathJax.Hub.Config({SVG: {font: \"STIX-Web\"}});}</script>                <script type=\"text/javascript\">window.PlotlyConfig = {MathJaxConfig: 'local'};</script>\n",
              "        <script src=\"https://cdn.plot.ly/plotly-2.8.3.min.js\"></script>                <div id=\"3e222deb-0920-41f8-91ab-33fdc5a0e84b\" class=\"plotly-graph-div\" style=\"height:920.0px; width:920.0px;\"></div>            <script type=\"text/javascript\">                                    window.PLOTLYENV=window.PLOTLYENV || {};                                    if (document.getElementById(\"3e222deb-0920-41f8-91ab-33fdc5a0e84b\")) {                    Plotly.newPlot(                        \"3e222deb-0920-41f8-91ab-33fdc5a0e84b\",                        [{\"line\":{\"color\":\"red\",\"width\":5},\"mode\":\"lines+markers\",\"name\":\"Rect: line (-2, 2) to (-2, -5)\",\"x\":[-2,-2],\"y\":[2,-5],\"type\":\"scatter\"},{\"line\":{\"color\":\"red\",\"width\":5},\"mode\":\"lines+markers\",\"name\":\"Rect: line (4, 2) to (4, -5)\",\"x\":[4,4],\"y\":[2,-5],\"type\":\"scatter\"},{\"line\":{\"color\":\"red\",\"width\":5},\"mode\":\"lines+markers\",\"name\":\"Rect: line (-2, 2) to (4, 2)\",\"x\":[-2,4],\"y\":[2,2],\"type\":\"scatter\"},{\"line\":{\"color\":\"red\",\"width\":5},\"mode\":\"lines+markers\",\"name\":\"Rect: line (-2, -5) to (4, -5)\",\"x\":[-2,4],\"y\":[-5,-5],\"type\":\"scatter\"},{\"line\":{\"color\":\"red\",\"width\":3},\"mode\":\"lines+markers\",\"name\":\"Rect: line (-2, 2) to (-2, -5)\",\"x\":[-2,-2],\"y\":[2,-5],\"type\":\"scatter\"},{\"line\":{\"color\":\"red\",\"width\":3},\"mode\":\"lines+markers\",\"name\":\"Rect: line (4, 2) to (4, -5)\",\"x\":[4,4],\"y\":[2,-5],\"type\":\"scatter\"},{\"line\":{\"color\":\"red\",\"width\":3},\"mode\":\"lines+markers\",\"name\":\"Rect: line (-2, 2) to (4, 2)\",\"x\":[-2,4],\"y\":[2,2],\"type\":\"scatter\"},{\"line\":{\"color\":\"red\",\"width\":3},\"mode\":\"lines+markers\",\"name\":\"Rect: line (-2, -5) to (4, -5)\",\"x\":[-2,4],\"y\":[-5,-5],\"type\":\"scatter\"},{\"line\":{\"color\":\"blue\",\"width\":3},\"mode\":\"lines+markers\",\"name\":\"Rect: line (0, -3) to (0, -5)\",\"x\":[0,0],\"y\":[-3,-5],\"type\":\"scatter\"},{\"line\":{\"color\":\"blue\",\"width\":3},\"mode\":\"lines+markers\",\"name\":\"Rect: line (2, -3) to (2, -5)\",\"x\":[2,2],\"y\":[-3,-5],\"type\":\"scatter\"},{\"line\":{\"color\":\"blue\",\"width\":3},\"mode\":\"lines+markers\",\"name\":\"Rect: line (0, -3) to (2, -3)\",\"x\":[0,2],\"y\":[-3,-3],\"type\":\"scatter\"},{\"line\":{\"color\":\"blue\",\"width\":3},\"mode\":\"lines+markers\",\"name\":\"Rect: line (0, -5) to (2, -5)\",\"x\":[0,2],\"y\":[-5,-5],\"type\":\"scatter\"},{\"line\":{\"color\":\"blue\",\"width\":3},\"mode\":\"lines+markers\",\"name\":\"Rect: line (1, 1) to (1, 0)\",\"x\":[1,1],\"y\":[1,0],\"type\":\"scatter\"},{\"line\":{\"color\":\"blue\",\"width\":3},\"mode\":\"lines+markers\",\"name\":\"Rect: line (4, 1) to (4, 0)\",\"x\":[4,4],\"y\":[1,0],\"type\":\"scatter\"},{\"line\":{\"color\":\"blue\",\"width\":3},\"mode\":\"lines+markers\",\"name\":\"Rect: line (1, 1) to (4, 1)\",\"x\":[1,4],\"y\":[1,1],\"type\":\"scatter\"},{\"line\":{\"color\":\"blue\",\"width\":3},\"mode\":\"lines+markers\",\"name\":\"Rect: line (1, 0) to (4, 0)\",\"x\":[1,4],\"y\":[0,0],\"type\":\"scatter\"},{\"line\":{\"color\":\"red\",\"width\":3},\"mode\":\"lines+markers\",\"name\":\"Rect: line (-2, 2) to (-2, -5)\",\"x\":[-2,-2],\"y\":[2,-5],\"type\":\"scatter\"},{\"line\":{\"color\":\"red\",\"width\":3},\"mode\":\"lines+markers\",\"name\":\"Rect: line (4, 2) to (4, -5)\",\"x\":[4,4],\"y\":[2,-5],\"type\":\"scatter\"},{\"line\":{\"color\":\"red\",\"width\":3},\"mode\":\"lines+markers\",\"name\":\"Rect: line (-2, 2) to (4, 2)\",\"x\":[-2,4],\"y\":[2,2],\"type\":\"scatter\"},{\"line\":{\"color\":\"red\",\"width\":3},\"mode\":\"lines+markers\",\"name\":\"Rect: line (-2, -5) to (4, -5)\",\"x\":[-2,4],\"y\":[-5,-5],\"type\":\"scatter\"},{\"line\":{\"color\":\"blue\",\"width\":3},\"mode\":\"lines+markers\",\"name\":\"Rect: line (0, -3) to (0, -5)\",\"x\":[0,0],\"y\":[-3,-5],\"type\":\"scatter\"},{\"line\":{\"color\":\"blue\",\"width\":3},\"mode\":\"lines+markers\",\"name\":\"Rect: line (2, -3) to (2, -5)\",\"x\":[2,2],\"y\":[-3,-5],\"type\":\"scatter\"},{\"line\":{\"color\":\"blue\",\"width\":3},\"mode\":\"lines+markers\",\"name\":\"Rect: line (0, -3) to (2, -3)\",\"x\":[0,2],\"y\":[-3,-3],\"type\":\"scatter\"},{\"line\":{\"color\":\"blue\",\"width\":3},\"mode\":\"lines+markers\",\"name\":\"Rect: line (0, -5) to (2, -5)\",\"x\":[0,2],\"y\":[-5,-5],\"type\":\"scatter\"},{\"line\":{\"color\":\"blue\",\"width\":3},\"mode\":\"lines+markers\",\"name\":\"Rect: line (1, 1) to (1, 0)\",\"x\":[1,1],\"y\":[1,0],\"type\":\"scatter\"},{\"line\":{\"color\":\"blue\",\"width\":3},\"mode\":\"lines+markers\",\"name\":\"Rect: line (4, 1) to (4, 0)\",\"x\":[4,4],\"y\":[1,0],\"type\":\"scatter\"},{\"line\":{\"color\":\"blue\",\"width\":3},\"mode\":\"lines+markers\",\"name\":\"Rect: line (1, 1) to (4, 1)\",\"x\":[1,4],\"y\":[1,1],\"type\":\"scatter\"},{\"line\":{\"color\":\"blue\",\"width\":3},\"mode\":\"lines+markers\",\"name\":\"Rect: line (1, 0) to (4, 0)\",\"x\":[1,4],\"y\":[0,0],\"type\":\"scatter\"},{\"line\":{\"color\":\"yellow\",\"width\":3},\"mode\":\"lines+markers\",\"name\":\"Line segment (-2, 2) to (1, 6)\",\"x\":[-2,1],\"y\":[2,6],\"type\":\"scatter\"},{\"line\":{\"color\":\"yellow\",\"width\":3},\"mode\":\"lines+markers\",\"name\":\"Line segment (-1, 2) to (1, 6)\",\"x\":[-1,1],\"y\":[2,6],\"type\":\"scatter\"},{\"line\":{\"color\":\"yellow\",\"width\":3},\"mode\":\"lines+markers\",\"name\":\"Line segment (0, 2) to (1, 6)\",\"x\":[0,1],\"y\":[2,6],\"type\":\"scatter\"},{\"line\":{\"color\":\"yellow\",\"width\":3},\"mode\":\"lines+markers\",\"name\":\"Line segment (1, 2) to (1, 6)\",\"x\":[1,1],\"y\":[2,6],\"type\":\"scatter\"},{\"line\":{\"color\":\"yellow\",\"width\":3},\"mode\":\"lines+markers\",\"name\":\"Line segment (2, 2) to (1, 6)\",\"x\":[2,1],\"y\":[2,6],\"type\":\"scatter\"},{\"line\":{\"color\":\"yellow\",\"width\":3},\"mode\":\"lines+markers\",\"name\":\"Line segment (3, 2) to (1, 6)\",\"x\":[3,1],\"y\":[2,6],\"type\":\"scatter\"},{\"line\":{\"color\":\"yellow\",\"width\":3},\"mode\":\"lines+markers\",\"name\":\"Line segment (4, 2) to (1, 6)\",\"x\":[4,1],\"y\":[2,6],\"type\":\"scatter\"}],                        {\"template\":{\"data\":{\"bar\":[{\"error_x\":{\"color\":\"#2a3f5f\"},\"error_y\":{\"color\":\"#2a3f5f\"},\"marker\":{\"line\":{\"color\":\"#E5ECF6\",\"width\":0.5},\"pattern\":{\"fillmode\":\"overlay\",\"size\":10,\"solidity\":0.2}},\"type\":\"bar\"}],\"barpolar\":[{\"marker\":{\"line\":{\"color\":\"#E5ECF6\",\"width\":0.5},\"pattern\":{\"fillmode\":\"overlay\",\"size\":10,\"solidity\":0.2}},\"type\":\"barpolar\"}],\"carpet\":[{\"aaxis\":{\"endlinecolor\":\"#2a3f5f\",\"gridcolor\":\"white\",\"linecolor\":\"white\",\"minorgridcolor\":\"white\",\"startlinecolor\":\"#2a3f5f\"},\"baxis\":{\"endlinecolor\":\"#2a3f5f\",\"gridcolor\":\"white\",\"linecolor\":\"white\",\"minorgridcolor\":\"white\",\"startlinecolor\":\"#2a3f5f\"},\"type\":\"carpet\"}],\"choropleth\":[{\"colorbar\":{\"outlinewidth\":0,\"ticks\":\"\"},\"type\":\"choropleth\"}],\"contour\":[{\"colorbar\":{\"outlinewidth\":0,\"ticks\":\"\"},\"colorscale\":[[0.0,\"#0d0887\"],[0.1111111111111111,\"#46039f\"],[0.2222222222222222,\"#7201a8\"],[0.3333333333333333,\"#9c179e\"],[0.4444444444444444,\"#bd3786\"],[0.5555555555555556,\"#d8576b\"],[0.6666666666666666,\"#ed7953\"],[0.7777777777777778,\"#fb9f3a\"],[0.8888888888888888,\"#fdca26\"],[1.0,\"#f0f921\"]],\"type\":\"contour\"}],\"contourcarpet\":[{\"colorbar\":{\"outlinewidth\":0,\"ticks\":\"\"},\"type\":\"contourcarpet\"}],\"heatmap\":[{\"colorbar\":{\"outlinewidth\":0,\"ticks\":\"\"},\"colorscale\":[[0.0,\"#0d0887\"],[0.1111111111111111,\"#46039f\"],[0.2222222222222222,\"#7201a8\"],[0.3333333333333333,\"#9c179e\"],[0.4444444444444444,\"#bd3786\"],[0.5555555555555556,\"#d8576b\"],[0.6666666666666666,\"#ed7953\"],[0.7777777777777778,\"#fb9f3a\"],[0.8888888888888888,\"#fdca26\"],[1.0,\"#f0f921\"]],\"type\":\"heatmap\"}],\"heatmapgl\":[{\"colorbar\":{\"outlinewidth\":0,\"ticks\":\"\"},\"colorscale\":[[0.0,\"#0d0887\"],[0.1111111111111111,\"#46039f\"],[0.2222222222222222,\"#7201a8\"],[0.3333333333333333,\"#9c179e\"],[0.4444444444444444,\"#bd3786\"],[0.5555555555555556,\"#d8576b\"],[0.6666666666666666,\"#ed7953\"],[0.7777777777777778,\"#fb9f3a\"],[0.8888888888888888,\"#fdca26\"],[1.0,\"#f0f921\"]],\"type\":\"heatmapgl\"}],\"histogram\":[{\"marker\":{\"pattern\":{\"fillmode\":\"overlay\",\"size\":10,\"solidity\":0.2}},\"type\":\"histogram\"}],\"histogram2d\":[{\"colorbar\":{\"outlinewidth\":0,\"ticks\":\"\"},\"colorscale\":[[0.0,\"#0d0887\"],[0.1111111111111111,\"#46039f\"],[0.2222222222222222,\"#7201a8\"],[0.3333333333333333,\"#9c179e\"],[0.4444444444444444,\"#bd3786\"],[0.5555555555555556,\"#d8576b\"],[0.6666666666666666,\"#ed7953\"],[0.7777777777777778,\"#fb9f3a\"],[0.8888888888888888,\"#fdca26\"],[1.0,\"#f0f921\"]],\"type\":\"histogram2d\"}],\"histogram2dcontour\":[{\"colorbar\":{\"outlinewidth\":0,\"ticks\":\"\"},\"colorscale\":[[0.0,\"#0d0887\"],[0.1111111111111111,\"#46039f\"],[0.2222222222222222,\"#7201a8\"],[0.3333333333333333,\"#9c179e\"],[0.4444444444444444,\"#bd3786\"],[0.5555555555555556,\"#d8576b\"],[0.6666666666666666,\"#ed7953\"],[0.7777777777777778,\"#fb9f3a\"],[0.8888888888888888,\"#fdca26\"],[1.0,\"#f0f921\"]],\"type\":\"histogram2dcontour\"}],\"mesh3d\":[{\"colorbar\":{\"outlinewidth\":0,\"ticks\":\"\"},\"type\":\"mesh3d\"}],\"parcoords\":[{\"line\":{\"colorbar\":{\"outlinewidth\":0,\"ticks\":\"\"}},\"type\":\"parcoords\"}],\"pie\":[{\"automargin\":true,\"type\":\"pie\"}],\"scatter\":[{\"marker\":{\"colorbar\":{\"outlinewidth\":0,\"ticks\":\"\"}},\"type\":\"scatter\"}],\"scatter3d\":[{\"line\":{\"colorbar\":{\"outlinewidth\":0,\"ticks\":\"\"}},\"marker\":{\"colorbar\":{\"outlinewidth\":0,\"ticks\":\"\"}},\"type\":\"scatter3d\"}],\"scattercarpet\":[{\"marker\":{\"colorbar\":{\"outlinewidth\":0,\"ticks\":\"\"}},\"type\":\"scattercarpet\"}],\"scattergeo\":[{\"marker\":{\"colorbar\":{\"outlinewidth\":0,\"ticks\":\"\"}},\"type\":\"scattergeo\"}],\"scattergl\":[{\"marker\":{\"colorbar\":{\"outlinewidth\":0,\"ticks\":\"\"}},\"type\":\"scattergl\"}],\"scattermapbox\":[{\"marker\":{\"colorbar\":{\"outlinewidth\":0,\"ticks\":\"\"}},\"type\":\"scattermapbox\"}],\"scatterpolar\":[{\"marker\":{\"colorbar\":{\"outlinewidth\":0,\"ticks\":\"\"}},\"type\":\"scatterpolar\"}],\"scatterpolargl\":[{\"marker\":{\"colorbar\":{\"outlinewidth\":0,\"ticks\":\"\"}},\"type\":\"scatterpolargl\"}],\"scatterternary\":[{\"marker\":{\"colorbar\":{\"outlinewidth\":0,\"ticks\":\"\"}},\"type\":\"scatterternary\"}],\"surface\":[{\"colorbar\":{\"outlinewidth\":0,\"ticks\":\"\"},\"colorscale\":[[0.0,\"#0d0887\"],[0.1111111111111111,\"#46039f\"],[0.2222222222222222,\"#7201a8\"],[0.3333333333333333,\"#9c179e\"],[0.4444444444444444,\"#bd3786\"],[0.5555555555555556,\"#d8576b\"],[0.6666666666666666,\"#ed7953\"],[0.7777777777777778,\"#fb9f3a\"],[0.8888888888888888,\"#fdca26\"],[1.0,\"#f0f921\"]],\"type\":\"surface\"}],\"table\":[{\"cells\":{\"fill\":{\"color\":\"#EBF0F8\"},\"line\":{\"color\":\"white\"}},\"header\":{\"fill\":{\"color\":\"#C8D4E3\"},\"line\":{\"color\":\"white\"}},\"type\":\"table\"}]},\"layout\":{\"annotationdefaults\":{\"arrowcolor\":\"#2a3f5f\",\"arrowhead\":0,\"arrowwidth\":1},\"autotypenumbers\":\"strict\",\"coloraxis\":{\"colorbar\":{\"outlinewidth\":0,\"ticks\":\"\"}},\"colorscale\":{\"diverging\":[[0,\"#8e0152\"],[0.1,\"#c51b7d\"],[0.2,\"#de77ae\"],[0.3,\"#f1b6da\"],[0.4,\"#fde0ef\"],[0.5,\"#f7f7f7\"],[0.6,\"#e6f5d0\"],[0.7,\"#b8e186\"],[0.8,\"#7fbc41\"],[0.9,\"#4d9221\"],[1,\"#276419\"]],\"sequential\":[[0.0,\"#0d0887\"],[0.1111111111111111,\"#46039f\"],[0.2222222222222222,\"#7201a8\"],[0.3333333333333333,\"#9c179e\"],[0.4444444444444444,\"#bd3786\"],[0.5555555555555556,\"#d8576b\"],[0.6666666666666666,\"#ed7953\"],[0.7777777777777778,\"#fb9f3a\"],[0.8888888888888888,\"#fdca26\"],[1.0,\"#f0f921\"]],\"sequentialminus\":[[0.0,\"#0d0887\"],[0.1111111111111111,\"#46039f\"],[0.2222222222222222,\"#7201a8\"],[0.3333333333333333,\"#9c179e\"],[0.4444444444444444,\"#bd3786\"],[0.5555555555555556,\"#d8576b\"],[0.6666666666666666,\"#ed7953\"],[0.7777777777777778,\"#fb9f3a\"],[0.8888888888888888,\"#fdca26\"],[1.0,\"#f0f921\"]]},\"colorway\":[\"#636efa\",\"#EF553B\",\"#00cc96\",\"#ab63fa\",\"#FFA15A\",\"#19d3f3\",\"#FF6692\",\"#B6E880\",\"#FF97FF\",\"#FECB52\"],\"font\":{\"color\":\"#2a3f5f\"},\"geo\":{\"bgcolor\":\"white\",\"lakecolor\":\"white\",\"landcolor\":\"#E5ECF6\",\"showlakes\":true,\"showland\":true,\"subunitcolor\":\"white\"},\"hoverlabel\":{\"align\":\"left\"},\"hovermode\":\"closest\",\"mapbox\":{\"style\":\"light\"},\"paper_bgcolor\":\"white\",\"plot_bgcolor\":\"#E5ECF6\",\"polar\":{\"angularaxis\":{\"gridcolor\":\"white\",\"linecolor\":\"white\",\"ticks\":\"\"},\"bgcolor\":\"#E5ECF6\",\"radialaxis\":{\"gridcolor\":\"white\",\"linecolor\":\"white\",\"ticks\":\"\"}},\"scene\":{\"xaxis\":{\"backgroundcolor\":\"#E5ECF6\",\"gridcolor\":\"white\",\"gridwidth\":2,\"linecolor\":\"white\",\"showbackground\":true,\"ticks\":\"\",\"zerolinecolor\":\"white\"},\"yaxis\":{\"backgroundcolor\":\"#E5ECF6\",\"gridcolor\":\"white\",\"gridwidth\":2,\"linecolor\":\"white\",\"showbackground\":true,\"ticks\":\"\",\"zerolinecolor\":\"white\"},\"zaxis\":{\"backgroundcolor\":\"#E5ECF6\",\"gridcolor\":\"white\",\"gridwidth\":2,\"linecolor\":\"white\",\"showbackground\":true,\"ticks\":\"\",\"zerolinecolor\":\"white\"}},\"shapedefaults\":{\"line\":{\"color\":\"#2a3f5f\"}},\"ternary\":{\"aaxis\":{\"gridcolor\":\"white\",\"linecolor\":\"white\",\"ticks\":\"\"},\"baxis\":{\"gridcolor\":\"white\",\"linecolor\":\"white\",\"ticks\":\"\"},\"bgcolor\":\"#E5ECF6\",\"caxis\":{\"gridcolor\":\"white\",\"linecolor\":\"white\",\"ticks\":\"\"}},\"title\":{\"x\":0.05},\"xaxis\":{\"automargin\":true,\"gridcolor\":\"white\",\"linecolor\":\"white\",\"ticks\":\"\",\"title\":{\"standoff\":15},\"zerolinecolor\":\"white\",\"zerolinewidth\":2},\"yaxis\":{\"automargin\":true,\"gridcolor\":\"white\",\"linecolor\":\"white\",\"ticks\":\"\",\"title\":{\"standoff\":15},\"zerolinecolor\":\"white\",\"zerolinewidth\":2}}},\"yaxis\":{\"range\":[-20.0,25.0],\"showgrid\":false,\"gridwidth\":1,\"gridcolor\":\"red\",\"scaleanchor\":\"x\",\"scaleratio\":1,\"automargin\":false,\"tickmode\":\"linear\",\"tick0\":-20.0,\"dtick\":1.0,\"visible\":false},\"xaxis\":{\"range\":[-20.0,25.0],\"showgrid\":false,\"gridwidth\":1,\"gridcolor\":\"red\",\"automargin\":false,\"tickmode\":\"linear\",\"tick0\":-20.0,\"dtick\":1.0,\"visible\":false},\"height\":920.0,\"width\":920.0,\"autosize\":false,\"showlegend\":false},                        {\"responsive\": true}                    ).then(function(){\n",
              "                            \n",
              "var gd = document.getElementById('3e222deb-0920-41f8-91ab-33fdc5a0e84b');\n",
              "var x = new MutationObserver(function (mutations, observer) {{\n",
              "        var display = window.getComputedStyle(gd).display;\n",
              "        if (!display || display === 'none') {{\n",
              "            console.log([gd, 'removed!']);\n",
              "            Plotly.purge(gd);\n",
              "            observer.disconnect();\n",
              "        }}\n",
              "}});\n",
              "\n",
              "// Listen for the removal of the full notebook cells\n",
              "var notebookContainer = gd.closest('#notebook-container');\n",
              "if (notebookContainer) {{\n",
              "    x.observe(notebookContainer, {childList: true});\n",
              "}}\n",
              "\n",
              "// Listen for the clearing of the current output cell\n",
              "var outputEl = gd.closest('.output');\n",
              "if (outputEl) {{\n",
              "    x.observe(outputEl, {childList: true});\n",
              "}}\n",
              "\n",
              "                        })                };                            </script>        </div>\n",
              "</body>\n",
              "</html>"
            ]
          },
          "metadata": {}
        },
        {
          "output_type": "display_data",
          "data": {
            "text/html": [
              "<html>\n",
              "<head><meta charset=\"utf-8\" /></head>\n",
              "<body>\n",
              "    <div>            <script src=\"https://cdnjs.cloudflare.com/ajax/libs/mathjax/2.7.5/MathJax.js?config=TeX-AMS-MML_SVG\"></script><script type=\"text/javascript\">if (window.MathJax) {MathJax.Hub.Config({SVG: {font: \"STIX-Web\"}});}</script>                <script type=\"text/javascript\">window.PlotlyConfig = {MathJaxConfig: 'local'};</script>\n",
              "        <script src=\"https://cdn.plot.ly/plotly-2.8.3.min.js\"></script>                <div id=\"a25ec694-ea02-4efb-aa12-ec022afdbafa\" class=\"plotly-graph-div\" style=\"height:920.0px; width:920.0px;\"></div>            <script type=\"text/javascript\">                                    window.PLOTLYENV=window.PLOTLYENV || {};                                    if (document.getElementById(\"a25ec694-ea02-4efb-aa12-ec022afdbafa\")) {                    Plotly.newPlot(                        \"a25ec694-ea02-4efb-aa12-ec022afdbafa\",                        [{\"line\":{\"color\":\"red\",\"width\":5},\"mode\":\"lines+markers\",\"name\":\"Rect: line (-2, 2) to (-2, -5)\",\"x\":[-2,-2],\"y\":[2,-5],\"type\":\"scatter\"},{\"line\":{\"color\":\"red\",\"width\":5},\"mode\":\"lines+markers\",\"name\":\"Rect: line (4, 2) to (4, -5)\",\"x\":[4,4],\"y\":[2,-5],\"type\":\"scatter\"},{\"line\":{\"color\":\"red\",\"width\":5},\"mode\":\"lines+markers\",\"name\":\"Rect: line (-2, 2) to (4, 2)\",\"x\":[-2,4],\"y\":[2,2],\"type\":\"scatter\"},{\"line\":{\"color\":\"red\",\"width\":5},\"mode\":\"lines+markers\",\"name\":\"Rect: line (-2, -5) to (4, -5)\",\"x\":[-2,4],\"y\":[-5,-5],\"type\":\"scatter\"},{\"line\":{\"color\":\"red\",\"width\":3},\"mode\":\"lines+markers\",\"name\":\"Rect: line (-2, 2) to (-2, -5)\",\"x\":[-2,-2],\"y\":[2,-5],\"type\":\"scatter\"},{\"line\":{\"color\":\"red\",\"width\":3},\"mode\":\"lines+markers\",\"name\":\"Rect: line (4, 2) to (4, -5)\",\"x\":[4,4],\"y\":[2,-5],\"type\":\"scatter\"},{\"line\":{\"color\":\"red\",\"width\":3},\"mode\":\"lines+markers\",\"name\":\"Rect: line (-2, 2) to (4, 2)\",\"x\":[-2,4],\"y\":[2,2],\"type\":\"scatter\"},{\"line\":{\"color\":\"red\",\"width\":3},\"mode\":\"lines+markers\",\"name\":\"Rect: line (-2, -5) to (4, -5)\",\"x\":[-2,4],\"y\":[-5,-5],\"type\":\"scatter\"},{\"line\":{\"color\":\"blue\",\"width\":3},\"mode\":\"lines+markers\",\"name\":\"Rect: line (0, -3) to (0, -5)\",\"x\":[0,0],\"y\":[-3,-5],\"type\":\"scatter\"},{\"line\":{\"color\":\"blue\",\"width\":3},\"mode\":\"lines+markers\",\"name\":\"Rect: line (2, -3) to (2, -5)\",\"x\":[2,2],\"y\":[-3,-5],\"type\":\"scatter\"},{\"line\":{\"color\":\"blue\",\"width\":3},\"mode\":\"lines+markers\",\"name\":\"Rect: line (0, -3) to (2, -3)\",\"x\":[0,2],\"y\":[-3,-3],\"type\":\"scatter\"},{\"line\":{\"color\":\"blue\",\"width\":3},\"mode\":\"lines+markers\",\"name\":\"Rect: line (0, -5) to (2, -5)\",\"x\":[0,2],\"y\":[-5,-5],\"type\":\"scatter\"},{\"line\":{\"color\":\"blue\",\"width\":3},\"mode\":\"lines+markers\",\"name\":\"Rect: line (1, 1) to (1, 0)\",\"x\":[1,1],\"y\":[1,0],\"type\":\"scatter\"},{\"line\":{\"color\":\"blue\",\"width\":3},\"mode\":\"lines+markers\",\"name\":\"Rect: line (4, 1) to (4, 0)\",\"x\":[4,4],\"y\":[1,0],\"type\":\"scatter\"},{\"line\":{\"color\":\"blue\",\"width\":3},\"mode\":\"lines+markers\",\"name\":\"Rect: line (1, 1) to (4, 1)\",\"x\":[1,4],\"y\":[1,1],\"type\":\"scatter\"},{\"line\":{\"color\":\"blue\",\"width\":3},\"mode\":\"lines+markers\",\"name\":\"Rect: line (1, 0) to (4, 0)\",\"x\":[1,4],\"y\":[0,0],\"type\":\"scatter\"},{\"line\":{\"color\":\"red\",\"width\":3},\"mode\":\"lines+markers\",\"name\":\"Rect: line (-2, 2) to (-2, -5)\",\"x\":[-2,-2],\"y\":[2,-5],\"type\":\"scatter\"},{\"line\":{\"color\":\"red\",\"width\":3},\"mode\":\"lines+markers\",\"name\":\"Rect: line (4, 2) to (4, -5)\",\"x\":[4,4],\"y\":[2,-5],\"type\":\"scatter\"},{\"line\":{\"color\":\"red\",\"width\":3},\"mode\":\"lines+markers\",\"name\":\"Rect: line (-2, 2) to (4, 2)\",\"x\":[-2,4],\"y\":[2,2],\"type\":\"scatter\"},{\"line\":{\"color\":\"red\",\"width\":3},\"mode\":\"lines+markers\",\"name\":\"Rect: line (-2, -5) to (4, -5)\",\"x\":[-2,4],\"y\":[-5,-5],\"type\":\"scatter\"},{\"line\":{\"color\":\"blue\",\"width\":3},\"mode\":\"lines+markers\",\"name\":\"Rect: line (0, -3) to (0, -5)\",\"x\":[0,0],\"y\":[-3,-5],\"type\":\"scatter\"},{\"line\":{\"color\":\"blue\",\"width\":3},\"mode\":\"lines+markers\",\"name\":\"Rect: line (2, -3) to (2, -5)\",\"x\":[2,2],\"y\":[-3,-5],\"type\":\"scatter\"},{\"line\":{\"color\":\"blue\",\"width\":3},\"mode\":\"lines+markers\",\"name\":\"Rect: line (0, -3) to (2, -3)\",\"x\":[0,2],\"y\":[-3,-3],\"type\":\"scatter\"},{\"line\":{\"color\":\"blue\",\"width\":3},\"mode\":\"lines+markers\",\"name\":\"Rect: line (0, -5) to (2, -5)\",\"x\":[0,2],\"y\":[-5,-5],\"type\":\"scatter\"},{\"line\":{\"color\":\"blue\",\"width\":3},\"mode\":\"lines+markers\",\"name\":\"Rect: line (1, 1) to (1, 0)\",\"x\":[1,1],\"y\":[1,0],\"type\":\"scatter\"},{\"line\":{\"color\":\"blue\",\"width\":3},\"mode\":\"lines+markers\",\"name\":\"Rect: line (4, 1) to (4, 0)\",\"x\":[4,4],\"y\":[1,0],\"type\":\"scatter\"},{\"line\":{\"color\":\"blue\",\"width\":3},\"mode\":\"lines+markers\",\"name\":\"Rect: line (1, 1) to (4, 1)\",\"x\":[1,4],\"y\":[1,1],\"type\":\"scatter\"},{\"line\":{\"color\":\"blue\",\"width\":3},\"mode\":\"lines+markers\",\"name\":\"Rect: line (1, 0) to (4, 0)\",\"x\":[1,4],\"y\":[0,0],\"type\":\"scatter\"},{\"line\":{\"color\":\"yellow\",\"width\":3},\"mode\":\"lines+markers\",\"name\":\"Line segment (-2, 2) to (1, 6)\",\"x\":[-2,1],\"y\":[2,6],\"type\":\"scatter\"},{\"line\":{\"color\":\"yellow\",\"width\":3},\"mode\":\"lines+markers\",\"name\":\"Line segment (-1, 2) to (1, 6)\",\"x\":[-1,1],\"y\":[2,6],\"type\":\"scatter\"},{\"line\":{\"color\":\"yellow\",\"width\":3},\"mode\":\"lines+markers\",\"name\":\"Line segment (0, 2) to (1, 6)\",\"x\":[0,1],\"y\":[2,6],\"type\":\"scatter\"},{\"line\":{\"color\":\"yellow\",\"width\":3},\"mode\":\"lines+markers\",\"name\":\"Line segment (1, 2) to (1, 6)\",\"x\":[1,1],\"y\":[2,6],\"type\":\"scatter\"},{\"line\":{\"color\":\"yellow\",\"width\":3},\"mode\":\"lines+markers\",\"name\":\"Line segment (2, 2) to (1, 6)\",\"x\":[2,1],\"y\":[2,6],\"type\":\"scatter\"},{\"line\":{\"color\":\"yellow\",\"width\":3},\"mode\":\"lines+markers\",\"name\":\"Line segment (3, 2) to (1, 6)\",\"x\":[3,1],\"y\":[2,6],\"type\":\"scatter\"},{\"line\":{\"color\":\"yellow\",\"width\":3},\"mode\":\"lines+markers\",\"name\":\"Line segment (4, 2) to (1, 6)\",\"x\":[4,1],\"y\":[2,6],\"type\":\"scatter\"},{\"line\":{\"color\":\"red\",\"width\":3},\"mode\":\"lines+markers\",\"name\":\"Rect: line (-2, 2) to (-2, -5)\",\"x\":[-2,-2],\"y\":[2,-5],\"type\":\"scatter\"},{\"line\":{\"color\":\"red\",\"width\":3},\"mode\":\"lines+markers\",\"name\":\"Rect: line (4, 2) to (4, -5)\",\"x\":[4,4],\"y\":[2,-5],\"type\":\"scatter\"},{\"line\":{\"color\":\"red\",\"width\":3},\"mode\":\"lines+markers\",\"name\":\"Rect: line (-2, 2) to (4, 2)\",\"x\":[-2,4],\"y\":[2,2],\"type\":\"scatter\"},{\"line\":{\"color\":\"red\",\"width\":3},\"mode\":\"lines+markers\",\"name\":\"Rect: line (-2, -5) to (4, -5)\",\"x\":[-2,4],\"y\":[-5,-5],\"type\":\"scatter\"},{\"line\":{\"color\":\"blue\",\"width\":3},\"mode\":\"lines+markers\",\"name\":\"Rect: line (0, -3) to (0, -5)\",\"x\":[0,0],\"y\":[-3,-5],\"type\":\"scatter\"},{\"line\":{\"color\":\"blue\",\"width\":3},\"mode\":\"lines+markers\",\"name\":\"Rect: line (2, -3) to (2, -5)\",\"x\":[2,2],\"y\":[-3,-5],\"type\":\"scatter\"},{\"line\":{\"color\":\"blue\",\"width\":3},\"mode\":\"lines+markers\",\"name\":\"Rect: line (0, -3) to (2, -3)\",\"x\":[0,2],\"y\":[-3,-3],\"type\":\"scatter\"},{\"line\":{\"color\":\"blue\",\"width\":3},\"mode\":\"lines+markers\",\"name\":\"Rect: line (0, -5) to (2, -5)\",\"x\":[0,2],\"y\":[-5,-5],\"type\":\"scatter\"},{\"line\":{\"color\":\"blue\",\"width\":3},\"mode\":\"lines+markers\",\"name\":\"Rect: line (1, 1) to (1, 0)\",\"x\":[1,1],\"y\":[1,0],\"type\":\"scatter\"},{\"line\":{\"color\":\"blue\",\"width\":3},\"mode\":\"lines+markers\",\"name\":\"Rect: line (4, 1) to (4, 0)\",\"x\":[4,4],\"y\":[1,0],\"type\":\"scatter\"},{\"line\":{\"color\":\"blue\",\"width\":3},\"mode\":\"lines+markers\",\"name\":\"Rect: line (1, 1) to (4, 1)\",\"x\":[1,4],\"y\":[1,1],\"type\":\"scatter\"},{\"line\":{\"color\":\"blue\",\"width\":3},\"mode\":\"lines+markers\",\"name\":\"Rect: line (1, 0) to (4, 0)\",\"x\":[1,4],\"y\":[0,0],\"type\":\"scatter\"},{\"line\":{\"color\":\"yellow\",\"width\":3},\"mode\":\"lines+markers\",\"name\":\"Line segment (-2, 2) to (1, 6)\",\"x\":[-2,1],\"y\":[2,6],\"type\":\"scatter\"},{\"line\":{\"color\":\"yellow\",\"width\":3},\"mode\":\"lines+markers\",\"name\":\"Line segment (-1, 2) to (1, 6)\",\"x\":[-1,1],\"y\":[2,6],\"type\":\"scatter\"},{\"line\":{\"color\":\"yellow\",\"width\":3},\"mode\":\"lines+markers\",\"name\":\"Line segment (0, 2) to (1, 6)\",\"x\":[0,1],\"y\":[2,6],\"type\":\"scatter\"},{\"line\":{\"color\":\"yellow\",\"width\":3},\"mode\":\"lines+markers\",\"name\":\"Line segment (1, 2) to (1, 6)\",\"x\":[1,1],\"y\":[2,6],\"type\":\"scatter\"},{\"line\":{\"color\":\"yellow\",\"width\":3},\"mode\":\"lines+markers\",\"name\":\"Line segment (2, 2) to (1, 6)\",\"x\":[2,1],\"y\":[2,6],\"type\":\"scatter\"},{\"line\":{\"color\":\"yellow\",\"width\":3},\"mode\":\"lines+markers\",\"name\":\"Line segment (3, 2) to (1, 6)\",\"x\":[3,1],\"y\":[2,6],\"type\":\"scatter\"},{\"line\":{\"color\":\"yellow\",\"width\":3},\"mode\":\"lines+markers\",\"name\":\"Line segment (4, 2) to (1, 6)\",\"x\":[4,1],\"y\":[2,6],\"type\":\"scatter\"},{\"line\":{\"color\":\"green\",\"width\":3},\"mode\":\"lines+markers\",\"name\":\"Line segment (-5, -8) to (-4, -7)\",\"x\":[-5,-4],\"y\":[-8,-7],\"type\":\"scatter\"},{\"line\":{\"color\":\"green\",\"width\":3},\"mode\":\"lines+markers\",\"name\":\"Line segment (-4, -8) to (-3, -7)\",\"x\":[-4,-3],\"y\":[-8,-7],\"type\":\"scatter\"},{\"line\":{\"color\":\"green\",\"width\":3},\"mode\":\"lines+markers\",\"name\":\"Line segment (-3, -8) to (-2, -7)\",\"x\":[-3,-2],\"y\":[-8,-7],\"type\":\"scatter\"},{\"line\":{\"color\":\"green\",\"width\":3},\"mode\":\"lines+markers\",\"name\":\"Line segment (-2, -8) to (-1, -7)\",\"x\":[-2,-1],\"y\":[-8,-7],\"type\":\"scatter\"},{\"line\":{\"color\":\"green\",\"width\":3},\"mode\":\"lines+markers\",\"name\":\"Line segment (-1, -8) to (0, -7)\",\"x\":[-1,0],\"y\":[-8,-7],\"type\":\"scatter\"},{\"line\":{\"color\":\"green\",\"width\":3},\"mode\":\"lines+markers\",\"name\":\"Line segment (0, -8) to (1, -7)\",\"x\":[0,1],\"y\":[-8,-7],\"type\":\"scatter\"},{\"line\":{\"color\":\"green\",\"width\":3},\"mode\":\"lines+markers\",\"name\":\"Line segment (1, -8) to (2, -7)\",\"x\":[1,2],\"y\":[-8,-7],\"type\":\"scatter\"},{\"line\":{\"color\":\"green\",\"width\":3},\"mode\":\"lines+markers\",\"name\":\"Line segment (2, -8) to (3, -7)\",\"x\":[2,3],\"y\":[-8,-7],\"type\":\"scatter\"},{\"line\":{\"color\":\"green\",\"width\":3},\"mode\":\"lines+markers\",\"name\":\"Line segment (3, -8) to (4, -7)\",\"x\":[3,4],\"y\":[-8,-7],\"type\":\"scatter\"},{\"line\":{\"color\":\"green\",\"width\":3},\"mode\":\"lines+markers\",\"name\":\"Line segment (4, -8) to (5, -7)\",\"x\":[4,5],\"y\":[-8,-7],\"type\":\"scatter\"},{\"line\":{\"color\":\"green\",\"width\":3},\"mode\":\"lines+markers\",\"name\":\"Line segment (5, -8) to (6, -7)\",\"x\":[5,6],\"y\":[-8,-7],\"type\":\"scatter\"},{\"line\":{\"color\":\"green\",\"width\":3},\"mode\":\"lines+markers\",\"name\":\"Line segment (6, -8) to (7, -7)\",\"x\":[6,7],\"y\":[-8,-7],\"type\":\"scatter\"},{\"line\":{\"color\":\"green\",\"width\":3},\"mode\":\"lines+markers\",\"name\":\"Line segment (7, -8) to (8, -7)\",\"x\":[7,8],\"y\":[-8,-7],\"type\":\"scatter\"},{\"line\":{\"color\":\"green\",\"width\":3},\"mode\":\"lines+markers\",\"name\":\"Line segment (8, -8) to (9, -7)\",\"x\":[8,9],\"y\":[-8,-7],\"type\":\"scatter\"},{\"line\":{\"color\":\"green\",\"width\":3},\"mode\":\"lines+markers\",\"name\":\"Line segment (9, -8) to (10, -7)\",\"x\":[9,10],\"y\":[-8,-7],\"type\":\"scatter\"}],                        {\"template\":{\"data\":{\"bar\":[{\"error_x\":{\"color\":\"#2a3f5f\"},\"error_y\":{\"color\":\"#2a3f5f\"},\"marker\":{\"line\":{\"color\":\"#E5ECF6\",\"width\":0.5},\"pattern\":{\"fillmode\":\"overlay\",\"size\":10,\"solidity\":0.2}},\"type\":\"bar\"}],\"barpolar\":[{\"marker\":{\"line\":{\"color\":\"#E5ECF6\",\"width\":0.5},\"pattern\":{\"fillmode\":\"overlay\",\"size\":10,\"solidity\":0.2}},\"type\":\"barpolar\"}],\"carpet\":[{\"aaxis\":{\"endlinecolor\":\"#2a3f5f\",\"gridcolor\":\"white\",\"linecolor\":\"white\",\"minorgridcolor\":\"white\",\"startlinecolor\":\"#2a3f5f\"},\"baxis\":{\"endlinecolor\":\"#2a3f5f\",\"gridcolor\":\"white\",\"linecolor\":\"white\",\"minorgridcolor\":\"white\",\"startlinecolor\":\"#2a3f5f\"},\"type\":\"carpet\"}],\"choropleth\":[{\"colorbar\":{\"outlinewidth\":0,\"ticks\":\"\"},\"type\":\"choropleth\"}],\"contour\":[{\"colorbar\":{\"outlinewidth\":0,\"ticks\":\"\"},\"colorscale\":[[0.0,\"#0d0887\"],[0.1111111111111111,\"#46039f\"],[0.2222222222222222,\"#7201a8\"],[0.3333333333333333,\"#9c179e\"],[0.4444444444444444,\"#bd3786\"],[0.5555555555555556,\"#d8576b\"],[0.6666666666666666,\"#ed7953\"],[0.7777777777777778,\"#fb9f3a\"],[0.8888888888888888,\"#fdca26\"],[1.0,\"#f0f921\"]],\"type\":\"contour\"}],\"contourcarpet\":[{\"colorbar\":{\"outlinewidth\":0,\"ticks\":\"\"},\"type\":\"contourcarpet\"}],\"heatmap\":[{\"colorbar\":{\"outlinewidth\":0,\"ticks\":\"\"},\"colorscale\":[[0.0,\"#0d0887\"],[0.1111111111111111,\"#46039f\"],[0.2222222222222222,\"#7201a8\"],[0.3333333333333333,\"#9c179e\"],[0.4444444444444444,\"#bd3786\"],[0.5555555555555556,\"#d8576b\"],[0.6666666666666666,\"#ed7953\"],[0.7777777777777778,\"#fb9f3a\"],[0.8888888888888888,\"#fdca26\"],[1.0,\"#f0f921\"]],\"type\":\"heatmap\"}],\"heatmapgl\":[{\"colorbar\":{\"outlinewidth\":0,\"ticks\":\"\"},\"colorscale\":[[0.0,\"#0d0887\"],[0.1111111111111111,\"#46039f\"],[0.2222222222222222,\"#7201a8\"],[0.3333333333333333,\"#9c179e\"],[0.4444444444444444,\"#bd3786\"],[0.5555555555555556,\"#d8576b\"],[0.6666666666666666,\"#ed7953\"],[0.7777777777777778,\"#fb9f3a\"],[0.8888888888888888,\"#fdca26\"],[1.0,\"#f0f921\"]],\"type\":\"heatmapgl\"}],\"histogram\":[{\"marker\":{\"pattern\":{\"fillmode\":\"overlay\",\"size\":10,\"solidity\":0.2}},\"type\":\"histogram\"}],\"histogram2d\":[{\"colorbar\":{\"outlinewidth\":0,\"ticks\":\"\"},\"colorscale\":[[0.0,\"#0d0887\"],[0.1111111111111111,\"#46039f\"],[0.2222222222222222,\"#7201a8\"],[0.3333333333333333,\"#9c179e\"],[0.4444444444444444,\"#bd3786\"],[0.5555555555555556,\"#d8576b\"],[0.6666666666666666,\"#ed7953\"],[0.7777777777777778,\"#fb9f3a\"],[0.8888888888888888,\"#fdca26\"],[1.0,\"#f0f921\"]],\"type\":\"histogram2d\"}],\"histogram2dcontour\":[{\"colorbar\":{\"outlinewidth\":0,\"ticks\":\"\"},\"colorscale\":[[0.0,\"#0d0887\"],[0.1111111111111111,\"#46039f\"],[0.2222222222222222,\"#7201a8\"],[0.3333333333333333,\"#9c179e\"],[0.4444444444444444,\"#bd3786\"],[0.5555555555555556,\"#d8576b\"],[0.6666666666666666,\"#ed7953\"],[0.7777777777777778,\"#fb9f3a\"],[0.8888888888888888,\"#fdca26\"],[1.0,\"#f0f921\"]],\"type\":\"histogram2dcontour\"}],\"mesh3d\":[{\"colorbar\":{\"outlinewidth\":0,\"ticks\":\"\"},\"type\":\"mesh3d\"}],\"parcoords\":[{\"line\":{\"colorbar\":{\"outlinewidth\":0,\"ticks\":\"\"}},\"type\":\"parcoords\"}],\"pie\":[{\"automargin\":true,\"type\":\"pie\"}],\"scatter\":[{\"marker\":{\"colorbar\":{\"outlinewidth\":0,\"ticks\":\"\"}},\"type\":\"scatter\"}],\"scatter3d\":[{\"line\":{\"colorbar\":{\"outlinewidth\":0,\"ticks\":\"\"}},\"marker\":{\"colorbar\":{\"outlinewidth\":0,\"ticks\":\"\"}},\"type\":\"scatter3d\"}],\"scattercarpet\":[{\"marker\":{\"colorbar\":{\"outlinewidth\":0,\"ticks\":\"\"}},\"type\":\"scattercarpet\"}],\"scattergeo\":[{\"marker\":{\"colorbar\":{\"outlinewidth\":0,\"ticks\":\"\"}},\"type\":\"scattergeo\"}],\"scattergl\":[{\"marker\":{\"colorbar\":{\"outlinewidth\":0,\"ticks\":\"\"}},\"type\":\"scattergl\"}],\"scattermapbox\":[{\"marker\":{\"colorbar\":{\"outlinewidth\":0,\"ticks\":\"\"}},\"type\":\"scattermapbox\"}],\"scatterpolar\":[{\"marker\":{\"colorbar\":{\"outlinewidth\":0,\"ticks\":\"\"}},\"type\":\"scatterpolar\"}],\"scatterpolargl\":[{\"marker\":{\"colorbar\":{\"outlinewidth\":0,\"ticks\":\"\"}},\"type\":\"scatterpolargl\"}],\"scatterternary\":[{\"marker\":{\"colorbar\":{\"outlinewidth\":0,\"ticks\":\"\"}},\"type\":\"scatterternary\"}],\"surface\":[{\"colorbar\":{\"outlinewidth\":0,\"ticks\":\"\"},\"colorscale\":[[0.0,\"#0d0887\"],[0.1111111111111111,\"#46039f\"],[0.2222222222222222,\"#7201a8\"],[0.3333333333333333,\"#9c179e\"],[0.4444444444444444,\"#bd3786\"],[0.5555555555555556,\"#d8576b\"],[0.6666666666666666,\"#ed7953\"],[0.7777777777777778,\"#fb9f3a\"],[0.8888888888888888,\"#fdca26\"],[1.0,\"#f0f921\"]],\"type\":\"surface\"}],\"table\":[{\"cells\":{\"fill\":{\"color\":\"#EBF0F8\"},\"line\":{\"color\":\"white\"}},\"header\":{\"fill\":{\"color\":\"#C8D4E3\"},\"line\":{\"color\":\"white\"}},\"type\":\"table\"}]},\"layout\":{\"annotationdefaults\":{\"arrowcolor\":\"#2a3f5f\",\"arrowhead\":0,\"arrowwidth\":1},\"autotypenumbers\":\"strict\",\"coloraxis\":{\"colorbar\":{\"outlinewidth\":0,\"ticks\":\"\"}},\"colorscale\":{\"diverging\":[[0,\"#8e0152\"],[0.1,\"#c51b7d\"],[0.2,\"#de77ae\"],[0.3,\"#f1b6da\"],[0.4,\"#fde0ef\"],[0.5,\"#f7f7f7\"],[0.6,\"#e6f5d0\"],[0.7,\"#b8e186\"],[0.8,\"#7fbc41\"],[0.9,\"#4d9221\"],[1,\"#276419\"]],\"sequential\":[[0.0,\"#0d0887\"],[0.1111111111111111,\"#46039f\"],[0.2222222222222222,\"#7201a8\"],[0.3333333333333333,\"#9c179e\"],[0.4444444444444444,\"#bd3786\"],[0.5555555555555556,\"#d8576b\"],[0.6666666666666666,\"#ed7953\"],[0.7777777777777778,\"#fb9f3a\"],[0.8888888888888888,\"#fdca26\"],[1.0,\"#f0f921\"]],\"sequentialminus\":[[0.0,\"#0d0887\"],[0.1111111111111111,\"#46039f\"],[0.2222222222222222,\"#7201a8\"],[0.3333333333333333,\"#9c179e\"],[0.4444444444444444,\"#bd3786\"],[0.5555555555555556,\"#d8576b\"],[0.6666666666666666,\"#ed7953\"],[0.7777777777777778,\"#fb9f3a\"],[0.8888888888888888,\"#fdca26\"],[1.0,\"#f0f921\"]]},\"colorway\":[\"#636efa\",\"#EF553B\",\"#00cc96\",\"#ab63fa\",\"#FFA15A\",\"#19d3f3\",\"#FF6692\",\"#B6E880\",\"#FF97FF\",\"#FECB52\"],\"font\":{\"color\":\"#2a3f5f\"},\"geo\":{\"bgcolor\":\"white\",\"lakecolor\":\"white\",\"landcolor\":\"#E5ECF6\",\"showlakes\":true,\"showland\":true,\"subunitcolor\":\"white\"},\"hoverlabel\":{\"align\":\"left\"},\"hovermode\":\"closest\",\"mapbox\":{\"style\":\"light\"},\"paper_bgcolor\":\"white\",\"plot_bgcolor\":\"#E5ECF6\",\"polar\":{\"angularaxis\":{\"gridcolor\":\"white\",\"linecolor\":\"white\",\"ticks\":\"\"},\"bgcolor\":\"#E5ECF6\",\"radialaxis\":{\"gridcolor\":\"white\",\"linecolor\":\"white\",\"ticks\":\"\"}},\"scene\":{\"xaxis\":{\"backgroundcolor\":\"#E5ECF6\",\"gridcolor\":\"white\",\"gridwidth\":2,\"linecolor\":\"white\",\"showbackground\":true,\"ticks\":\"\",\"zerolinecolor\":\"white\"},\"yaxis\":{\"backgroundcolor\":\"#E5ECF6\",\"gridcolor\":\"white\",\"gridwidth\":2,\"linecolor\":\"white\",\"showbackground\":true,\"ticks\":\"\",\"zerolinecolor\":\"white\"},\"zaxis\":{\"backgroundcolor\":\"#E5ECF6\",\"gridcolor\":\"white\",\"gridwidth\":2,\"linecolor\":\"white\",\"showbackground\":true,\"ticks\":\"\",\"zerolinecolor\":\"white\"}},\"shapedefaults\":{\"line\":{\"color\":\"#2a3f5f\"}},\"ternary\":{\"aaxis\":{\"gridcolor\":\"white\",\"linecolor\":\"white\",\"ticks\":\"\"},\"baxis\":{\"gridcolor\":\"white\",\"linecolor\":\"white\",\"ticks\":\"\"},\"bgcolor\":\"#E5ECF6\",\"caxis\":{\"gridcolor\":\"white\",\"linecolor\":\"white\",\"ticks\":\"\"}},\"title\":{\"x\":0.05},\"xaxis\":{\"automargin\":true,\"gridcolor\":\"white\",\"linecolor\":\"white\",\"ticks\":\"\",\"title\":{\"standoff\":15},\"zerolinecolor\":\"white\",\"zerolinewidth\":2},\"yaxis\":{\"automargin\":true,\"gridcolor\":\"white\",\"linecolor\":\"white\",\"ticks\":\"\",\"title\":{\"standoff\":15},\"zerolinecolor\":\"white\",\"zerolinewidth\":2}}},\"yaxis\":{\"range\":[-20.0,25.0],\"showgrid\":false,\"gridwidth\":1,\"gridcolor\":\"red\",\"scaleanchor\":\"x\",\"scaleratio\":1,\"automargin\":false,\"tickmode\":\"linear\",\"tick0\":-20.0,\"dtick\":1.0,\"visible\":false},\"xaxis\":{\"range\":[-20.0,25.0],\"showgrid\":false,\"gridwidth\":1,\"gridcolor\":\"red\",\"automargin\":false,\"tickmode\":\"linear\",\"tick0\":-20.0,\"dtick\":1.0,\"visible\":false},\"height\":920.0,\"width\":920.0,\"autosize\":false,\"showlegend\":false},                        {\"responsive\": true}                    ).then(function(){\n",
              "                            \n",
              "var gd = document.getElementById('a25ec694-ea02-4efb-aa12-ec022afdbafa');\n",
              "var x = new MutationObserver(function (mutations, observer) {{\n",
              "        var display = window.getComputedStyle(gd).display;\n",
              "        if (!display || display === 'none') {{\n",
              "            console.log([gd, 'removed!']);\n",
              "            Plotly.purge(gd);\n",
              "            observer.disconnect();\n",
              "        }}\n",
              "}});\n",
              "\n",
              "// Listen for the removal of the full notebook cells\n",
              "var notebookContainer = gd.closest('#notebook-container');\n",
              "if (notebookContainer) {{\n",
              "    x.observe(notebookContainer, {childList: true});\n",
              "}}\n",
              "\n",
              "// Listen for the clearing of the current output cell\n",
              "var outputEl = gd.closest('.output');\n",
              "if (outputEl) {{\n",
              "    x.observe(outputEl, {childList: true});\n",
              "}}\n",
              "\n",
              "                        })                };                            </script>        </div>\n",
              "</body>\n",
              "</html>"
            ]
          },
          "metadata": {}
        },
        {
          "output_type": "display_data",
          "data": {
            "text/html": [
              "<html>\n",
              "<head><meta charset=\"utf-8\" /></head>\n",
              "<body>\n",
              "    <div>            <script src=\"https://cdnjs.cloudflare.com/ajax/libs/mathjax/2.7.5/MathJax.js?config=TeX-AMS-MML_SVG\"></script><script type=\"text/javascript\">if (window.MathJax) {MathJax.Hub.Config({SVG: {font: \"STIX-Web\"}});}</script>                <script type=\"text/javascript\">window.PlotlyConfig = {MathJaxConfig: 'local'};</script>\n",
              "        <script src=\"https://cdn.plot.ly/plotly-2.8.3.min.js\"></script>                <div id=\"afc49acc-6058-4d26-8191-31f242009dd6\" class=\"plotly-graph-div\" style=\"height:920.0px; width:920.0px;\"></div>            <script type=\"text/javascript\">                                    window.PLOTLYENV=window.PLOTLYENV || {};                                    if (document.getElementById(\"afc49acc-6058-4d26-8191-31f242009dd6\")) {                    Plotly.newPlot(                        \"afc49acc-6058-4d26-8191-31f242009dd6\",                        [{\"line\":{\"color\":\"red\",\"width\":5},\"mode\":\"lines+markers\",\"name\":\"Rect: line (-2, 2) to (-2, -5)\",\"x\":[-2,-2],\"y\":[2,-5],\"type\":\"scatter\"},{\"line\":{\"color\":\"red\",\"width\":5},\"mode\":\"lines+markers\",\"name\":\"Rect: line (4, 2) to (4, -5)\",\"x\":[4,4],\"y\":[2,-5],\"type\":\"scatter\"},{\"line\":{\"color\":\"red\",\"width\":5},\"mode\":\"lines+markers\",\"name\":\"Rect: line (-2, 2) to (4, 2)\",\"x\":[-2,4],\"y\":[2,2],\"type\":\"scatter\"},{\"line\":{\"color\":\"red\",\"width\":5},\"mode\":\"lines+markers\",\"name\":\"Rect: line (-2, -5) to (4, -5)\",\"x\":[-2,4],\"y\":[-5,-5],\"type\":\"scatter\"},{\"line\":{\"color\":\"red\",\"width\":3},\"mode\":\"lines+markers\",\"name\":\"Rect: line (-2, 2) to (-2, -5)\",\"x\":[-2,-2],\"y\":[2,-5],\"type\":\"scatter\"},{\"line\":{\"color\":\"red\",\"width\":3},\"mode\":\"lines+markers\",\"name\":\"Rect: line (4, 2) to (4, -5)\",\"x\":[4,4],\"y\":[2,-5],\"type\":\"scatter\"},{\"line\":{\"color\":\"red\",\"width\":3},\"mode\":\"lines+markers\",\"name\":\"Rect: line (-2, 2) to (4, 2)\",\"x\":[-2,4],\"y\":[2,2],\"type\":\"scatter\"},{\"line\":{\"color\":\"red\",\"width\":3},\"mode\":\"lines+markers\",\"name\":\"Rect: line (-2, -5) to (4, -5)\",\"x\":[-2,4],\"y\":[-5,-5],\"type\":\"scatter\"},{\"line\":{\"color\":\"blue\",\"width\":3},\"mode\":\"lines+markers\",\"name\":\"Rect: line (0, -3) to (0, -5)\",\"x\":[0,0],\"y\":[-3,-5],\"type\":\"scatter\"},{\"line\":{\"color\":\"blue\",\"width\":3},\"mode\":\"lines+markers\",\"name\":\"Rect: line (2, -3) to (2, -5)\",\"x\":[2,2],\"y\":[-3,-5],\"type\":\"scatter\"},{\"line\":{\"color\":\"blue\",\"width\":3},\"mode\":\"lines+markers\",\"name\":\"Rect: line (0, -3) to (2, -3)\",\"x\":[0,2],\"y\":[-3,-3],\"type\":\"scatter\"},{\"line\":{\"color\":\"blue\",\"width\":3},\"mode\":\"lines+markers\",\"name\":\"Rect: line (0, -5) to (2, -5)\",\"x\":[0,2],\"y\":[-5,-5],\"type\":\"scatter\"},{\"line\":{\"color\":\"blue\",\"width\":3},\"mode\":\"lines+markers\",\"name\":\"Rect: line (1, 1) to (1, 0)\",\"x\":[1,1],\"y\":[1,0],\"type\":\"scatter\"},{\"line\":{\"color\":\"blue\",\"width\":3},\"mode\":\"lines+markers\",\"name\":\"Rect: line (4, 1) to (4, 0)\",\"x\":[4,4],\"y\":[1,0],\"type\":\"scatter\"},{\"line\":{\"color\":\"blue\",\"width\":3},\"mode\":\"lines+markers\",\"name\":\"Rect: line (1, 1) to (4, 1)\",\"x\":[1,4],\"y\":[1,1],\"type\":\"scatter\"},{\"line\":{\"color\":\"blue\",\"width\":3},\"mode\":\"lines+markers\",\"name\":\"Rect: line (1, 0) to (4, 0)\",\"x\":[1,4],\"y\":[0,0],\"type\":\"scatter\"},{\"line\":{\"color\":\"red\",\"width\":3},\"mode\":\"lines+markers\",\"name\":\"Rect: line (-2, 2) to (-2, -5)\",\"x\":[-2,-2],\"y\":[2,-5],\"type\":\"scatter\"},{\"line\":{\"color\":\"red\",\"width\":3},\"mode\":\"lines+markers\",\"name\":\"Rect: line (4, 2) to (4, -5)\",\"x\":[4,4],\"y\":[2,-5],\"type\":\"scatter\"},{\"line\":{\"color\":\"red\",\"width\":3},\"mode\":\"lines+markers\",\"name\":\"Rect: line (-2, 2) to (4, 2)\",\"x\":[-2,4],\"y\":[2,2],\"type\":\"scatter\"},{\"line\":{\"color\":\"red\",\"width\":3},\"mode\":\"lines+markers\",\"name\":\"Rect: line (-2, -5) to (4, -5)\",\"x\":[-2,4],\"y\":[-5,-5],\"type\":\"scatter\"},{\"line\":{\"color\":\"blue\",\"width\":3},\"mode\":\"lines+markers\",\"name\":\"Rect: line (0, -3) to (0, -5)\",\"x\":[0,0],\"y\":[-3,-5],\"type\":\"scatter\"},{\"line\":{\"color\":\"blue\",\"width\":3},\"mode\":\"lines+markers\",\"name\":\"Rect: line (2, -3) to (2, -5)\",\"x\":[2,2],\"y\":[-3,-5],\"type\":\"scatter\"},{\"line\":{\"color\":\"blue\",\"width\":3},\"mode\":\"lines+markers\",\"name\":\"Rect: line (0, -3) to (2, -3)\",\"x\":[0,2],\"y\":[-3,-3],\"type\":\"scatter\"},{\"line\":{\"color\":\"blue\",\"width\":3},\"mode\":\"lines+markers\",\"name\":\"Rect: line (0, -5) to (2, -5)\",\"x\":[0,2],\"y\":[-5,-5],\"type\":\"scatter\"},{\"line\":{\"color\":\"blue\",\"width\":3},\"mode\":\"lines+markers\",\"name\":\"Rect: line (1, 1) to (1, 0)\",\"x\":[1,1],\"y\":[1,0],\"type\":\"scatter\"},{\"line\":{\"color\":\"blue\",\"width\":3},\"mode\":\"lines+markers\",\"name\":\"Rect: line (4, 1) to (4, 0)\",\"x\":[4,4],\"y\":[1,0],\"type\":\"scatter\"},{\"line\":{\"color\":\"blue\",\"width\":3},\"mode\":\"lines+markers\",\"name\":\"Rect: line (1, 1) to (4, 1)\",\"x\":[1,4],\"y\":[1,1],\"type\":\"scatter\"},{\"line\":{\"color\":\"blue\",\"width\":3},\"mode\":\"lines+markers\",\"name\":\"Rect: line (1, 0) to (4, 0)\",\"x\":[1,4],\"y\":[0,0],\"type\":\"scatter\"},{\"line\":{\"color\":\"yellow\",\"width\":3},\"mode\":\"lines+markers\",\"name\":\"Line segment (-2, 2) to (1, 6)\",\"x\":[-2,1],\"y\":[2,6],\"type\":\"scatter\"},{\"line\":{\"color\":\"yellow\",\"width\":3},\"mode\":\"lines+markers\",\"name\":\"Line segment (-1, 2) to (1, 6)\",\"x\":[-1,1],\"y\":[2,6],\"type\":\"scatter\"},{\"line\":{\"color\":\"yellow\",\"width\":3},\"mode\":\"lines+markers\",\"name\":\"Line segment (0, 2) to (1, 6)\",\"x\":[0,1],\"y\":[2,6],\"type\":\"scatter\"},{\"line\":{\"color\":\"yellow\",\"width\":3},\"mode\":\"lines+markers\",\"name\":\"Line segment (1, 2) to (1, 6)\",\"x\":[1,1],\"y\":[2,6],\"type\":\"scatter\"},{\"line\":{\"color\":\"yellow\",\"width\":3},\"mode\":\"lines+markers\",\"name\":\"Line segment (2, 2) to (1, 6)\",\"x\":[2,1],\"y\":[2,6],\"type\":\"scatter\"},{\"line\":{\"color\":\"yellow\",\"width\":3},\"mode\":\"lines+markers\",\"name\":\"Line segment (3, 2) to (1, 6)\",\"x\":[3,1],\"y\":[2,6],\"type\":\"scatter\"},{\"line\":{\"color\":\"yellow\",\"width\":3},\"mode\":\"lines+markers\",\"name\":\"Line segment (4, 2) to (1, 6)\",\"x\":[4,1],\"y\":[2,6],\"type\":\"scatter\"},{\"line\":{\"color\":\"red\",\"width\":3},\"mode\":\"lines+markers\",\"name\":\"Rect: line (-2, 2) to (-2, -5)\",\"x\":[-2,-2],\"y\":[2,-5],\"type\":\"scatter\"},{\"line\":{\"color\":\"red\",\"width\":3},\"mode\":\"lines+markers\",\"name\":\"Rect: line (4, 2) to (4, -5)\",\"x\":[4,4],\"y\":[2,-5],\"type\":\"scatter\"},{\"line\":{\"color\":\"red\",\"width\":3},\"mode\":\"lines+markers\",\"name\":\"Rect: line (-2, 2) to (4, 2)\",\"x\":[-2,4],\"y\":[2,2],\"type\":\"scatter\"},{\"line\":{\"color\":\"red\",\"width\":3},\"mode\":\"lines+markers\",\"name\":\"Rect: line (-2, -5) to (4, -5)\",\"x\":[-2,4],\"y\":[-5,-5],\"type\":\"scatter\"},{\"line\":{\"color\":\"blue\",\"width\":3},\"mode\":\"lines+markers\",\"name\":\"Rect: line (0, -3) to (0, -5)\",\"x\":[0,0],\"y\":[-3,-5],\"type\":\"scatter\"},{\"line\":{\"color\":\"blue\",\"width\":3},\"mode\":\"lines+markers\",\"name\":\"Rect: line (2, -3) to (2, -5)\",\"x\":[2,2],\"y\":[-3,-5],\"type\":\"scatter\"},{\"line\":{\"color\":\"blue\",\"width\":3},\"mode\":\"lines+markers\",\"name\":\"Rect: line (0, -3) to (2, -3)\",\"x\":[0,2],\"y\":[-3,-3],\"type\":\"scatter\"},{\"line\":{\"color\":\"blue\",\"width\":3},\"mode\":\"lines+markers\",\"name\":\"Rect: line (0, -5) to (2, -5)\",\"x\":[0,2],\"y\":[-5,-5],\"type\":\"scatter\"},{\"line\":{\"color\":\"blue\",\"width\":3},\"mode\":\"lines+markers\",\"name\":\"Rect: line (1, 1) to (1, 0)\",\"x\":[1,1],\"y\":[1,0],\"type\":\"scatter\"},{\"line\":{\"color\":\"blue\",\"width\":3},\"mode\":\"lines+markers\",\"name\":\"Rect: line (4, 1) to (4, 0)\",\"x\":[4,4],\"y\":[1,0],\"type\":\"scatter\"},{\"line\":{\"color\":\"blue\",\"width\":3},\"mode\":\"lines+markers\",\"name\":\"Rect: line (1, 1) to (4, 1)\",\"x\":[1,4],\"y\":[1,1],\"type\":\"scatter\"},{\"line\":{\"color\":\"blue\",\"width\":3},\"mode\":\"lines+markers\",\"name\":\"Rect: line (1, 0) to (4, 0)\",\"x\":[1,4],\"y\":[0,0],\"type\":\"scatter\"},{\"line\":{\"color\":\"yellow\",\"width\":3},\"mode\":\"lines+markers\",\"name\":\"Line segment (-2, 2) to (1, 6)\",\"x\":[-2,1],\"y\":[2,6],\"type\":\"scatter\"},{\"line\":{\"color\":\"yellow\",\"width\":3},\"mode\":\"lines+markers\",\"name\":\"Line segment (-1, 2) to (1, 6)\",\"x\":[-1,1],\"y\":[2,6],\"type\":\"scatter\"},{\"line\":{\"color\":\"yellow\",\"width\":3},\"mode\":\"lines+markers\",\"name\":\"Line segment (0, 2) to (1, 6)\",\"x\":[0,1],\"y\":[2,6],\"type\":\"scatter\"},{\"line\":{\"color\":\"yellow\",\"width\":3},\"mode\":\"lines+markers\",\"name\":\"Line segment (1, 2) to (1, 6)\",\"x\":[1,1],\"y\":[2,6],\"type\":\"scatter\"},{\"line\":{\"color\":\"yellow\",\"width\":3},\"mode\":\"lines+markers\",\"name\":\"Line segment (2, 2) to (1, 6)\",\"x\":[2,1],\"y\":[2,6],\"type\":\"scatter\"},{\"line\":{\"color\":\"yellow\",\"width\":3},\"mode\":\"lines+markers\",\"name\":\"Line segment (3, 2) to (1, 6)\",\"x\":[3,1],\"y\":[2,6],\"type\":\"scatter\"},{\"line\":{\"color\":\"yellow\",\"width\":3},\"mode\":\"lines+markers\",\"name\":\"Line segment (4, 2) to (1, 6)\",\"x\":[4,1],\"y\":[2,6],\"type\":\"scatter\"},{\"line\":{\"color\":\"green\",\"width\":3},\"mode\":\"lines+markers\",\"name\":\"Line segment (-5, -8) to (-4, -7)\",\"x\":[-5,-4],\"y\":[-8,-7],\"type\":\"scatter\"},{\"line\":{\"color\":\"green\",\"width\":3},\"mode\":\"lines+markers\",\"name\":\"Line segment (-4, -8) to (-3, -7)\",\"x\":[-4,-3],\"y\":[-8,-7],\"type\":\"scatter\"},{\"line\":{\"color\":\"green\",\"width\":3},\"mode\":\"lines+markers\",\"name\":\"Line segment (-3, -8) to (-2, -7)\",\"x\":[-3,-2],\"y\":[-8,-7],\"type\":\"scatter\"},{\"line\":{\"color\":\"green\",\"width\":3},\"mode\":\"lines+markers\",\"name\":\"Line segment (-2, -8) to (-1, -7)\",\"x\":[-2,-1],\"y\":[-8,-7],\"type\":\"scatter\"},{\"line\":{\"color\":\"green\",\"width\":3},\"mode\":\"lines+markers\",\"name\":\"Line segment (-1, -8) to (0, -7)\",\"x\":[-1,0],\"y\":[-8,-7],\"type\":\"scatter\"},{\"line\":{\"color\":\"green\",\"width\":3},\"mode\":\"lines+markers\",\"name\":\"Line segment (0, -8) to (1, -7)\",\"x\":[0,1],\"y\":[-8,-7],\"type\":\"scatter\"},{\"line\":{\"color\":\"green\",\"width\":3},\"mode\":\"lines+markers\",\"name\":\"Line segment (1, -8) to (2, -7)\",\"x\":[1,2],\"y\":[-8,-7],\"type\":\"scatter\"},{\"line\":{\"color\":\"green\",\"width\":3},\"mode\":\"lines+markers\",\"name\":\"Line segment (2, -8) to (3, -7)\",\"x\":[2,3],\"y\":[-8,-7],\"type\":\"scatter\"},{\"line\":{\"color\":\"green\",\"width\":3},\"mode\":\"lines+markers\",\"name\":\"Line segment (3, -8) to (4, -7)\",\"x\":[3,4],\"y\":[-8,-7],\"type\":\"scatter\"},{\"line\":{\"color\":\"green\",\"width\":3},\"mode\":\"lines+markers\",\"name\":\"Line segment (4, -8) to (5, -7)\",\"x\":[4,5],\"y\":[-8,-7],\"type\":\"scatter\"},{\"line\":{\"color\":\"green\",\"width\":3},\"mode\":\"lines+markers\",\"name\":\"Line segment (5, -8) to (6, -7)\",\"x\":[5,6],\"y\":[-8,-7],\"type\":\"scatter\"},{\"line\":{\"color\":\"green\",\"width\":3},\"mode\":\"lines+markers\",\"name\":\"Line segment (6, -8) to (7, -7)\",\"x\":[6,7],\"y\":[-8,-7],\"type\":\"scatter\"},{\"line\":{\"color\":\"green\",\"width\":3},\"mode\":\"lines+markers\",\"name\":\"Line segment (7, -8) to (8, -7)\",\"x\":[7,8],\"y\":[-8,-7],\"type\":\"scatter\"},{\"line\":{\"color\":\"green\",\"width\":3},\"mode\":\"lines+markers\",\"name\":\"Line segment (8, -8) to (9, -7)\",\"x\":[8,9],\"y\":[-8,-7],\"type\":\"scatter\"},{\"line\":{\"color\":\"green\",\"width\":3},\"mode\":\"lines+markers\",\"name\":\"Line segment (9, -8) to (10, -7)\",\"x\":[9,10],\"y\":[-8,-7],\"type\":\"scatter\"},{\"line\":{\"color\":\"red\",\"width\":3},\"mode\":\"lines+markers\",\"name\":\"Rect: line (-2, 2) to (-2, -5)\",\"x\":[-2,-2],\"y\":[2,-5],\"type\":\"scatter\"},{\"line\":{\"color\":\"red\",\"width\":3},\"mode\":\"lines+markers\",\"name\":\"Rect: line (4, 2) to (4, -5)\",\"x\":[4,4],\"y\":[2,-5],\"type\":\"scatter\"},{\"line\":{\"color\":\"red\",\"width\":3},\"mode\":\"lines+markers\",\"name\":\"Rect: line (-2, 2) to (4, 2)\",\"x\":[-2,4],\"y\":[2,2],\"type\":\"scatter\"},{\"line\":{\"color\":\"red\",\"width\":3},\"mode\":\"lines+markers\",\"name\":\"Rect: line (-2, -5) to (4, -5)\",\"x\":[-2,4],\"y\":[-5,-5],\"type\":\"scatter\"},{\"line\":{\"color\":\"blue\",\"width\":3},\"mode\":\"lines+markers\",\"name\":\"Rect: line (0, -3) to (0, -5)\",\"x\":[0,0],\"y\":[-3,-5],\"type\":\"scatter\"},{\"line\":{\"color\":\"blue\",\"width\":3},\"mode\":\"lines+markers\",\"name\":\"Rect: line (2, -3) to (2, -5)\",\"x\":[2,2],\"y\":[-3,-5],\"type\":\"scatter\"},{\"line\":{\"color\":\"blue\",\"width\":3},\"mode\":\"lines+markers\",\"name\":\"Rect: line (0, -3) to (2, -3)\",\"x\":[0,2],\"y\":[-3,-3],\"type\":\"scatter\"},{\"line\":{\"color\":\"blue\",\"width\":3},\"mode\":\"lines+markers\",\"name\":\"Rect: line (0, -5) to (2, -5)\",\"x\":[0,2],\"y\":[-5,-5],\"type\":\"scatter\"},{\"line\":{\"color\":\"blue\",\"width\":3},\"mode\":\"lines+markers\",\"name\":\"Rect: line (1, 1) to (1, 0)\",\"x\":[1,1],\"y\":[1,0],\"type\":\"scatter\"},{\"line\":{\"color\":\"blue\",\"width\":3},\"mode\":\"lines+markers\",\"name\":\"Rect: line (4, 1) to (4, 0)\",\"x\":[4,4],\"y\":[1,0],\"type\":\"scatter\"},{\"line\":{\"color\":\"blue\",\"width\":3},\"mode\":\"lines+markers\",\"name\":\"Rect: line (1, 1) to (4, 1)\",\"x\":[1,4],\"y\":[1,1],\"type\":\"scatter\"},{\"line\":{\"color\":\"blue\",\"width\":3},\"mode\":\"lines+markers\",\"name\":\"Rect: line (1, 0) to (4, 0)\",\"x\":[1,4],\"y\":[0,0],\"type\":\"scatter\"},{\"line\":{\"color\":\"yellow\",\"width\":3},\"mode\":\"lines+markers\",\"name\":\"Line segment (-2, 2) to (1, 6)\",\"x\":[-2,1],\"y\":[2,6],\"type\":\"scatter\"},{\"line\":{\"color\":\"yellow\",\"width\":3},\"mode\":\"lines+markers\",\"name\":\"Line segment (-1, 2) to (1, 6)\",\"x\":[-1,1],\"y\":[2,6],\"type\":\"scatter\"},{\"line\":{\"color\":\"yellow\",\"width\":3},\"mode\":\"lines+markers\",\"name\":\"Line segment (0, 2) to (1, 6)\",\"x\":[0,1],\"y\":[2,6],\"type\":\"scatter\"},{\"line\":{\"color\":\"yellow\",\"width\":3},\"mode\":\"lines+markers\",\"name\":\"Line segment (1, 2) to (1, 6)\",\"x\":[1,1],\"y\":[2,6],\"type\":\"scatter\"},{\"line\":{\"color\":\"yellow\",\"width\":3},\"mode\":\"lines+markers\",\"name\":\"Line segment (2, 2) to (1, 6)\",\"x\":[2,1],\"y\":[2,6],\"type\":\"scatter\"},{\"line\":{\"color\":\"yellow\",\"width\":3},\"mode\":\"lines+markers\",\"name\":\"Line segment (3, 2) to (1, 6)\",\"x\":[3,1],\"y\":[2,6],\"type\":\"scatter\"},{\"line\":{\"color\":\"yellow\",\"width\":3},\"mode\":\"lines+markers\",\"name\":\"Line segment (4, 2) to (1, 6)\",\"x\":[4,1],\"y\":[2,6],\"type\":\"scatter\"},{\"line\":{\"color\":\"green\",\"width\":3},\"mode\":\"lines+markers\",\"name\":\"Line segment (-5, -8) to (-4, -7)\",\"x\":[-5,-4],\"y\":[-8,-7],\"type\":\"scatter\"},{\"line\":{\"color\":\"green\",\"width\":3},\"mode\":\"lines+markers\",\"name\":\"Line segment (-4, -8) to (-3, -7)\",\"x\":[-4,-3],\"y\":[-8,-7],\"type\":\"scatter\"},{\"line\":{\"color\":\"green\",\"width\":3},\"mode\":\"lines+markers\",\"name\":\"Line segment (-3, -8) to (-2, -7)\",\"x\":[-3,-2],\"y\":[-8,-7],\"type\":\"scatter\"},{\"line\":{\"color\":\"green\",\"width\":3},\"mode\":\"lines+markers\",\"name\":\"Line segment (-2, -8) to (-1, -7)\",\"x\":[-2,-1],\"y\":[-8,-7],\"type\":\"scatter\"},{\"line\":{\"color\":\"green\",\"width\":3},\"mode\":\"lines+markers\",\"name\":\"Line segment (-1, -8) to (0, -7)\",\"x\":[-1,0],\"y\":[-8,-7],\"type\":\"scatter\"},{\"line\":{\"color\":\"green\",\"width\":3},\"mode\":\"lines+markers\",\"name\":\"Line segment (0, -8) to (1, -7)\",\"x\":[0,1],\"y\":[-8,-7],\"type\":\"scatter\"},{\"line\":{\"color\":\"green\",\"width\":3},\"mode\":\"lines+markers\",\"name\":\"Line segment (1, -8) to (2, -7)\",\"x\":[1,2],\"y\":[-8,-7],\"type\":\"scatter\"},{\"line\":{\"color\":\"green\",\"width\":3},\"mode\":\"lines+markers\",\"name\":\"Line segment (2, -8) to (3, -7)\",\"x\":[2,3],\"y\":[-8,-7],\"type\":\"scatter\"},{\"line\":{\"color\":\"green\",\"width\":3},\"mode\":\"lines+markers\",\"name\":\"Line segment (3, -8) to (4, -7)\",\"x\":[3,4],\"y\":[-8,-7],\"type\":\"scatter\"},{\"line\":{\"color\":\"green\",\"width\":3},\"mode\":\"lines+markers\",\"name\":\"Line segment (4, -8) to (5, -7)\",\"x\":[4,5],\"y\":[-8,-7],\"type\":\"scatter\"},{\"line\":{\"color\":\"green\",\"width\":3},\"mode\":\"lines+markers\",\"name\":\"Line segment (5, -8) to (6, -7)\",\"x\":[5,6],\"y\":[-8,-7],\"type\":\"scatter\"},{\"line\":{\"color\":\"green\",\"width\":3},\"mode\":\"lines+markers\",\"name\":\"Line segment (6, -8) to (7, -7)\",\"x\":[6,7],\"y\":[-8,-7],\"type\":\"scatter\"},{\"line\":{\"color\":\"green\",\"width\":3},\"mode\":\"lines+markers\",\"name\":\"Line segment (7, -8) to (8, -7)\",\"x\":[7,8],\"y\":[-8,-7],\"type\":\"scatter\"},{\"line\":{\"color\":\"green\",\"width\":3},\"mode\":\"lines+markers\",\"name\":\"Line segment (8, -8) to (9, -7)\",\"x\":[8,9],\"y\":[-8,-7],\"type\":\"scatter\"},{\"line\":{\"color\":\"green\",\"width\":3},\"mode\":\"lines+markers\",\"name\":\"Line segment (9, -8) to (10, -7)\",\"x\":[9,10],\"y\":[-8,-7],\"type\":\"scatter\"}],                        {\"template\":{\"data\":{\"bar\":[{\"error_x\":{\"color\":\"#2a3f5f\"},\"error_y\":{\"color\":\"#2a3f5f\"},\"marker\":{\"line\":{\"color\":\"#E5ECF6\",\"width\":0.5},\"pattern\":{\"fillmode\":\"overlay\",\"size\":10,\"solidity\":0.2}},\"type\":\"bar\"}],\"barpolar\":[{\"marker\":{\"line\":{\"color\":\"#E5ECF6\",\"width\":0.5},\"pattern\":{\"fillmode\":\"overlay\",\"size\":10,\"solidity\":0.2}},\"type\":\"barpolar\"}],\"carpet\":[{\"aaxis\":{\"endlinecolor\":\"#2a3f5f\",\"gridcolor\":\"white\",\"linecolor\":\"white\",\"minorgridcolor\":\"white\",\"startlinecolor\":\"#2a3f5f\"},\"baxis\":{\"endlinecolor\":\"#2a3f5f\",\"gridcolor\":\"white\",\"linecolor\":\"white\",\"minorgridcolor\":\"white\",\"startlinecolor\":\"#2a3f5f\"},\"type\":\"carpet\"}],\"choropleth\":[{\"colorbar\":{\"outlinewidth\":0,\"ticks\":\"\"},\"type\":\"choropleth\"}],\"contour\":[{\"colorbar\":{\"outlinewidth\":0,\"ticks\":\"\"},\"colorscale\":[[0.0,\"#0d0887\"],[0.1111111111111111,\"#46039f\"],[0.2222222222222222,\"#7201a8\"],[0.3333333333333333,\"#9c179e\"],[0.4444444444444444,\"#bd3786\"],[0.5555555555555556,\"#d8576b\"],[0.6666666666666666,\"#ed7953\"],[0.7777777777777778,\"#fb9f3a\"],[0.8888888888888888,\"#fdca26\"],[1.0,\"#f0f921\"]],\"type\":\"contour\"}],\"contourcarpet\":[{\"colorbar\":{\"outlinewidth\":0,\"ticks\":\"\"},\"type\":\"contourcarpet\"}],\"heatmap\":[{\"colorbar\":{\"outlinewidth\":0,\"ticks\":\"\"},\"colorscale\":[[0.0,\"#0d0887\"],[0.1111111111111111,\"#46039f\"],[0.2222222222222222,\"#7201a8\"],[0.3333333333333333,\"#9c179e\"],[0.4444444444444444,\"#bd3786\"],[0.5555555555555556,\"#d8576b\"],[0.6666666666666666,\"#ed7953\"],[0.7777777777777778,\"#fb9f3a\"],[0.8888888888888888,\"#fdca26\"],[1.0,\"#f0f921\"]],\"type\":\"heatmap\"}],\"heatmapgl\":[{\"colorbar\":{\"outlinewidth\":0,\"ticks\":\"\"},\"colorscale\":[[0.0,\"#0d0887\"],[0.1111111111111111,\"#46039f\"],[0.2222222222222222,\"#7201a8\"],[0.3333333333333333,\"#9c179e\"],[0.4444444444444444,\"#bd3786\"],[0.5555555555555556,\"#d8576b\"],[0.6666666666666666,\"#ed7953\"],[0.7777777777777778,\"#fb9f3a\"],[0.8888888888888888,\"#fdca26\"],[1.0,\"#f0f921\"]],\"type\":\"heatmapgl\"}],\"histogram\":[{\"marker\":{\"pattern\":{\"fillmode\":\"overlay\",\"size\":10,\"solidity\":0.2}},\"type\":\"histogram\"}],\"histogram2d\":[{\"colorbar\":{\"outlinewidth\":0,\"ticks\":\"\"},\"colorscale\":[[0.0,\"#0d0887\"],[0.1111111111111111,\"#46039f\"],[0.2222222222222222,\"#7201a8\"],[0.3333333333333333,\"#9c179e\"],[0.4444444444444444,\"#bd3786\"],[0.5555555555555556,\"#d8576b\"],[0.6666666666666666,\"#ed7953\"],[0.7777777777777778,\"#fb9f3a\"],[0.8888888888888888,\"#fdca26\"],[1.0,\"#f0f921\"]],\"type\":\"histogram2d\"}],\"histogram2dcontour\":[{\"colorbar\":{\"outlinewidth\":0,\"ticks\":\"\"},\"colorscale\":[[0.0,\"#0d0887\"],[0.1111111111111111,\"#46039f\"],[0.2222222222222222,\"#7201a8\"],[0.3333333333333333,\"#9c179e\"],[0.4444444444444444,\"#bd3786\"],[0.5555555555555556,\"#d8576b\"],[0.6666666666666666,\"#ed7953\"],[0.7777777777777778,\"#fb9f3a\"],[0.8888888888888888,\"#fdca26\"],[1.0,\"#f0f921\"]],\"type\":\"histogram2dcontour\"}],\"mesh3d\":[{\"colorbar\":{\"outlinewidth\":0,\"ticks\":\"\"},\"type\":\"mesh3d\"}],\"parcoords\":[{\"line\":{\"colorbar\":{\"outlinewidth\":0,\"ticks\":\"\"}},\"type\":\"parcoords\"}],\"pie\":[{\"automargin\":true,\"type\":\"pie\"}],\"scatter\":[{\"marker\":{\"colorbar\":{\"outlinewidth\":0,\"ticks\":\"\"}},\"type\":\"scatter\"}],\"scatter3d\":[{\"line\":{\"colorbar\":{\"outlinewidth\":0,\"ticks\":\"\"}},\"marker\":{\"colorbar\":{\"outlinewidth\":0,\"ticks\":\"\"}},\"type\":\"scatter3d\"}],\"scattercarpet\":[{\"marker\":{\"colorbar\":{\"outlinewidth\":0,\"ticks\":\"\"}},\"type\":\"scattercarpet\"}],\"scattergeo\":[{\"marker\":{\"colorbar\":{\"outlinewidth\":0,\"ticks\":\"\"}},\"type\":\"scattergeo\"}],\"scattergl\":[{\"marker\":{\"colorbar\":{\"outlinewidth\":0,\"ticks\":\"\"}},\"type\":\"scattergl\"}],\"scattermapbox\":[{\"marker\":{\"colorbar\":{\"outlinewidth\":0,\"ticks\":\"\"}},\"type\":\"scattermapbox\"}],\"scatterpolar\":[{\"marker\":{\"colorbar\":{\"outlinewidth\":0,\"ticks\":\"\"}},\"type\":\"scatterpolar\"}],\"scatterpolargl\":[{\"marker\":{\"colorbar\":{\"outlinewidth\":0,\"ticks\":\"\"}},\"type\":\"scatterpolargl\"}],\"scatterternary\":[{\"marker\":{\"colorbar\":{\"outlinewidth\":0,\"ticks\":\"\"}},\"type\":\"scatterternary\"}],\"surface\":[{\"colorbar\":{\"outlinewidth\":0,\"ticks\":\"\"},\"colorscale\":[[0.0,\"#0d0887\"],[0.1111111111111111,\"#46039f\"],[0.2222222222222222,\"#7201a8\"],[0.3333333333333333,\"#9c179e\"],[0.4444444444444444,\"#bd3786\"],[0.5555555555555556,\"#d8576b\"],[0.6666666666666666,\"#ed7953\"],[0.7777777777777778,\"#fb9f3a\"],[0.8888888888888888,\"#fdca26\"],[1.0,\"#f0f921\"]],\"type\":\"surface\"}],\"table\":[{\"cells\":{\"fill\":{\"color\":\"#EBF0F8\"},\"line\":{\"color\":\"white\"}},\"header\":{\"fill\":{\"color\":\"#C8D4E3\"},\"line\":{\"color\":\"white\"}},\"type\":\"table\"}]},\"layout\":{\"annotationdefaults\":{\"arrowcolor\":\"#2a3f5f\",\"arrowhead\":0,\"arrowwidth\":1},\"autotypenumbers\":\"strict\",\"coloraxis\":{\"colorbar\":{\"outlinewidth\":0,\"ticks\":\"\"}},\"colorscale\":{\"diverging\":[[0,\"#8e0152\"],[0.1,\"#c51b7d\"],[0.2,\"#de77ae\"],[0.3,\"#f1b6da\"],[0.4,\"#fde0ef\"],[0.5,\"#f7f7f7\"],[0.6,\"#e6f5d0\"],[0.7,\"#b8e186\"],[0.8,\"#7fbc41\"],[0.9,\"#4d9221\"],[1,\"#276419\"]],\"sequential\":[[0.0,\"#0d0887\"],[0.1111111111111111,\"#46039f\"],[0.2222222222222222,\"#7201a8\"],[0.3333333333333333,\"#9c179e\"],[0.4444444444444444,\"#bd3786\"],[0.5555555555555556,\"#d8576b\"],[0.6666666666666666,\"#ed7953\"],[0.7777777777777778,\"#fb9f3a\"],[0.8888888888888888,\"#fdca26\"],[1.0,\"#f0f921\"]],\"sequentialminus\":[[0.0,\"#0d0887\"],[0.1111111111111111,\"#46039f\"],[0.2222222222222222,\"#7201a8\"],[0.3333333333333333,\"#9c179e\"],[0.4444444444444444,\"#bd3786\"],[0.5555555555555556,\"#d8576b\"],[0.6666666666666666,\"#ed7953\"],[0.7777777777777778,\"#fb9f3a\"],[0.8888888888888888,\"#fdca26\"],[1.0,\"#f0f921\"]]},\"colorway\":[\"#636efa\",\"#EF553B\",\"#00cc96\",\"#ab63fa\",\"#FFA15A\",\"#19d3f3\",\"#FF6692\",\"#B6E880\",\"#FF97FF\",\"#FECB52\"],\"font\":{\"color\":\"#2a3f5f\"},\"geo\":{\"bgcolor\":\"white\",\"lakecolor\":\"white\",\"landcolor\":\"#E5ECF6\",\"showlakes\":true,\"showland\":true,\"subunitcolor\":\"white\"},\"hoverlabel\":{\"align\":\"left\"},\"hovermode\":\"closest\",\"mapbox\":{\"style\":\"light\"},\"paper_bgcolor\":\"white\",\"plot_bgcolor\":\"#E5ECF6\",\"polar\":{\"angularaxis\":{\"gridcolor\":\"white\",\"linecolor\":\"white\",\"ticks\":\"\"},\"bgcolor\":\"#E5ECF6\",\"radialaxis\":{\"gridcolor\":\"white\",\"linecolor\":\"white\",\"ticks\":\"\"}},\"scene\":{\"xaxis\":{\"backgroundcolor\":\"#E5ECF6\",\"gridcolor\":\"white\",\"gridwidth\":2,\"linecolor\":\"white\",\"showbackground\":true,\"ticks\":\"\",\"zerolinecolor\":\"white\"},\"yaxis\":{\"backgroundcolor\":\"#E5ECF6\",\"gridcolor\":\"white\",\"gridwidth\":2,\"linecolor\":\"white\",\"showbackground\":true,\"ticks\":\"\",\"zerolinecolor\":\"white\"},\"zaxis\":{\"backgroundcolor\":\"#E5ECF6\",\"gridcolor\":\"white\",\"gridwidth\":2,\"linecolor\":\"white\",\"showbackground\":true,\"ticks\":\"\",\"zerolinecolor\":\"white\"}},\"shapedefaults\":{\"line\":{\"color\":\"#2a3f5f\"}},\"ternary\":{\"aaxis\":{\"gridcolor\":\"white\",\"linecolor\":\"white\",\"ticks\":\"\"},\"baxis\":{\"gridcolor\":\"white\",\"linecolor\":\"white\",\"ticks\":\"\"},\"bgcolor\":\"#E5ECF6\",\"caxis\":{\"gridcolor\":\"white\",\"linecolor\":\"white\",\"ticks\":\"\"}},\"title\":{\"x\":0.05},\"xaxis\":{\"automargin\":true,\"gridcolor\":\"white\",\"linecolor\":\"white\",\"ticks\":\"\",\"title\":{\"standoff\":15},\"zerolinecolor\":\"white\",\"zerolinewidth\":2},\"yaxis\":{\"automargin\":true,\"gridcolor\":\"white\",\"linecolor\":\"white\",\"ticks\":\"\",\"title\":{\"standoff\":15},\"zerolinecolor\":\"white\",\"zerolinewidth\":2}}},\"yaxis\":{\"range\":[-20.0,25.0],\"showgrid\":false,\"gridwidth\":1,\"gridcolor\":\"red\",\"scaleanchor\":\"x\",\"scaleratio\":1,\"automargin\":false,\"tickmode\":\"linear\",\"tick0\":-20.0,\"dtick\":1.0,\"visible\":false},\"xaxis\":{\"range\":[-20.0,25.0],\"showgrid\":false,\"gridwidth\":1,\"gridcolor\":\"red\",\"automargin\":false,\"tickmode\":\"linear\",\"tick0\":-20.0,\"dtick\":1.0,\"visible\":false},\"height\":920.0,\"width\":920.0,\"autosize\":false,\"showlegend\":false,\"annotations\":[{\"align\":\"center\",\"font\":{\"color\":\"black\",\"family\":\"Courier New, monospace\",\"size\":16},\"showarrow\":false,\"text\":\"Misaugela<br>\\n9th grade<br>\\nECA<br>\\n2023\",\"x\":15,\"y\":0}]},                        {\"responsive\": true}                    ).then(function(){\n",
              "                            \n",
              "var gd = document.getElementById('afc49acc-6058-4d26-8191-31f242009dd6');\n",
              "var x = new MutationObserver(function (mutations, observer) {{\n",
              "        var display = window.getComputedStyle(gd).display;\n",
              "        if (!display || display === 'none') {{\n",
              "            console.log([gd, 'removed!']);\n",
              "            Plotly.purge(gd);\n",
              "            observer.disconnect();\n",
              "        }}\n",
              "}});\n",
              "\n",
              "// Listen for the removal of the full notebook cells\n",
              "var notebookContainer = gd.closest('#notebook-container');\n",
              "if (notebookContainer) {{\n",
              "    x.observe(notebookContainer, {childList: true});\n",
              "}}\n",
              "\n",
              "// Listen for the clearing of the current output cell\n",
              "var outputEl = gd.closest('.output');\n",
              "if (outputEl) {{\n",
              "    x.observe(outputEl, {childList: true});\n",
              "}}\n",
              "\n",
              "                        })                };                            </script>        </div>\n",
              "</body>\n",
              "</html>"
            ]
          },
          "metadata": {}
        }
      ]
    },
    {
      "cell_type": "markdown",
      "source": [
        "## Create a video using generated video frames\n",
        "We can create a list of all of the video frame images using:\n",
        "```\n",
        "file_list = ['frame1.png', 'frame2.png', 'frame3.png', 'frame4.png', 'frame5.png']\n",
        "```\n",
        "We need to define a name for our video:\n",
        "```\n",
        "video_name = \"video2.mp4\"\n",
        "```\n",
        "To display the video, we simply use:\n",
        "```\n",
        "HTML(CreateVideo(video_name, file_list, fps=0.5))\n",
        "```\n",
        "Here, note that <tt>fps</tt> refers to the number of frames per second that we are displaying. At 0.5, it means that there is a delay of half a second between video frames.\n",
        "\n",
        "## Assignment\n",
        "\n",
        "Try the following:\n",
        "1. Slow down the video display by changing fps.\n",
        "2. Speed up the video display.\n",
        "3. Change the order of the video frames.\n",
        "\n",
        "\n"
      ],
      "metadata": {
        "id": "un83-QdfRzCv"
      }
    },
    {
      "cell_type": "code",
      "source": [
        "file_list = ['frame1.png', 'frame2.png', 'frame3.png', 'frame4.png', 'frame5.png']\n",
        "\n",
        "video_name = \"video2.mp4\"\n",
        "HTML(CreateVideo(video_name, file_list, fps=0.5))"
      ],
      "metadata": {
        "id": "dnTuGD6-u0b5",
        "outputId": "6822dd3b-edb3-41a1-a047-b38972f0c1bd",
        "colab": {
          "base_uri": "https://localhost:8080/",
          "height": 959
        }
      },
      "execution_count": null,
      "outputs": [
        {
          "output_type": "stream",
          "name": "stdout",
          "text": [
            "Compressed video2.mp4 into temp_video.mp4\n"
          ]
        },
        {
          "output_type": "execute_result",
          "data": {
            "text/plain": [
              "<IPython.core.display.HTML object>"
            ],
            "text/html": [
              "\n",
              "                 <video width=\"920\" height=\"920\" controls loop autoplay>\n",
              "                    <source src=\"data:video/mp4;base64,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\" type=\"video/mp4\">\n",
              "                 </video> "
            ]
          },
          "metadata": {},
          "execution_count": 33
        }
      ]
    }
  ],
  "metadata": {
    "colab": {
      "provenance": [],
      "collapsed_sections": [
        "TRS2iLxlVaFc",
        "rzZpUgfQ-hiO",
        "HQrLCNXFj4Eh"
      ],
      "toc_visible": true
    },
    "kernelspec": {
      "display_name": "Python 3 (ipykernel)",
      "language": "python",
      "name": "python3"
    },
    "language_info": {
      "codemirror_mode": {
        "name": "ipython",
        "version": 3
      },
      "file_extension": ".py",
      "mimetype": "text/x-python",
      "name": "python",
      "nbconvert_exporter": "python",
      "pygments_lexer": "ipython3",
      "version": "3.9.15"
    }
  },
  "nbformat": 4,
  "nbformat_minor": 0
}