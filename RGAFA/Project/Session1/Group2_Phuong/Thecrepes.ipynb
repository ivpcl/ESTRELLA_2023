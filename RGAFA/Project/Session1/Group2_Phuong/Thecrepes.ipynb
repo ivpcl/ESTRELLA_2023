{
 "cells": [
  {
   "cell_type": "markdown",
   "metadata": {
    "id": "sD20JoGCS101"
   },
   "source": [
    "# Initialization code: get files from the internet"
   ]
  },
  {
   "cell_type": "code",
   "execution_count": 2,
   "metadata": {
    "colab": {
     "base_uri": "https://localhost:8080/"
    },
    "id": "1VlugE6gFsJk",
    "outputId": "d2166004-fa50-48d3-e9ff-052c421db4c3"
   },
   "outputs": [
    {
     "name": "stdout",
     "output_type": "stream",
     "text": [
      "--2023-03-15 14:37:11--  https://raw.githubusercontent.com/ivpcl/REVISION-3-Level-1-2019-English/main/Level1-Projects/AOLME_Fraction_v2.py\n",
      "Resolving raw.githubusercontent.com (raw.githubusercontent.com)... 185.199.108.133, 185.199.109.133, 185.199.110.133, ...\n",
      "Connecting to raw.githubusercontent.com (raw.githubusercontent.com)|185.199.108.133|:443... connected.\n",
      "HTTP request sent, awaiting response... 200 OK\n",
      "Length: 47739 (47K) [text/plain]\n",
      "Saving to: ‘AOLME_Fraction_v2.py.1’\n",
      "\n",
      "\r",
      "AOLME_Fraction_v2.p   0%[                    ]       0  --.-KB/s               \r",
      "AOLME_Fraction_v2.p 100%[===================>]  46.62K  --.-KB/s    in 0.001s  \n",
      "\n",
      "2023-03-15 14:37:11 (52.3 MB/s) - ‘AOLME_Fraction_v2.py.1’ saved [47739/47739]\n",
      "\n",
      "--2023-03-15 14:37:11--  https://raw.githubusercontent.com/ivpcl/REVISION-3-Level-1-2019-English/main/Level1-Projects/Bob.jpg\n",
      "Resolving raw.githubusercontent.com (raw.githubusercontent.com)... 185.199.109.133, 185.199.108.133, 185.199.110.133, ...\n",
      "Connecting to raw.githubusercontent.com (raw.githubusercontent.com)|185.199.109.133|:443... connected.\n",
      "HTTP request sent, awaiting response... 200 OK\n",
      "Length: 37538 (37K) [image/jpeg]\n",
      "Saving to: ‘Bob.jpg.1’\n",
      "\n",
      "Bob.jpg.1           100%[===================>]  36.66K  --.-KB/s    in 0s      \n",
      "\n",
      "2023-03-15 14:37:11 (93.0 MB/s) - ‘Bob.jpg.1’ saved [37538/37538]\n",
      "\n"
     ]
    }
   ],
   "source": [
    "!wget https://raw.githubusercontent.com/ivpcl/REVISION-3-Level-1-2019-English/main/Level1-Projects/AOLME_Fraction_v2.py\n",
    "!wget https://raw.githubusercontent.com/ivpcl/REVISION-3-Level-1-2019-English/main/Level1-Projects/Bob.jpg\n",
    "from AOLME_Fraction_v2 import FrV\n",
    "from IPython.display import HTML"
   ]
  },
  {
   "cell_type": "markdown",
   "metadata": {
    "id": "qnoE59L8KZv0"
   },
   "source": [
    "# Making Videos with Fraction Objects\n",
    "The fraction objects can be used to make videos.\n",
    "\n",
    "<b>After we create the pictures,</b> the following code creates and displays a video.\n",
    "\n",
    "The video is specified by assigning two variables:\n",
    "```\n",
    "video_name = \"myvideo.mp4\"\n",
    "my_fps = 1.0\n",
    "```\n",
    "The <tt>video_name</tt> defines the name of the video file. This file is stored on your local directory.\n",
    "\n",
    "The variable <tt>my_fps</tt> refers to the number of frames per second that we will display the video. Thus, <tt>my_fps=1</tt> means that the video will be displayed at the rate of one frame every second.\n",
    "\n",
    "Once the video has been created, the fraction objects have a special function called <tt>CreateVideo(video_name, fps=my_fps)</tt> that creates the video.\n",
    "\n",
    "To display the video on your browser, we need to pass the video output to the <tt>HTML()</tt> function as given by:\n",
    "```\n",
    "HTML(frac.CreateVideo(video_name, fps=0.5))\n",
    "```\n",
    "Once the video is created, you can click on it's window to download and save it.\n",
    "\n",
    "Run the code below to see how it works.\n",
    "\n",
    "Adjust the number of frames per second to change how the video appears!"
   ]
  },
  {
   "cell_type": "code",
   "execution_count": 9,
   "metadata": {
    "colab": {
     "base_uri": "https://localhost:8080/",
     "height": 652
    },
    "id": "JpW3785CKfgb",
    "outputId": "6fd4be73-bf23-4c24-9850-998cf507bdc4"
   },
   "outputs": [
    {
     "data": {
      "image/png": "[encoded data removed]",
      "text/plain": [
       "<Figure size 432x288 with 1 Axes>"
      ]
     },
     "metadata": {
      "needs_background": "light"
     },
     "output_type": "display_data"
    },
    {
     "data": {
      "image/png": "[encoded data removed]",
      "text/plain": [
       "<Figure size 432x288 with 1 Axes>"
      ]
     },
     "metadata": {
      "needs_background": "light"
     },
     "output_type": "display_data"
    },
    {
     "data": {
      "image/png": "[encoded data removed]",
      "text/plain": [
       "<Figure size 432x288 with 1 Axes>"
      ]
     },
     "metadata": {
      "needs_background": "light"
     },
     "output_type": "display_data"
    },
    {
     "name": "stdout",
     "output_type": "stream",
     "text": [
      "Compressed myvideo.mp4 into temp_video.mp4\n"
     ]
    },
    {
     "data": {
      "text/html": [
       "\n",
       "                 <video width=500 controls loop autoplay>\n",
       "                    <source src=\"data:video/mp4;base64,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\" type=\"video/mp4\">\n",
       "                 </video> "
      ],
      "text/plain": [
       "<IPython.core.display.HTML object>"
      ]
     },
     "execution_count": 9,
     "metadata": {},
     "output_type": "execute_result"
    }
   ],
   "source": [
    "# Video creation demo\n",
    "frac = FrV()\n",
    "f1 = frac.AddFrac(2, 4, comment=\"2/4\")\n",
    "f2 = frac.AddFrac(1, 3, comment=\"1/3\")\n",
    "f3 = frac.AddFrac(4, 3, comment=\"4/3\")\n",
    "\n",
    "# Create and display the video:\n",
    "video_name = \"myvideo.mp4\"\n",
    "my_fps     = 500.0\n",
    "HTML(frac.CreateVideo(video_name, fps=my_fps))"
   ]
  },
  {
   "cell_type": "markdown",
   "metadata": {
    "id": "3pWnUXafTajD"
   },
   "source": [
    "# Creating a video for multiplication\n",
    "Fractions can create a video of the multiplication process for you!\n",
    "\n",
    "We specify the multiplication using:\n",
    "```\n",
    "c = \"Video of 1/3 * 3\"\n",
    "num  = 1 # Numerator\n",
    "den  = 3 # Denominator\n",
    "mult = 3 # Multiplier\n",
    "```\n",
    "Here, <tt>c</tt> holds a comment.\n",
    "\n",
    "As before, 1/3 mean the numerator (num) is 1 and the denominator (den) is 3.\n",
    "\n",
    "We can then add the video frames to our video using:\n",
    "```\n",
    "frac.AddMult(num, den, mult, comment=c)\n",
    "```\n",
    "Run the code below to see how it works!\n",
    "\n",
    "Note that we also have to save and display the video as before.\n",
    "\n",
    "\n"
   ]
  },
  {
   "cell_type": "code",
   "execution_count": 25,
   "metadata": {
    "colab": {
     "base_uri": "https://localhost:8080/",
     "height": 819
    },
    "id": "1FAiD_dKPmDs",
    "outputId": "ff9553ff-5359-4507-f50f-40e40c42e56e"
   },
   "outputs": [
    {
     "data": {
      "image/png": "[encoded data removed]",
      "text/plain": [
       "<Figure size 432x288 with 1 Axes>"
      ]
     },
     "metadata": {
      "needs_background": "light"
     },
     "output_type": "display_data"
    },
    {
     "data": {
      "image/png": "[encoded data removed]",
      "text/plain": [
       "<Figure size 432x288 with 1 Axes>"
      ]
     },
     "metadata": {
      "needs_background": "light"
     },
     "output_type": "display_data"
    },
    {
     "data": {
      "image/png": "[encoded data removed]",
      "text/plain": [
       "<Figure size 432x288 with 1 Axes>"
      ]
     },
     "metadata": {
      "needs_background": "light"
     },
     "output_type": "display_data"
    },
    {
     "name": "stdout",
     "output_type": "stream",
     "text": [
      "Compressed michaeljakson.mp4 into temp_video.mp4\n"
     ]
    },
    {
     "data": {
      "text/html": [
       "\n",
       "                 <video width=500 controls loop autoplay>\n",
       "                    <source src=\"data:video/mp4;base64,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\" type=\"video/mp4\">\n",
       "                 </video> "
      ],
      "text/plain": [
       "<IPython.core.display.HTML object>"
      ]
     },
     "execution_count": 25,
     "metadata": {},
     "output_type": "execute_result"
    }
   ],
   "source": [
    "# Create the fraction object\n",
    "frac = FrV()\n",
    "\n",
    "c = \"Video of 2 1/4 / 3/4\"\n",
    "num  = 3 # Numerator\n",
    "den  = 4# Denominator\n",
    "mult = 3 # Multplier\n",
    "frac.AddMult(num, den, mult, comment=c)\n",
    "\n",
    "#c = \"Video of 1 / 1/4\"\n",
    "#num  = 1 # Numerator\n",
    "#den  = 4# Denominator\n",
    "#mult = 4 # Multplier\n",
    "#frac.AddMult(num, den, mult, comment=c)\n",
    "\n",
    "#c = \"Video of 5/6 / 1/6\"\n",
    "#num  = 1   # Numerator\n",
    "#den  = 6# Denominator\n",
    "#mult = 5# Multplier\n",
    "\n",
    "\n",
    "#frac.AddMult(num, den, mult, comment=c)\n",
    "\n",
    "# Create and display the video:\n",
    "video_name = \"michaeljakson.mp4\"\n",
    "my_fps = 8\n",
    "HTML(frac.CreateVideo(video_name, fps=my_fps))"
   ]
  },
  {
   "cell_type": "markdown",
   "metadata": {
    "id": "M_qXZxWzWZP4"
   },
   "source": [
    "# Adding text to your video\n",
    "You can add simple text to your video using:\n",
    "```\n",
    "my_string = \"My name is Mario\"\n",
    "frac.addTextFrame(text=my_string)\n",
    "```\n",
    "Run the code below to see how you can add text.\n"
   ]
  },
  {
   "cell_type": "code",
   "execution_count": null,
   "metadata": {
    "colab": {
     "base_uri": "https://localhost:8080/",
     "height": 1000
    },
    "id": "UwlXDwtaQqjw",
    "outputId": "bab3b385-c2b2-446a-da65-9e7826a763c7"
   },
   "outputs": [
    {
     "data": {
      "image/png": "[encoded data removed]",
      "text/plain": [
       "<Figure size 640x480 with 1 Axes>"
      ]
     },
     "metadata": {},
     "output_type": "display_data"
    },
    {
     "data": {
      "image/png": "[encoded data removed]",
      "text/plain": [
       "<Figure size 640x480 with 1 Axes>"
      ]
     },
     "metadata": {},
     "output_type": "display_data"
    },
    {
     "data": {
      "image/png": "[encoded data removed]",
      "text/plain": [
       "<Figure size 640x480 with 1 Axes>"
      ]
     },
     "metadata": {},
     "output_type": "display_data"
    },
    {
     "name": "stderr",
     "output_type": "stream",
     "text": [
      "[ WARN:0@1.377] global /private/var/folders/sy/f16zz6x50xz3113nwtb9bvq00000gp/T/abs_506zufg7xt/croots/recipe/opencv-suite_1664548331847/work/modules/videoio/src/cap_gstreamer.cpp (2180) open OpenCV | GStreamer warning: cannot link elements\n",
      "2023-01-11 15:03:43.790 python[4077:34353] AVF: AVAssetWriter status: Cannot Save\n"
     ]
    },
    {
     "data": {
      "text/html": [
       "\n",
       "             <video width=\"320\" height=\"240\" controls>\n",
       "             <source src=\"video.mp4\" type=\"video/mp4\">\n",
       "             </video>\n",
       "             "
      ],
      "text/plain": [
       "<IPython.core.display.HTML object>"
      ]
     },
     "execution_count": 4,
     "metadata": {},
     "output_type": "execute_result"
    }
   ],
   "source": [
    "# Create the video object\n",
    "frac = FrV()\n",
    "\n",
    "# Add the name\n",
    "my_string = \"My name is Mario\"\n",
    "frac.addTextFrame(text=my_string)\n",
    "\n",
    "# Add some more text\n",
    "my_string = \"This is my assignment. I completed it in class!\"\n",
    "frac.addTextFrame(text=my_string)\n",
    "\n",
    "# A simple fraction:\n",
    "frac1 = frac.AddFrac(6, 10, comment=\"6/10\")\n",
    "\n",
    "# Display the video:\n",
    "HTML(frac.CreateVideo(video_name, fps=0.25))"
   ]
  }
 ],
 "metadata": {
  "colab": {
   "provenance": []
  },
  "kernelspec": {
   "display_name": "Python 3",
   "language": "python",
   "name": "python3"
  },
  "language_info": {
   "codemirror_mode": {
    "name": "ipython",
    "version": 3
   },
   "file_extension": ".py",
   "mimetype": "text/x-python",
   "name": "python",
   "nbconvert_exporter": "python",
   "pygments_lexer": "ipython3",
   "version": "3.9.5"
  }
 },
 "nbformat": 4,
 "nbformat_minor": 1
}
